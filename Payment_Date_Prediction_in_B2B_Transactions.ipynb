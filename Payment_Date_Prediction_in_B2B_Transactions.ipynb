{
  "nbformat": 4,
  "nbformat_minor": 0,
  "metadata": {
    "colab": {
      "name": "Payment Date Prediction in B2B Transactions.ipynb",
      "provenance": [],
      "collapsed_sections": [
        "nA8Z-zQHkB1d",
        "8uKHldHqkL2s",
        "HyCd-L1aoRnH",
        "xF6MjlZo6Z7t",
        "inTL5-4c71en",
        "9VvHyPhy8CWS",
        "YHfs5Kki_ABx",
        "kfHlp0tyU5Py",
        "jeddzpdkho0u",
        "jl6ZwsZIimmY",
        "dPwGUXvL1GcU"
      ],
      "toc_visible": true,
      "authorship_tag": "ABX9TyO5+lTxew/dNbWiLFqOfPCW",
      "include_colab_link": true
    },
    "kernelspec": {
      "display_name": "Python 3",
      "name": "python3"
    },
    "accelerator": "TPU"
  },
  "cells": [
    {
      "cell_type": "markdown",
      "metadata": {
        "id": "view-in-github",
        "colab_type": "text"
      },
      "source": [
        "<a href=\"https://colab.research.google.com/github/Niyati-Sinha/Machine-Learning-Predict-Customer-Delay-By-Analysing-Previous-Data-Records/blob/main/Payment_Date_Prediction_in_B2B_Transactions.ipynb\" target=\"_parent\"><img src=\"https://colab.research.google.com/assets/colab-badge.svg\" alt=\"Open In Colab\"/></a>"
      ]
    },
    {
      "cell_type": "markdown",
      "metadata": {
        "id": "56hcCCnhjiLB"
      },
      "source": [
        "**CODE BY: NIYATI SINHA**\n",
        "\n",
        "**ROLL NO: 1805501**\n",
        "\n",
        "**DARTH VANDER**\n",
        "\n",
        "######In this notebook where ever I did some mistake or anything, mosty I have just commented that part of code rather than removing it.\n",
        "\n",
        "######Please read the headings & comments to not what is being done by that block of code."
      ]
    },
    {
      "cell_type": "markdown",
      "metadata": {
        "id": "9uvpmO87jqMJ"
      },
      "source": [
        "#**Importing Libraries and Data-Set**"
      ]
    },
    {
      "cell_type": "code",
      "metadata": {
        "colab": {
          "base_uri": "https://localhost:8080/"
        },
        "id": "5p8DzDuLjrec",
        "outputId": "10cb0a41-2ddb-444d-9730-6ac1a0810f3c"
      },
      "source": [
        "from google.colab import drive\n",
        "drive.mount('/content/drive')"
      ],
      "execution_count": 1,
      "outputs": [
        {
          "output_type": "stream",
          "text": [
            "Mounted at /content/drive\n"
          ],
          "name": "stdout"
        }
      ]
    },
    {
      "cell_type": "code",
      "metadata": {
        "id": "oc1yqm8HjzUX"
      },
      "source": [
        "import pandas as pd\n",
        "import numpy as np\n",
        "import random\n",
        "import matplotlib.pyplot as plt\n",
        "import seaborn as sns\n",
        "import datetime\n",
        "import re"
      ],
      "execution_count": 2,
      "outputs": []
    },
    {
      "cell_type": "markdown",
      "metadata": {
        "id": "nA8Z-zQHkB1d"
      },
      "source": [
        "#**Overview Of the DATA SET**"
      ]
    },
    {
      "cell_type": "code",
      "metadata": {
        "colab": {
          "base_uri": "https://localhost:8080/",
          "height": 160
        },
        "id": "H1TJrS9lkHUZ",
        "outputId": "af0d7b54-96e5-40f8-c341-42bd096e8d7e"
      },
      "source": [
        "''' *****************************Data Dictionary**********************\n",
        "\n",
        "1. business_code : company code of the account\n",
        "2.cust_number : customer number given to all the customers of the Account\n",
        "3.name_customer : name of the customer\n",
        "4.clear_date : The date on which the customer clears an invoice, or in simple terms, they\n",
        "make the full payment\n",
        "5.buisness_year :\n",
        "6.doc_id : It is also an unique identifier of an invoice is a primary key for\n",
        "acct_doc_header table\n",
        "7.posting_date :\n",
        "8.document_create_date : The date on which the invoice document was created\n",
        "#                       * The date on which the document was created\n",
        "9.document_create_date.1 :\n",
        "# due_in_date : The date on which the customer is expected to clear an invoice\n",
        "# invoice_currency : The currency of the invoice amount in the document for the invoice\n",
        "# document type : It represents the type of document. eg D1 represents Invoice\n",
        "# posting_id key : Indicator to identify whether an AR item is invoice, deduction, credit\n",
        "memo based on its value. Apllicable for SAP ERP\n",
        "# area_business : Business area in sap is defined as an organisationalarea within the financial\n",
        "accounting module\n",
        "# total_open_amount : The amount that is yet to be paid for that invoice\n",
        "# baseline_create_date : The date on which the Invoice was created\n",
        "# cust_payment_terms : Business terms and agreements between customers and accounts on\n",
        "discounts and days of payment\n",
        "# invoice_id : Unique number assigned when a seller creates an Invoice\n",
        "# isOpen : Indicator of whether an invoice is open or closed. isopen = 1, means the invoice is open\n",
        "'''"
      ],
      "execution_count": 3,
      "outputs": [
        {
          "output_type": "execute_result",
          "data": {
            "application/vnd.google.colaboratory.intrinsic+json": {
              "type": "string"
            },
            "text/plain": [
              "' *****************************Data Dictionary**********************\\n\\n1. business_code : company code of the account\\n2.cust_number : customer number given to all the customers of the Account\\n3.name_customer : name of the customer\\n4.clear_date : The date on which the customer clears an invoice, or in simple terms, they\\nmake the full payment\\n5.buisness_year :\\n6.doc_id : It is also an unique identifier of an invoice is a primary key for\\nacct_doc_header table\\n7.posting_date :\\n8.document_create_date : The date on which the invoice document was created\\n#                       * The date on which the document was created\\n9.document_create_date.1 :\\n# due_in_date : The date on which the customer is expected to clear an invoice\\n# invoice_currency : The currency of the invoice amount in the document for the invoice\\n# document type : It represents the type of document. eg D1 represents Invoice\\n# posting_id key : Indicator to identify whether an AR item is invoice, deduction, credit\\nmemo based on its value. Apllicable for SAP ERP\\n# area_business : Business area in sap is defined as an organisationalarea within the financial\\naccounting module\\n# total_open_amount : The amount that is yet to be paid for that invoice\\n# baseline_create_date : The date on which the Invoice was created\\n# cust_payment_terms : Business terms and agreements between customers and accounts on\\ndiscounts and days of payment\\n# invoice_id : Unique number assigned when a seller creates an Invoice\\n# isOpen : Indicator of whether an invoice is open or closed. isopen = 1, means the invoice is open\\n'"
            ]
          },
          "metadata": {
            "tags": []
          },
          "execution_count": 3
        }
      ]
    },
    {
      "cell_type": "markdown",
      "metadata": {
        "id": "8uKHldHqkL2s"
      },
      "source": [
        "#**Read Data Set**"
      ]
    },
    {
      "cell_type": "code",
      "metadata": {
        "id": "uSH4YiWTkNYD"
      },
      "source": [
        "#Reading 1805501.csv from My Drive and storing it as a dataframe\n",
        "df=pd.read_csv(r'/content/drive/My Drive/Colab Datasets/1805501.csv')\n",
        "#df"
      ],
      "execution_count": 4,
      "outputs": []
    },
    {
      "cell_type": "markdown",
      "metadata": {
        "id": "YJmrMKt7kVov"
      },
      "source": [
        "**Know your Data Set**"
      ]
    },
    {
      "cell_type": "code",
      "metadata": {
        "colab": {
          "base_uri": "https://localhost:8080/",
          "height": 327
        },
        "id": "NhXZNCqkkfkc",
        "outputId": "d03eb32b-b63f-442e-abb4-77aa168cc060"
      },
      "source": [
        "# Returns the first 5 rows of the dataframe.\n",
        "df.head()"
      ],
      "execution_count": 5,
      "outputs": [
        {
          "output_type": "execute_result",
          "data": {
            "text/html": [
              "<div>\n",
              "<style scoped>\n",
              "    .dataframe tbody tr th:only-of-type {\n",
              "        vertical-align: middle;\n",
              "    }\n",
              "\n",
              "    .dataframe tbody tr th {\n",
              "        vertical-align: top;\n",
              "    }\n",
              "\n",
              "    .dataframe thead th {\n",
              "        text-align: right;\n",
              "    }\n",
              "</style>\n",
              "<table border=\"1\" class=\"dataframe\">\n",
              "  <thead>\n",
              "    <tr style=\"text-align: right;\">\n",
              "      <th></th>\n",
              "      <th>business_code</th>\n",
              "      <th>cust_number</th>\n",
              "      <th>name_customer</th>\n",
              "      <th>clear_date</th>\n",
              "      <th>buisness_year</th>\n",
              "      <th>doc_id</th>\n",
              "      <th>posting_date</th>\n",
              "      <th>document_create_date</th>\n",
              "      <th>document_create_date.1</th>\n",
              "      <th>due_in_date</th>\n",
              "      <th>invoice_currency</th>\n",
              "      <th>document type</th>\n",
              "      <th>posting_id</th>\n",
              "      <th>area_business</th>\n",
              "      <th>total_open_amount</th>\n",
              "      <th>baseline_create_date</th>\n",
              "      <th>cust_payment_terms</th>\n",
              "      <th>invoice_id</th>\n",
              "      <th>isOpen</th>\n",
              "    </tr>\n",
              "  </thead>\n",
              "  <tbody>\n",
              "    <tr>\n",
              "      <th>0</th>\n",
              "      <td>U001</td>\n",
              "      <td>0200769623</td>\n",
              "      <td>WAL-MAR in</td>\n",
              "      <td>2019-12-12 00:00:00</td>\n",
              "      <td>2019.0</td>\n",
              "      <td>1.930179e+09</td>\n",
              "      <td>2019-11-22</td>\n",
              "      <td>20191121</td>\n",
              "      <td>20191122</td>\n",
              "      <td>20191207.0</td>\n",
              "      <td>USD</td>\n",
              "      <td>RV</td>\n",
              "      <td>1.0</td>\n",
              "      <td>NaN</td>\n",
              "      <td>21594.83</td>\n",
              "      <td>20191122.0</td>\n",
              "      <td>NAH4</td>\n",
              "      <td>1.930179e+09</td>\n",
              "      <td>0</td>\n",
              "    </tr>\n",
              "    <tr>\n",
              "      <th>1</th>\n",
              "      <td>U001</td>\n",
              "      <td>0200769623</td>\n",
              "      <td>WAL-MAR systems</td>\n",
              "      <td>2020-02-18 00:00:00</td>\n",
              "      <td>2020.0</td>\n",
              "      <td>1.930471e+09</td>\n",
              "      <td>2020-02-05</td>\n",
              "      <td>20200203</td>\n",
              "      <td>20200205</td>\n",
              "      <td>20200220.0</td>\n",
              "      <td>USD</td>\n",
              "      <td>RV</td>\n",
              "      <td>1.0</td>\n",
              "      <td>NaN</td>\n",
              "      <td>69106.76</td>\n",
              "      <td>20200205.0</td>\n",
              "      <td>NAH4</td>\n",
              "      <td>1.930471e+09</td>\n",
              "      <td>0</td>\n",
              "    </tr>\n",
              "    <tr>\n",
              "      <th>2</th>\n",
              "      <td>U001</td>\n",
              "      <td>0200769623</td>\n",
              "      <td>WAL-MAR foundation</td>\n",
              "      <td>2019-08-20 00:00:00</td>\n",
              "      <td>2019.0</td>\n",
              "      <td>1.929698e+09</td>\n",
              "      <td>2019-08-05</td>\n",
              "      <td>20190803</td>\n",
              "      <td>20190805</td>\n",
              "      <td>20190820.0</td>\n",
              "      <td>USD</td>\n",
              "      <td>RV</td>\n",
              "      <td>1.0</td>\n",
              "      <td>NaN</td>\n",
              "      <td>78218.44</td>\n",
              "      <td>20190805.0</td>\n",
              "      <td>NAH4</td>\n",
              "      <td>1.929698e+09</td>\n",
              "      <td>0</td>\n",
              "    </tr>\n",
              "    <tr>\n",
              "      <th>3</th>\n",
              "      <td>U001</td>\n",
              "      <td>0200772595</td>\n",
              "      <td>SAFEW llc</td>\n",
              "      <td>2019-10-30 00:00:00</td>\n",
              "      <td>2019.0</td>\n",
              "      <td>1.929796e+09</td>\n",
              "      <td>2019-08-26</td>\n",
              "      <td>20190826</td>\n",
              "      <td>20190826</td>\n",
              "      <td>20191030.0</td>\n",
              "      <td>USD</td>\n",
              "      <td>RV</td>\n",
              "      <td>1.0</td>\n",
              "      <td>NaN</td>\n",
              "      <td>3231.66</td>\n",
              "      <td>20190826.0</td>\n",
              "      <td>NAGD</td>\n",
              "      <td>1.929796e+09</td>\n",
              "      <td>0</td>\n",
              "    </tr>\n",
              "    <tr>\n",
              "      <th>4</th>\n",
              "      <td>U001</td>\n",
              "      <td>0200772595</td>\n",
              "      <td>SAFEW in</td>\n",
              "      <td>2019-04-02 00:00:00</td>\n",
              "      <td>2019.0</td>\n",
              "      <td>1.928976e+09</td>\n",
              "      <td>2019-03-18</td>\n",
              "      <td>20190316</td>\n",
              "      <td>20190318</td>\n",
              "      <td>20190402.0</td>\n",
              "      <td>USD</td>\n",
              "      <td>RV</td>\n",
              "      <td>1.0</td>\n",
              "      <td>NaN</td>\n",
              "      <td>2547.39</td>\n",
              "      <td>20190318.0</td>\n",
              "      <td>NAA8</td>\n",
              "      <td>1.928976e+09</td>\n",
              "      <td>0</td>\n",
              "    </tr>\n",
              "  </tbody>\n",
              "</table>\n",
              "</div>"
            ],
            "text/plain": [
              "  business_code cust_number  ...    invoice_id isOpen\n",
              "0          U001  0200769623  ...  1.930179e+09      0\n",
              "1          U001  0200769623  ...  1.930471e+09      0\n",
              "2          U001  0200769623  ...  1.929698e+09      0\n",
              "3          U001  0200772595  ...  1.929796e+09      0\n",
              "4          U001  0200772595  ...  1.928976e+09      0\n",
              "\n",
              "[5 rows x 19 columns]"
            ]
          },
          "metadata": {
            "tags": []
          },
          "execution_count": 5
        }
      ]
    },
    {
      "cell_type": "code",
      "metadata": {
        "colab": {
          "base_uri": "https://localhost:8080/",
          "height": 275
        },
        "id": "XpZNlpivkjFo",
        "outputId": "852d1644-f960-4ae7-e1a3-6bff2989aaff"
      },
      "source": [
        "# Returns the last 5 rows of the dataframe.\n",
        "df.tail()"
      ],
      "execution_count": 6,
      "outputs": [
        {
          "output_type": "execute_result",
          "data": {
            "text/html": [
              "<div>\n",
              "<style scoped>\n",
              "    .dataframe tbody tr th:only-of-type {\n",
              "        vertical-align: middle;\n",
              "    }\n",
              "\n",
              "    .dataframe tbody tr th {\n",
              "        vertical-align: top;\n",
              "    }\n",
              "\n",
              "    .dataframe thead th {\n",
              "        text-align: right;\n",
              "    }\n",
              "</style>\n",
              "<table border=\"1\" class=\"dataframe\">\n",
              "  <thead>\n",
              "    <tr style=\"text-align: right;\">\n",
              "      <th></th>\n",
              "      <th>business_code</th>\n",
              "      <th>cust_number</th>\n",
              "      <th>name_customer</th>\n",
              "      <th>clear_date</th>\n",
              "      <th>buisness_year</th>\n",
              "      <th>doc_id</th>\n",
              "      <th>posting_date</th>\n",
              "      <th>document_create_date</th>\n",
              "      <th>document_create_date.1</th>\n",
              "      <th>due_in_date</th>\n",
              "      <th>invoice_currency</th>\n",
              "      <th>document type</th>\n",
              "      <th>posting_id</th>\n",
              "      <th>area_business</th>\n",
              "      <th>total_open_amount</th>\n",
              "      <th>baseline_create_date</th>\n",
              "      <th>cust_payment_terms</th>\n",
              "      <th>invoice_id</th>\n",
              "      <th>isOpen</th>\n",
              "    </tr>\n",
              "  </thead>\n",
              "  <tbody>\n",
              "    <tr>\n",
              "      <th>49995</th>\n",
              "      <td>U001</td>\n",
              "      <td>0200727272</td>\n",
              "      <td>BROOKS associates</td>\n",
              "      <td>NaN</td>\n",
              "      <td>2020.0</td>\n",
              "      <td>1.930834e+09</td>\n",
              "      <td>2020-04-28</td>\n",
              "      <td>20200428</td>\n",
              "      <td>20200428</td>\n",
              "      <td>20200513.0</td>\n",
              "      <td>USD</td>\n",
              "      <td>RV</td>\n",
              "      <td>1.0</td>\n",
              "      <td>NaN</td>\n",
              "      <td>89299.75</td>\n",
              "      <td>20200428.0</td>\n",
              "      <td>NAA8</td>\n",
              "      <td>1.930834e+09</td>\n",
              "      <td>1</td>\n",
              "    </tr>\n",
              "    <tr>\n",
              "      <th>49996</th>\n",
              "      <td>U001</td>\n",
              "      <td>0200744019</td>\n",
              "      <td>TARG foundation</td>\n",
              "      <td>NaN</td>\n",
              "      <td>2020.0</td>\n",
              "      <td>1.930607e+09</td>\n",
              "      <td>2020-03-07</td>\n",
              "      <td>20200305</td>\n",
              "      <td>20200307</td>\n",
              "      <td>20200322.0</td>\n",
              "      <td>USD</td>\n",
              "      <td>RV</td>\n",
              "      <td>1.0</td>\n",
              "      <td>NaN</td>\n",
              "      <td>49545.65</td>\n",
              "      <td>20200307.0</td>\n",
              "      <td>NAA8</td>\n",
              "      <td>1.930607e+09</td>\n",
              "      <td>1</td>\n",
              "    </tr>\n",
              "    <tr>\n",
              "      <th>49997</th>\n",
              "      <td>U001</td>\n",
              "      <td>0200769623</td>\n",
              "      <td>WAL-MAR llc</td>\n",
              "      <td>NaN</td>\n",
              "      <td>2020.0</td>\n",
              "      <td>1.930675e+09</td>\n",
              "      <td>2020-03-20</td>\n",
              "      <td>20200320</td>\n",
              "      <td>20200320</td>\n",
              "      <td>20200404.0</td>\n",
              "      <td>USD</td>\n",
              "      <td>RV</td>\n",
              "      <td>1.0</td>\n",
              "      <td>NaN</td>\n",
              "      <td>17682.72</td>\n",
              "      <td>20200320.0</td>\n",
              "      <td>NAH4</td>\n",
              "      <td>1.930675e+09</td>\n",
              "      <td>1</td>\n",
              "    </tr>\n",
              "    <tr>\n",
              "      <th>49998</th>\n",
              "      <td>U001</td>\n",
              "      <td>0100043936</td>\n",
              "      <td>PAPA JO llc</td>\n",
              "      <td>NaN</td>\n",
              "      <td>2020.0</td>\n",
              "      <td>1.930668e+09</td>\n",
              "      <td>2020-03-18</td>\n",
              "      <td>20200318</td>\n",
              "      <td>20200318</td>\n",
              "      <td>20200407.0</td>\n",
              "      <td>USD</td>\n",
              "      <td>RV</td>\n",
              "      <td>1.0</td>\n",
              "      <td>NaN</td>\n",
              "      <td>11102.62</td>\n",
              "      <td>20200318.0</td>\n",
              "      <td>NAD1</td>\n",
              "      <td>1.930668e+09</td>\n",
              "      <td>1</td>\n",
              "    </tr>\n",
              "    <tr>\n",
              "      <th>49999</th>\n",
              "      <td>U001</td>\n",
              "      <td>0200769623</td>\n",
              "      <td>WAL-MAR</td>\n",
              "      <td>NaN</td>\n",
              "      <td>2020.0</td>\n",
              "      <td>1.930653e+09</td>\n",
              "      <td>2020-03-16</td>\n",
              "      <td>20200316</td>\n",
              "      <td>20200316</td>\n",
              "      <td>20200331.0</td>\n",
              "      <td>USD</td>\n",
              "      <td>RV</td>\n",
              "      <td>1.0</td>\n",
              "      <td>NaN</td>\n",
              "      <td>22311.20</td>\n",
              "      <td>20200316.0</td>\n",
              "      <td>NAH4</td>\n",
              "      <td>1.930653e+09</td>\n",
              "      <td>1</td>\n",
              "    </tr>\n",
              "  </tbody>\n",
              "</table>\n",
              "</div>"
            ],
            "text/plain": [
              "      business_code cust_number  ...    invoice_id isOpen\n",
              "49995          U001  0200727272  ...  1.930834e+09      1\n",
              "49996          U001  0200744019  ...  1.930607e+09      1\n",
              "49997          U001  0200769623  ...  1.930675e+09      1\n",
              "49998          U001  0100043936  ...  1.930668e+09      1\n",
              "49999          U001  0200769623  ...  1.930653e+09      1\n",
              "\n",
              "[5 rows x 19 columns]"
            ]
          },
          "metadata": {
            "tags": []
          },
          "execution_count": 6
        }
      ]
    },
    {
      "cell_type": "code",
      "metadata": {
        "colab": {
          "base_uri": "https://localhost:8080/"
        },
        "id": "t3AraVAIkmof",
        "outputId": "e941b73c-7ef5-4f1f-c633-9857d256add4"
      },
      "source": [
        "#Details of each column of the DataFrame df\n",
        "#DataFrame.info() : returns information about a DataFrame including the index dtype and column dtypes, non-null values and memory usage.\"\"\"\n",
        "df.info()"
      ],
      "execution_count": 7,
      "outputs": [
        {
          "output_type": "stream",
          "text": [
            "<class 'pandas.core.frame.DataFrame'>\n",
            "RangeIndex: 50000 entries, 0 to 49999\n",
            "Data columns (total 19 columns):\n",
            " #   Column                  Non-Null Count  Dtype  \n",
            "---  ------                  --------------  -----  \n",
            " 0   business_code           50000 non-null  object \n",
            " 1   cust_number             50000 non-null  object \n",
            " 2   name_customer           50000 non-null  object \n",
            " 3   clear_date              46904 non-null  object \n",
            " 4   buisness_year           50000 non-null  float64\n",
            " 5   doc_id                  50000 non-null  float64\n",
            " 6   posting_date            50000 non-null  object \n",
            " 7   document_create_date    50000 non-null  int64  \n",
            " 8   document_create_date.1  50000 non-null  int64  \n",
            " 9   due_in_date             50000 non-null  float64\n",
            " 10  invoice_currency        50000 non-null  object \n",
            " 11  document type           50000 non-null  object \n",
            " 12  posting_id              50000 non-null  float64\n",
            " 13  area_business           0 non-null      float64\n",
            " 14  total_open_amount       50000 non-null  float64\n",
            " 15  baseline_create_date    50000 non-null  float64\n",
            " 16  cust_payment_terms      50000 non-null  object \n",
            " 17  invoice_id              49994 non-null  float64\n",
            " 18  isOpen                  50000 non-null  int64  \n",
            "dtypes: float64(8), int64(3), object(8)\n",
            "memory usage: 7.2+ MB\n"
          ],
          "name": "stdout"
        }
      ]
    },
    {
      "cell_type": "code",
      "metadata": {
        "colab": {
          "base_uri": "https://localhost:8080/"
        },
        "id": "VSIKe9xFknjG",
        "outputId": "9b92566e-c70b-4207-8f55-59bf6a3adc34"
      },
      "source": [
        "#Number of invoices that are open and closed\n",
        "#invoice open means payment is yet to be done\n",
        "temp = df.groupby('isOpen')['isOpen'].count().to_dict()\n",
        "print(f\"No. of closed invoices : {temp[0]}\")\n",
        "print(f\"No. of open invoices : {temp[1]}\")"
      ],
      "execution_count": 8,
      "outputs": [
        {
          "output_type": "stream",
          "text": [
            "No. of closed invoices : 46904\n",
            "No. of open invoices : 3096\n"
          ],
          "name": "stdout"
        }
      ]
    },
    {
      "cell_type": "code",
      "metadata": {
        "colab": {
          "base_uri": "https://localhost:8080/"
        },
        "id": "dfLTbgusktcm",
        "outputId": "e95307d2-325d-448b-819a-fe4d082a9b7a"
      },
      "source": [
        "#Number of invoices have clear_date = null\n",
        "#Obviously it should be same as number of invoices that are open, still checking it to avoid any case of anomaly. \n",
        "print(f\"Invoices having \\\"clear_date\\\" as Nan : {df.loc[:, 'clear_date'].isna().sum()}\")"
      ],
      "execution_count": 9,
      "outputs": [
        {
          "output_type": "stream",
          "text": [
            "Invoices having \"clear_date\" as Nan : 3096\n"
          ],
          "name": "stdout"
        }
      ]
    },
    {
      "cell_type": "markdown",
      "metadata": {
        "id": "HyCd-L1aoRnH"
      },
      "source": [
        "#**DATA PREPROCESSING AND SANITY CHECK**"
      ]
    },
    {
      "cell_type": "markdown",
      "metadata": {
        "id": "PnZnEjkI6J7N"
      },
      "source": [
        "###*Conversion of dates to datetime objects*"
      ]
    },
    {
      "cell_type": "code",
      "metadata": {
        "colab": {
          "base_uri": "https://localhost:8080/",
          "height": 0
        },
        "id": "LuHFqGIcoZvo",
        "outputId": "7b36495a-389f-4936-d33d-29ea5cd990af"
      },
      "source": [
        "\"\"\"\n",
        "df['clear_date'] = pd.to_datetime(df['clear_date'], format='%Y%m%d %H:%M:%S')\n",
        "df['posting_date'] = pd.to_datetime(df['posting_date'], format='%Y-%m-%d')\n",
        "df['document_create_date'] = pd.to_datetime(df['document_create_date'], format='%Y-%m-%d')\n",
        "df['document_create_date.1'] = pd.to_datetime(df['document_create_date.1'], format='%Y-%m-%d')\n",
        "df['due_in_date'] = pd.to_datetime(df['due_in_date']//1, format='%Y-%m-%d')\n",
        "df['baseline_create_date'] = pd.to_datetime(df['baseline_create_date']//1, format='%Y-%m-%d')\n",
        "\"\"\""
      ],
      "execution_count": 10,
      "outputs": [
        {
          "output_type": "execute_result",
          "data": {
            "application/vnd.google.colaboratory.intrinsic+json": {
              "type": "string"
            },
            "text/plain": [
              "\"\\ndf['clear_date'] = pd.to_datetime(df['clear_date'], format='%Y%m%d %H:%M:%S')\\ndf['posting_date'] = pd.to_datetime(df['posting_date'], format='%Y-%m-%d')\\ndf['document_create_date'] = pd.to_datetime(df['document_create_date'], format='%Y-%m-%d')\\ndf['document_create_date.1'] = pd.to_datetime(df['document_create_date.1'], format='%Y-%m-%d')\\ndf['due_in_date'] = pd.to_datetime(df['due_in_date']//1, format='%Y-%m-%d')\\ndf['baseline_create_date'] = pd.to_datetime(df['baseline_create_date']//1, format='%Y-%m-%d')\\n\""
            ]
          },
          "metadata": {
            "tags": []
          },
          "execution_count": 10
        }
      ]
    },
    {
      "cell_type": "code",
      "metadata": {
        "colab": {
          "base_uri": "https://localhost:8080/"
        },
        "id": "XEXg7jNPttUi",
        "outputId": "64b3c3f5-881e-4bc6-d935-e70ec72d6b25"
      },
      "source": [
        "print(df.columns) #This returns tuple \n",
        "print(type(df.columns)) #pandas index object\n",
        "print(\"\\n*****************************************************************\\n\")\n",
        "print(df.columns.values) #This returns list of column labels of the dataFrame\n",
        "print(type(df.columns.values)) #numpy array"
      ],
      "execution_count": 11,
      "outputs": [
        {
          "output_type": "stream",
          "text": [
            "Index(['business_code', 'cust_number', 'name_customer', 'clear_date',\n",
            "       'buisness_year', 'doc_id', 'posting_date', 'document_create_date',\n",
            "       'document_create_date.1', 'due_in_date', 'invoice_currency',\n",
            "       'document type', 'posting_id', 'area_business', 'total_open_amount',\n",
            "       'baseline_create_date', 'cust_payment_terms', 'invoice_id', 'isOpen'],\n",
            "      dtype='object')\n",
            "<class 'pandas.core.indexes.base.Index'>\n",
            "\n",
            "*****************************************************************\n",
            "\n",
            "['business_code' 'cust_number' 'name_customer' 'clear_date'\n",
            " 'buisness_year' 'doc_id' 'posting_date' 'document_create_date'\n",
            " 'document_create_date.1' 'due_in_date' 'invoice_currency' 'document type'\n",
            " 'posting_id' 'area_business' 'total_open_amount' 'baseline_create_date'\n",
            " 'cust_payment_terms' 'invoice_id' 'isOpen']\n",
            "<class 'numpy.ndarray'>\n"
          ],
          "name": "stdout"
        }
      ]
    },
    {
      "cell_type": "code",
      "metadata": {
        "colab": {
          "base_uri": "https://localhost:8080/"
        },
        "id": "8TZHxYtgvPZs",
        "outputId": "905d63c9-e9ee-45d8-f1ef-a79e3e8e4cbd"
      },
      "source": [
        "#column.values method returs an array of index.\n",
        "print(pd.Series((df.columns.values)))"
      ],
      "execution_count": 12,
      "outputs": [
        {
          "output_type": "stream",
          "text": [
            "0              business_code\n",
            "1                cust_number\n",
            "2              name_customer\n",
            "3                 clear_date\n",
            "4              buisness_year\n",
            "5                     doc_id\n",
            "6               posting_date\n",
            "7       document_create_date\n",
            "8     document_create_date.1\n",
            "9                due_in_date\n",
            "10          invoice_currency\n",
            "11             document type\n",
            "12                posting_id\n",
            "13             area_business\n",
            "14         total_open_amount\n",
            "15      baseline_create_date\n",
            "16        cust_payment_terms\n",
            "17                invoice_id\n",
            "18                    isOpen\n",
            "dtype: object\n"
          ],
          "name": "stdout"
        }
      ]
    },
    {
      "cell_type": "code",
      "metadata": {
        "colab": {
          "base_uri": "https://localhost:8080/"
        },
        "id": "zXT5UUEXs1aM",
        "outputId": "b9e50929-28c2-4aee-eacc-b515a052e91c"
      },
      "source": [
        "#Series.str.contains() function is used to test if pattern or regex is contained within a string of a Series or Index.\n",
        "#Creating a list of Columns that contain data in their column label\n",
        "print(pd.Series(list(df.columns)).loc[lambda x : x.str.contains(\"date\")])"
      ],
      "execution_count": 13,
      "outputs": [
        {
          "output_type": "stream",
          "text": [
            "3                 clear_date\n",
            "6               posting_date\n",
            "7       document_create_date\n",
            "8     document_create_date.1\n",
            "9                due_in_date\n",
            "15      baseline_create_date\n",
            "dtype: object\n"
          ],
          "name": "stdout"
        }
      ]
    },
    {
      "cell_type": "code",
      "metadata": {
        "colab": {
          "base_uri": "https://localhost:8080/",
          "height": 0
        },
        "id": "7-HqgvYUtRSd",
        "outputId": "ad9e6a8d-b10b-4247-8a7b-79df9b5955e0"
      },
      "source": [
        "dateFormatString = [\"%Y-%m-%d\", \"%Y-%m-%d\", \"%Y%m%d\", \"%Y%m%d\", \"%Y%m%d\", \"%Y%m%d\"]\n",
        "ColumnHeadersList = list(pd.Series(list(df.columns.values)).loc[lambda x : x.str.contains(\"date\")])\n",
        "#print(ColumnHeaders)\n",
        "#print(type(df['isOpen'])) # <class 'pandas.core.series.Series'>\n",
        "index_dateFormatString = 0\n",
        "for colName in ColumnHeadersList:\n",
        "    df[colName] = pd.to_datetime(df[colName].astype(str), format = dateFormatString[index_dateFormatString]).copy()\n",
        "    index_dateFormatString = index_dateFormatString + 1\n",
        "\n",
        "df.head() "
      ],
      "execution_count": 14,
      "outputs": [
        {
          "output_type": "execute_result",
          "data": {
            "text/html": [
              "<div>\n",
              "<style scoped>\n",
              "    .dataframe tbody tr th:only-of-type {\n",
              "        vertical-align: middle;\n",
              "    }\n",
              "\n",
              "    .dataframe tbody tr th {\n",
              "        vertical-align: top;\n",
              "    }\n",
              "\n",
              "    .dataframe thead th {\n",
              "        text-align: right;\n",
              "    }\n",
              "</style>\n",
              "<table border=\"1\" class=\"dataframe\">\n",
              "  <thead>\n",
              "    <tr style=\"text-align: right;\">\n",
              "      <th></th>\n",
              "      <th>business_code</th>\n",
              "      <th>cust_number</th>\n",
              "      <th>name_customer</th>\n",
              "      <th>clear_date</th>\n",
              "      <th>buisness_year</th>\n",
              "      <th>doc_id</th>\n",
              "      <th>posting_date</th>\n",
              "      <th>document_create_date</th>\n",
              "      <th>document_create_date.1</th>\n",
              "      <th>due_in_date</th>\n",
              "      <th>invoice_currency</th>\n",
              "      <th>document type</th>\n",
              "      <th>posting_id</th>\n",
              "      <th>area_business</th>\n",
              "      <th>total_open_amount</th>\n",
              "      <th>baseline_create_date</th>\n",
              "      <th>cust_payment_terms</th>\n",
              "      <th>invoice_id</th>\n",
              "      <th>isOpen</th>\n",
              "    </tr>\n",
              "  </thead>\n",
              "  <tbody>\n",
              "    <tr>\n",
              "      <th>0</th>\n",
              "      <td>U001</td>\n",
              "      <td>0200769623</td>\n",
              "      <td>WAL-MAR in</td>\n",
              "      <td>2019-12-12</td>\n",
              "      <td>2019.0</td>\n",
              "      <td>1.930179e+09</td>\n",
              "      <td>2019-11-22</td>\n",
              "      <td>2019-11-21</td>\n",
              "      <td>2019-11-22</td>\n",
              "      <td>2019-12-07</td>\n",
              "      <td>USD</td>\n",
              "      <td>RV</td>\n",
              "      <td>1.0</td>\n",
              "      <td>NaN</td>\n",
              "      <td>21594.83</td>\n",
              "      <td>2019-11-22</td>\n",
              "      <td>NAH4</td>\n",
              "      <td>1.930179e+09</td>\n",
              "      <td>0</td>\n",
              "    </tr>\n",
              "    <tr>\n",
              "      <th>1</th>\n",
              "      <td>U001</td>\n",
              "      <td>0200769623</td>\n",
              "      <td>WAL-MAR systems</td>\n",
              "      <td>2020-02-18</td>\n",
              "      <td>2020.0</td>\n",
              "      <td>1.930471e+09</td>\n",
              "      <td>2020-02-05</td>\n",
              "      <td>2020-02-03</td>\n",
              "      <td>2020-02-05</td>\n",
              "      <td>2020-02-20</td>\n",
              "      <td>USD</td>\n",
              "      <td>RV</td>\n",
              "      <td>1.0</td>\n",
              "      <td>NaN</td>\n",
              "      <td>69106.76</td>\n",
              "      <td>2020-02-05</td>\n",
              "      <td>NAH4</td>\n",
              "      <td>1.930471e+09</td>\n",
              "      <td>0</td>\n",
              "    </tr>\n",
              "    <tr>\n",
              "      <th>2</th>\n",
              "      <td>U001</td>\n",
              "      <td>0200769623</td>\n",
              "      <td>WAL-MAR foundation</td>\n",
              "      <td>2019-08-20</td>\n",
              "      <td>2019.0</td>\n",
              "      <td>1.929698e+09</td>\n",
              "      <td>2019-08-05</td>\n",
              "      <td>2019-08-03</td>\n",
              "      <td>2019-08-05</td>\n",
              "      <td>2019-08-20</td>\n",
              "      <td>USD</td>\n",
              "      <td>RV</td>\n",
              "      <td>1.0</td>\n",
              "      <td>NaN</td>\n",
              "      <td>78218.44</td>\n",
              "      <td>2019-08-05</td>\n",
              "      <td>NAH4</td>\n",
              "      <td>1.929698e+09</td>\n",
              "      <td>0</td>\n",
              "    </tr>\n",
              "    <tr>\n",
              "      <th>3</th>\n",
              "      <td>U001</td>\n",
              "      <td>0200772595</td>\n",
              "      <td>SAFEW llc</td>\n",
              "      <td>2019-10-30</td>\n",
              "      <td>2019.0</td>\n",
              "      <td>1.929796e+09</td>\n",
              "      <td>2019-08-26</td>\n",
              "      <td>2019-08-26</td>\n",
              "      <td>2019-08-26</td>\n",
              "      <td>2019-10-30</td>\n",
              "      <td>USD</td>\n",
              "      <td>RV</td>\n",
              "      <td>1.0</td>\n",
              "      <td>NaN</td>\n",
              "      <td>3231.66</td>\n",
              "      <td>2019-08-26</td>\n",
              "      <td>NAGD</td>\n",
              "      <td>1.929796e+09</td>\n",
              "      <td>0</td>\n",
              "    </tr>\n",
              "    <tr>\n",
              "      <th>4</th>\n",
              "      <td>U001</td>\n",
              "      <td>0200772595</td>\n",
              "      <td>SAFEW in</td>\n",
              "      <td>2019-04-02</td>\n",
              "      <td>2019.0</td>\n",
              "      <td>1.928976e+09</td>\n",
              "      <td>2019-03-18</td>\n",
              "      <td>2019-03-16</td>\n",
              "      <td>2019-03-18</td>\n",
              "      <td>2019-04-02</td>\n",
              "      <td>USD</td>\n",
              "      <td>RV</td>\n",
              "      <td>1.0</td>\n",
              "      <td>NaN</td>\n",
              "      <td>2547.39</td>\n",
              "      <td>2019-03-18</td>\n",
              "      <td>NAA8</td>\n",
              "      <td>1.928976e+09</td>\n",
              "      <td>0</td>\n",
              "    </tr>\n",
              "  </tbody>\n",
              "</table>\n",
              "</div>"
            ],
            "text/plain": [
              "  business_code cust_number  ...    invoice_id isOpen\n",
              "0          U001  0200769623  ...  1.930179e+09      0\n",
              "1          U001  0200769623  ...  1.930471e+09      0\n",
              "2          U001  0200769623  ...  1.929698e+09      0\n",
              "3          U001  0200772595  ...  1.929796e+09      0\n",
              "4          U001  0200772595  ...  1.928976e+09      0\n",
              "\n",
              "[5 rows x 19 columns]"
            ]
          },
          "metadata": {
            "tags": []
          },
          "execution_count": 14
        }
      ]
    },
    {
      "cell_type": "markdown",
      "metadata": {
        "id": "xF6MjlZo6Z7t"
      },
      "source": [
        "##*Sanity Check*"
      ]
    },
    {
      "cell_type": "code",
      "metadata": {
        "colab": {
          "base_uri": "https://localhost:8080/"
        },
        "id": "wnxK4lXV6CdF",
        "outputId": "b3a5cbfa-8541-4b33-c529-f5451d112b95"
      },
      "source": [
        "#Details of each column of the DataFrame df\n",
        "#DataFrame.info() : returns information about a DataFrame including the index dtype and column dtypes, non-null values and memory usage.\"\"\"\n",
        "df.info()"
      ],
      "execution_count": 15,
      "outputs": [
        {
          "output_type": "stream",
          "text": [
            "<class 'pandas.core.frame.DataFrame'>\n",
            "RangeIndex: 50000 entries, 0 to 49999\n",
            "Data columns (total 19 columns):\n",
            " #   Column                  Non-Null Count  Dtype         \n",
            "---  ------                  --------------  -----         \n",
            " 0   business_code           50000 non-null  object        \n",
            " 1   cust_number             50000 non-null  object        \n",
            " 2   name_customer           50000 non-null  object        \n",
            " 3   clear_date              46904 non-null  datetime64[ns]\n",
            " 4   buisness_year           50000 non-null  float64       \n",
            " 5   doc_id                  50000 non-null  float64       \n",
            " 6   posting_date            50000 non-null  datetime64[ns]\n",
            " 7   document_create_date    50000 non-null  datetime64[ns]\n",
            " 8   document_create_date.1  50000 non-null  datetime64[ns]\n",
            " 9   due_in_date             50000 non-null  datetime64[ns]\n",
            " 10  invoice_currency        50000 non-null  object        \n",
            " 11  document type           50000 non-null  object        \n",
            " 12  posting_id              50000 non-null  float64       \n",
            " 13  area_business           0 non-null      float64       \n",
            " 14  total_open_amount       50000 non-null  float64       \n",
            " 15  baseline_create_date    50000 non-null  datetime64[ns]\n",
            " 16  cust_payment_terms      50000 non-null  object        \n",
            " 17  invoice_id              49994 non-null  float64       \n",
            " 18  isOpen                  50000 non-null  int64         \n",
            "dtypes: datetime64[ns](6), float64(6), int64(1), object(6)\n",
            "memory usage: 7.2+ MB\n"
          ],
          "name": "stdout"
        }
      ]
    },
    {
      "cell_type": "code",
      "metadata": {
        "colab": {
          "base_uri": "https://localhost:8080/"
        },
        "id": "V_U-RtTM6o4V",
        "outputId": "4ddcff85-16df-45e0-ba1d-53a14fc8861f"
      },
      "source": [
        "#checking for columns containg null values\n",
        "df.isnull().any()"
      ],
      "execution_count": 16,
      "outputs": [
        {
          "output_type": "execute_result",
          "data": {
            "text/plain": [
              "business_code             False\n",
              "cust_number               False\n",
              "name_customer             False\n",
              "clear_date                 True\n",
              "buisness_year             False\n",
              "doc_id                    False\n",
              "posting_date              False\n",
              "document_create_date      False\n",
              "document_create_date.1    False\n",
              "due_in_date               False\n",
              "invoice_currency          False\n",
              "document type             False\n",
              "posting_id                False\n",
              "area_business              True\n",
              "total_open_amount         False\n",
              "baseline_create_date      False\n",
              "cust_payment_terms        False\n",
              "invoice_id                 True\n",
              "isOpen                    False\n",
              "dtype: bool"
            ]
          },
          "metadata": {
            "tags": []
          },
          "execution_count": 16
        }
      ]
    },
    {
      "cell_type": "code",
      "metadata": {
        "colab": {
          "base_uri": "https://localhost:8080/"
        },
        "id": "vACYI_Q56v46",
        "outputId": "186475a4-3f0f-41d4-fcbb-74e9b05cd7bf"
      },
      "source": [
        "#column headers in form of list which contain null values\n",
        "df.columns[df.isna().any()].tolist()\n",
        "#returns the list of those columns which contails atleast one NaN value"
      ],
      "execution_count": 17,
      "outputs": [
        {
          "output_type": "execute_result",
          "data": {
            "text/plain": [
              "['clear_date', 'area_business', 'invoice_id']"
            ]
          },
          "metadata": {
            "tags": []
          },
          "execution_count": 17
        }
      ]
    },
    {
      "cell_type": "code",
      "metadata": {
        "colab": {
          "base_uri": "https://localhost:8080/"
        },
        "id": "URqYM2cO64Nb",
        "outputId": "375c33b1-375a-4044-8e0f-66ad502a47b2"
      },
      "source": [
        "#Finding how many datavalues in column invoice_id is null\n",
        "df['invoice_id'].isnull().sum()"
      ],
      "execution_count": 18,
      "outputs": [
        {
          "output_type": "execute_result",
          "data": {
            "text/plain": [
              "6"
            ]
          },
          "metadata": {
            "tags": []
          },
          "execution_count": 18
        }
      ]
    },
    {
      "cell_type": "code",
      "metadata": {
        "colab": {
          "base_uri": "https://localhost:8080/"
        },
        "id": "_ZXOuNO-65rR",
        "outputId": "81e791eb-d79e-41de-8418-808bf94bbdc2"
      },
      "source": [
        "#Finding how many datavalues in column area_business is null\n",
        "df['area_business'].isnull().sum()"
      ],
      "execution_count": 19,
      "outputs": [
        {
          "output_type": "execute_result",
          "data": {
            "text/plain": [
              "50000"
            ]
          },
          "metadata": {
            "tags": []
          },
          "execution_count": 19
        }
      ]
    },
    {
      "cell_type": "markdown",
      "metadata": {
        "id": "inTL5-4c71en"
      },
      "source": [
        "######*Dealing with column 'area_business'*"
      ]
    },
    {
      "cell_type": "code",
      "metadata": {
        "colab": {
          "base_uri": "https://localhost:8080/"
        },
        "id": "sXK3KYx87HHt",
        "outputId": "bf517aab-1815-407f-906f-ab96cfe9fd83"
      },
      "source": [
        "df['area_business'].unique()"
      ],
      "execution_count": 20,
      "outputs": [
        {
          "output_type": "execute_result",
          "data": {
            "text/plain": [
              "array([nan])"
            ]
          },
          "metadata": {
            "tags": []
          },
          "execution_count": 20
        }
      ]
    },
    {
      "cell_type": "markdown",
      "metadata": {
        "id": "P6fJEwzRD7se"
      },
      "source": [
        "*Dropping Area_business*"
      ]
    },
    {
      "cell_type": "code",
      "metadata": {
        "colab": {
          "base_uri": "https://localhost:8080/",
          "height": 0
        },
        "id": "9MUYvPJj7Qal",
        "outputId": "8c39b7d7-2f2f-4113-9951-d22b4a6407ac"
      },
      "source": [
        "#As all Values are null then there is no significance of this column -> 'area_business'\n",
        "#drop column\n",
        "df.pop('area_business')\n",
        "df.head()"
      ],
      "execution_count": 21,
      "outputs": [
        {
          "output_type": "execute_result",
          "data": {
            "text/html": [
              "<div>\n",
              "<style scoped>\n",
              "    .dataframe tbody tr th:only-of-type {\n",
              "        vertical-align: middle;\n",
              "    }\n",
              "\n",
              "    .dataframe tbody tr th {\n",
              "        vertical-align: top;\n",
              "    }\n",
              "\n",
              "    .dataframe thead th {\n",
              "        text-align: right;\n",
              "    }\n",
              "</style>\n",
              "<table border=\"1\" class=\"dataframe\">\n",
              "  <thead>\n",
              "    <tr style=\"text-align: right;\">\n",
              "      <th></th>\n",
              "      <th>business_code</th>\n",
              "      <th>cust_number</th>\n",
              "      <th>name_customer</th>\n",
              "      <th>clear_date</th>\n",
              "      <th>buisness_year</th>\n",
              "      <th>doc_id</th>\n",
              "      <th>posting_date</th>\n",
              "      <th>document_create_date</th>\n",
              "      <th>document_create_date.1</th>\n",
              "      <th>due_in_date</th>\n",
              "      <th>invoice_currency</th>\n",
              "      <th>document type</th>\n",
              "      <th>posting_id</th>\n",
              "      <th>total_open_amount</th>\n",
              "      <th>baseline_create_date</th>\n",
              "      <th>cust_payment_terms</th>\n",
              "      <th>invoice_id</th>\n",
              "      <th>isOpen</th>\n",
              "    </tr>\n",
              "  </thead>\n",
              "  <tbody>\n",
              "    <tr>\n",
              "      <th>0</th>\n",
              "      <td>U001</td>\n",
              "      <td>0200769623</td>\n",
              "      <td>WAL-MAR in</td>\n",
              "      <td>2019-12-12</td>\n",
              "      <td>2019.0</td>\n",
              "      <td>1.930179e+09</td>\n",
              "      <td>2019-11-22</td>\n",
              "      <td>2019-11-21</td>\n",
              "      <td>2019-11-22</td>\n",
              "      <td>2019-12-07</td>\n",
              "      <td>USD</td>\n",
              "      <td>RV</td>\n",
              "      <td>1.0</td>\n",
              "      <td>21594.83</td>\n",
              "      <td>2019-11-22</td>\n",
              "      <td>NAH4</td>\n",
              "      <td>1.930179e+09</td>\n",
              "      <td>0</td>\n",
              "    </tr>\n",
              "    <tr>\n",
              "      <th>1</th>\n",
              "      <td>U001</td>\n",
              "      <td>0200769623</td>\n",
              "      <td>WAL-MAR systems</td>\n",
              "      <td>2020-02-18</td>\n",
              "      <td>2020.0</td>\n",
              "      <td>1.930471e+09</td>\n",
              "      <td>2020-02-05</td>\n",
              "      <td>2020-02-03</td>\n",
              "      <td>2020-02-05</td>\n",
              "      <td>2020-02-20</td>\n",
              "      <td>USD</td>\n",
              "      <td>RV</td>\n",
              "      <td>1.0</td>\n",
              "      <td>69106.76</td>\n",
              "      <td>2020-02-05</td>\n",
              "      <td>NAH4</td>\n",
              "      <td>1.930471e+09</td>\n",
              "      <td>0</td>\n",
              "    </tr>\n",
              "    <tr>\n",
              "      <th>2</th>\n",
              "      <td>U001</td>\n",
              "      <td>0200769623</td>\n",
              "      <td>WAL-MAR foundation</td>\n",
              "      <td>2019-08-20</td>\n",
              "      <td>2019.0</td>\n",
              "      <td>1.929698e+09</td>\n",
              "      <td>2019-08-05</td>\n",
              "      <td>2019-08-03</td>\n",
              "      <td>2019-08-05</td>\n",
              "      <td>2019-08-20</td>\n",
              "      <td>USD</td>\n",
              "      <td>RV</td>\n",
              "      <td>1.0</td>\n",
              "      <td>78218.44</td>\n",
              "      <td>2019-08-05</td>\n",
              "      <td>NAH4</td>\n",
              "      <td>1.929698e+09</td>\n",
              "      <td>0</td>\n",
              "    </tr>\n",
              "    <tr>\n",
              "      <th>3</th>\n",
              "      <td>U001</td>\n",
              "      <td>0200772595</td>\n",
              "      <td>SAFEW llc</td>\n",
              "      <td>2019-10-30</td>\n",
              "      <td>2019.0</td>\n",
              "      <td>1.929796e+09</td>\n",
              "      <td>2019-08-26</td>\n",
              "      <td>2019-08-26</td>\n",
              "      <td>2019-08-26</td>\n",
              "      <td>2019-10-30</td>\n",
              "      <td>USD</td>\n",
              "      <td>RV</td>\n",
              "      <td>1.0</td>\n",
              "      <td>3231.66</td>\n",
              "      <td>2019-08-26</td>\n",
              "      <td>NAGD</td>\n",
              "      <td>1.929796e+09</td>\n",
              "      <td>0</td>\n",
              "    </tr>\n",
              "    <tr>\n",
              "      <th>4</th>\n",
              "      <td>U001</td>\n",
              "      <td>0200772595</td>\n",
              "      <td>SAFEW in</td>\n",
              "      <td>2019-04-02</td>\n",
              "      <td>2019.0</td>\n",
              "      <td>1.928976e+09</td>\n",
              "      <td>2019-03-18</td>\n",
              "      <td>2019-03-16</td>\n",
              "      <td>2019-03-18</td>\n",
              "      <td>2019-04-02</td>\n",
              "      <td>USD</td>\n",
              "      <td>RV</td>\n",
              "      <td>1.0</td>\n",
              "      <td>2547.39</td>\n",
              "      <td>2019-03-18</td>\n",
              "      <td>NAA8</td>\n",
              "      <td>1.928976e+09</td>\n",
              "      <td>0</td>\n",
              "    </tr>\n",
              "  </tbody>\n",
              "</table>\n",
              "</div>"
            ],
            "text/plain": [
              "  business_code cust_number  ...    invoice_id isOpen\n",
              "0          U001  0200769623  ...  1.930179e+09      0\n",
              "1          U001  0200769623  ...  1.930471e+09      0\n",
              "2          U001  0200769623  ...  1.929698e+09      0\n",
              "3          U001  0200772595  ...  1.929796e+09      0\n",
              "4          U001  0200772595  ...  1.928976e+09      0\n",
              "\n",
              "[5 rows x 18 columns]"
            ]
          },
          "metadata": {
            "tags": []
          },
          "execution_count": 21
        }
      ]
    },
    {
      "cell_type": "markdown",
      "metadata": {
        "id": "9VvHyPhy8CWS"
      },
      "source": [
        "######*Dealing with null values for column 'invoice_id'*"
      ]
    },
    {
      "cell_type": "code",
      "metadata": {
        "id": "mx3BlB5J8Nbs"
      },
      "source": [
        "#as only 6 entries in 50000 are having invoice_id as null thus we can drop these columns to remove any case of ambiguity\n",
        "#df.dropna is used to remove rows and columns with null values, by subset I have mentioned it to drop those rows which have null values in the column invoice_id\n",
        "df=df.dropna(subset=['invoice_id'])"
      ],
      "execution_count": 22,
      "outputs": []
    },
    {
      "cell_type": "code",
      "metadata": {
        "colab": {
          "base_uri": "https://localhost:8080/"
        },
        "id": "Nvz4oIgL8cUr",
        "outputId": "9e2487ae-3cdf-49ad-fc8a-373fde636ac2"
      },
      "source": [
        "#Details of each column of the DataFrame df\n",
        "#DataFrame.info() : returns information about a DataFrame including the index dtype and column dtypes, non-null values and memory usage.\"\"\"\n",
        "df.info()"
      ],
      "execution_count": 23,
      "outputs": [
        {
          "output_type": "stream",
          "text": [
            "<class 'pandas.core.frame.DataFrame'>\n",
            "Int64Index: 49994 entries, 0 to 49999\n",
            "Data columns (total 18 columns):\n",
            " #   Column                  Non-Null Count  Dtype         \n",
            "---  ------                  --------------  -----         \n",
            " 0   business_code           49994 non-null  object        \n",
            " 1   cust_number             49994 non-null  object        \n",
            " 2   name_customer           49994 non-null  object        \n",
            " 3   clear_date              46898 non-null  datetime64[ns]\n",
            " 4   buisness_year           49994 non-null  float64       \n",
            " 5   doc_id                  49994 non-null  float64       \n",
            " 6   posting_date            49994 non-null  datetime64[ns]\n",
            " 7   document_create_date    49994 non-null  datetime64[ns]\n",
            " 8   document_create_date.1  49994 non-null  datetime64[ns]\n",
            " 9   due_in_date             49994 non-null  datetime64[ns]\n",
            " 10  invoice_currency        49994 non-null  object        \n",
            " 11  document type           49994 non-null  object        \n",
            " 12  posting_id              49994 non-null  float64       \n",
            " 13  total_open_amount       49994 non-null  float64       \n",
            " 14  baseline_create_date    49994 non-null  datetime64[ns]\n",
            " 15  cust_payment_terms      49994 non-null  object        \n",
            " 16  invoice_id              49994 non-null  float64       \n",
            " 17  isOpen                  49994 non-null  int64         \n",
            "dtypes: datetime64[ns](6), float64(5), int64(1), object(6)\n",
            "memory usage: 7.2+ MB\n"
          ],
          "name": "stdout"
        }
      ]
    },
    {
      "cell_type": "markdown",
      "metadata": {
        "id": "gi8bE5Kp9MEu"
      },
      "source": [
        "#**Train, Test, Validation Split**"
      ]
    },
    {
      "cell_type": "markdown",
      "metadata": {
        "id": "XxzCmRiU_jo1"
      },
      "source": [
        "####*Spliting Train & Test on the basis of clear_date*"
      ]
    },
    {
      "cell_type": "code",
      "metadata": {
        "id": "HA07id1x9Ss-"
      },
      "source": [
        "dfTest = df[df.loc[:, \"clear_date\"].isna() == True] #clear_date column value is null means payment to be made\n",
        "dfcopyTest=dfTest.copy()\n",
        "dfTrain = df[df.loc[:, \"clear_date\"].isna() == False] #clear_date column value is non-null means payment already done"
      ],
      "execution_count": 24,
      "outputs": []
    },
    {
      "cell_type": "code",
      "metadata": {
        "id": "7ktQAu2JyLNp"
      },
      "source": [
        "#dfcopyTest"
      ],
      "execution_count": 25,
      "outputs": []
    },
    {
      "cell_type": "markdown",
      "metadata": {
        "id": "VRtJpOgW-2fJ"
      },
      "source": [
        "####*Test DataFrame*"
      ]
    },
    {
      "cell_type": "code",
      "metadata": {
        "colab": {
          "base_uri": "https://localhost:8080/"
        },
        "id": "RO49CwzG9zLV",
        "outputId": "2a92e4f4-8182-4429-89d3-7083253c83c2"
      },
      "source": [
        "#DataFrame.info() : returns information about a DataFrame including the index dtype and column dtypes, non-null values and memory usage.\"\"\"\n",
        "dfTest.info()"
      ],
      "execution_count": 26,
      "outputs": [
        {
          "output_type": "stream",
          "text": [
            "<class 'pandas.core.frame.DataFrame'>\n",
            "Int64Index: 3096 entries, 46904 to 49999\n",
            "Data columns (total 18 columns):\n",
            " #   Column                  Non-Null Count  Dtype         \n",
            "---  ------                  --------------  -----         \n",
            " 0   business_code           3096 non-null   object        \n",
            " 1   cust_number             3096 non-null   object        \n",
            " 2   name_customer           3096 non-null   object        \n",
            " 3   clear_date              0 non-null      datetime64[ns]\n",
            " 4   buisness_year           3096 non-null   float64       \n",
            " 5   doc_id                  3096 non-null   float64       \n",
            " 6   posting_date            3096 non-null   datetime64[ns]\n",
            " 7   document_create_date    3096 non-null   datetime64[ns]\n",
            " 8   document_create_date.1  3096 non-null   datetime64[ns]\n",
            " 9   due_in_date             3096 non-null   datetime64[ns]\n",
            " 10  invoice_currency        3096 non-null   object        \n",
            " 11  document type           3096 non-null   object        \n",
            " 12  posting_id              3096 non-null   float64       \n",
            " 13  total_open_amount       3096 non-null   float64       \n",
            " 14  baseline_create_date    3096 non-null   datetime64[ns]\n",
            " 15  cust_payment_terms      3096 non-null   object        \n",
            " 16  invoice_id              3096 non-null   float64       \n",
            " 17  isOpen                  3096 non-null   int64         \n",
            "dtypes: datetime64[ns](6), float64(5), int64(1), object(6)\n",
            "memory usage: 459.6+ KB\n"
          ],
          "name": "stdout"
        }
      ]
    },
    {
      "cell_type": "code",
      "metadata": {
        "colab": {
          "base_uri": "https://localhost:8080/"
        },
        "id": "Ye5ANghh-mtD",
        "outputId": "e827f587-f999-4923-df54-8529fb372ace"
      },
      "source": [
        "dfTest.shape"
      ],
      "execution_count": 27,
      "outputs": [
        {
          "output_type": "execute_result",
          "data": {
            "text/plain": [
              "(3096, 18)"
            ]
          },
          "metadata": {
            "tags": []
          },
          "execution_count": 27
        }
      ]
    },
    {
      "cell_type": "code",
      "metadata": {
        "colab": {
          "base_uri": "https://localhost:8080/",
          "height": 292
        },
        "id": "C0sWvj74-WpL",
        "outputId": "e6376017-6aa8-4756-8b7a-52efd3e0d39d"
      },
      "source": [
        "dfTest.head()"
      ],
      "execution_count": 28,
      "outputs": [
        {
          "output_type": "execute_result",
          "data": {
            "text/html": [
              "<div>\n",
              "<style scoped>\n",
              "    .dataframe tbody tr th:only-of-type {\n",
              "        vertical-align: middle;\n",
              "    }\n",
              "\n",
              "    .dataframe tbody tr th {\n",
              "        vertical-align: top;\n",
              "    }\n",
              "\n",
              "    .dataframe thead th {\n",
              "        text-align: right;\n",
              "    }\n",
              "</style>\n",
              "<table border=\"1\" class=\"dataframe\">\n",
              "  <thead>\n",
              "    <tr style=\"text-align: right;\">\n",
              "      <th></th>\n",
              "      <th>business_code</th>\n",
              "      <th>cust_number</th>\n",
              "      <th>name_customer</th>\n",
              "      <th>clear_date</th>\n",
              "      <th>buisness_year</th>\n",
              "      <th>doc_id</th>\n",
              "      <th>posting_date</th>\n",
              "      <th>document_create_date</th>\n",
              "      <th>document_create_date.1</th>\n",
              "      <th>due_in_date</th>\n",
              "      <th>invoice_currency</th>\n",
              "      <th>document type</th>\n",
              "      <th>posting_id</th>\n",
              "      <th>total_open_amount</th>\n",
              "      <th>baseline_create_date</th>\n",
              "      <th>cust_payment_terms</th>\n",
              "      <th>invoice_id</th>\n",
              "      <th>isOpen</th>\n",
              "    </tr>\n",
              "  </thead>\n",
              "  <tbody>\n",
              "    <tr>\n",
              "      <th>46904</th>\n",
              "      <td>U001</td>\n",
              "      <td>0200769623</td>\n",
              "      <td>WAL-MAR associates</td>\n",
              "      <td>NaT</td>\n",
              "      <td>2020.0</td>\n",
              "      <td>1.930622e+09</td>\n",
              "      <td>2020-03-09</td>\n",
              "      <td>2020-03-08</td>\n",
              "      <td>2020-03-09</td>\n",
              "      <td>2020-03-24</td>\n",
              "      <td>USD</td>\n",
              "      <td>RV</td>\n",
              "      <td>1.0</td>\n",
              "      <td>14396.96</td>\n",
              "      <td>2020-03-09</td>\n",
              "      <td>NAH4</td>\n",
              "      <td>1.930622e+09</td>\n",
              "      <td>1</td>\n",
              "    </tr>\n",
              "    <tr>\n",
              "      <th>46905</th>\n",
              "      <td>U001</td>\n",
              "      <td>0200729942</td>\n",
              "      <td>SA systems</td>\n",
              "      <td>NaT</td>\n",
              "      <td>2020.0</td>\n",
              "      <td>1.930810e+09</td>\n",
              "      <td>2020-04-21</td>\n",
              "      <td>2020-04-21</td>\n",
              "      <td>2020-04-21</td>\n",
              "      <td>2020-05-06</td>\n",
              "      <td>USD</td>\n",
              "      <td>RV</td>\n",
              "      <td>1.0</td>\n",
              "      <td>11629.96</td>\n",
              "      <td>2020-04-21</td>\n",
              "      <td>NAA8</td>\n",
              "      <td>1.930810e+09</td>\n",
              "      <td>1</td>\n",
              "    </tr>\n",
              "    <tr>\n",
              "      <th>46906</th>\n",
              "      <td>U001</td>\n",
              "      <td>0200769623</td>\n",
              "      <td>WAL-MAR associates</td>\n",
              "      <td>NaT</td>\n",
              "      <td>2020.0</td>\n",
              "      <td>1.930711e+09</td>\n",
              "      <td>2020-03-29</td>\n",
              "      <td>2020-03-28</td>\n",
              "      <td>2020-03-29</td>\n",
              "      <td>2020-04-13</td>\n",
              "      <td>USD</td>\n",
              "      <td>RV</td>\n",
              "      <td>1.0</td>\n",
              "      <td>355.93</td>\n",
              "      <td>2020-03-29</td>\n",
              "      <td>NAH4</td>\n",
              "      <td>1.930711e+09</td>\n",
              "      <td>1</td>\n",
              "    </tr>\n",
              "    <tr>\n",
              "      <th>46907</th>\n",
              "      <td>U001</td>\n",
              "      <td>0200418007</td>\n",
              "      <td>AM foundation</td>\n",
              "      <td>NaT</td>\n",
              "      <td>2020.0</td>\n",
              "      <td>1.930717e+09</td>\n",
              "      <td>2020-03-29</td>\n",
              "      <td>2020-03-28</td>\n",
              "      <td>2020-03-29</td>\n",
              "      <td>2020-06-02</td>\n",
              "      <td>USD</td>\n",
              "      <td>RV</td>\n",
              "      <td>1.0</td>\n",
              "      <td>7263.36</td>\n",
              "      <td>2020-03-29</td>\n",
              "      <td>NAGD</td>\n",
              "      <td>1.930717e+09</td>\n",
              "      <td>1</td>\n",
              "    </tr>\n",
              "    <tr>\n",
              "      <th>46908</th>\n",
              "      <td>U001</td>\n",
              "      <td>0200794332</td>\n",
              "      <td>COST associates</td>\n",
              "      <td>NaT</td>\n",
              "      <td>2020.0</td>\n",
              "      <td>1.930595e+09</td>\n",
              "      <td>2020-03-04</td>\n",
              "      <td>2020-03-03</td>\n",
              "      <td>2020-03-04</td>\n",
              "      <td>2020-03-19</td>\n",
              "      <td>USD</td>\n",
              "      <td>RV</td>\n",
              "      <td>1.0</td>\n",
              "      <td>39259.89</td>\n",
              "      <td>2020-03-04</td>\n",
              "      <td>NAAX</td>\n",
              "      <td>1.930595e+09</td>\n",
              "      <td>1</td>\n",
              "    </tr>\n",
              "  </tbody>\n",
              "</table>\n",
              "</div>"
            ],
            "text/plain": [
              "      business_code cust_number  ...    invoice_id isOpen\n",
              "46904          U001  0200769623  ...  1.930622e+09      1\n",
              "46905          U001  0200729942  ...  1.930810e+09      1\n",
              "46906          U001  0200769623  ...  1.930711e+09      1\n",
              "46907          U001  0200418007  ...  1.930717e+09      1\n",
              "46908          U001  0200794332  ...  1.930595e+09      1\n",
              "\n",
              "[5 rows x 18 columns]"
            ]
          },
          "metadata": {
            "tags": []
          },
          "execution_count": 28
        }
      ]
    },
    {
      "cell_type": "markdown",
      "metadata": {
        "id": "YHfs5Kki_ABx"
      },
      "source": [
        "####*dfTrain DataFrame*\n",
        "\n",
        "This will be further split into:\n",
        "1.   dfTrain\n",
        "2.   dfVal\n",
        "\n"
      ]
    },
    {
      "cell_type": "code",
      "metadata": {
        "colab": {
          "base_uri": "https://localhost:8080/"
        },
        "id": "36Sin1tM99Pm",
        "outputId": "5fd9577b-5eb7-4c1b-d7b6-8646056bc4ff"
      },
      "source": [
        "#DataFrame.info() : returns information about a DataFrame including the index dtype and column dtypes, non-null values and memory usage.\"\"\"\n",
        "dfTrain.info()"
      ],
      "execution_count": 29,
      "outputs": [
        {
          "output_type": "stream",
          "text": [
            "<class 'pandas.core.frame.DataFrame'>\n",
            "Int64Index: 46898 entries, 0 to 46903\n",
            "Data columns (total 18 columns):\n",
            " #   Column                  Non-Null Count  Dtype         \n",
            "---  ------                  --------------  -----         \n",
            " 0   business_code           46898 non-null  object        \n",
            " 1   cust_number             46898 non-null  object        \n",
            " 2   name_customer           46898 non-null  object        \n",
            " 3   clear_date              46898 non-null  datetime64[ns]\n",
            " 4   buisness_year           46898 non-null  float64       \n",
            " 5   doc_id                  46898 non-null  float64       \n",
            " 6   posting_date            46898 non-null  datetime64[ns]\n",
            " 7   document_create_date    46898 non-null  datetime64[ns]\n",
            " 8   document_create_date.1  46898 non-null  datetime64[ns]\n",
            " 9   due_in_date             46898 non-null  datetime64[ns]\n",
            " 10  invoice_currency        46898 non-null  object        \n",
            " 11  document type           46898 non-null  object        \n",
            " 12  posting_id              46898 non-null  float64       \n",
            " 13  total_open_amount       46898 non-null  float64       \n",
            " 14  baseline_create_date    46898 non-null  datetime64[ns]\n",
            " 15  cust_payment_terms      46898 non-null  object        \n",
            " 16  invoice_id              46898 non-null  float64       \n",
            " 17  isOpen                  46898 non-null  int64         \n",
            "dtypes: datetime64[ns](6), float64(5), int64(1), object(6)\n",
            "memory usage: 6.8+ MB\n"
          ],
          "name": "stdout"
        }
      ]
    },
    {
      "cell_type": "code",
      "metadata": {
        "colab": {
          "base_uri": "https://localhost:8080/"
        },
        "id": "IqCCvchC-r5R",
        "outputId": "046883e0-bab7-48c8-d485-f6a96d0a46bf"
      },
      "source": [
        "dfTrain.shape"
      ],
      "execution_count": 30,
      "outputs": [
        {
          "output_type": "execute_result",
          "data": {
            "text/plain": [
              "(46898, 18)"
            ]
          },
          "metadata": {
            "tags": []
          },
          "execution_count": 30
        }
      ]
    },
    {
      "cell_type": "code",
      "metadata": {
        "colab": {
          "base_uri": "https://localhost:8080/",
          "height": 0
        },
        "id": "PNQqyYof-crf",
        "outputId": "017d6c74-410c-4471-8421-7c2db369637b"
      },
      "source": [
        "dfTrain.head()"
      ],
      "execution_count": 31,
      "outputs": [
        {
          "output_type": "execute_result",
          "data": {
            "text/html": [
              "<div>\n",
              "<style scoped>\n",
              "    .dataframe tbody tr th:only-of-type {\n",
              "        vertical-align: middle;\n",
              "    }\n",
              "\n",
              "    .dataframe tbody tr th {\n",
              "        vertical-align: top;\n",
              "    }\n",
              "\n",
              "    .dataframe thead th {\n",
              "        text-align: right;\n",
              "    }\n",
              "</style>\n",
              "<table border=\"1\" class=\"dataframe\">\n",
              "  <thead>\n",
              "    <tr style=\"text-align: right;\">\n",
              "      <th></th>\n",
              "      <th>business_code</th>\n",
              "      <th>cust_number</th>\n",
              "      <th>name_customer</th>\n",
              "      <th>clear_date</th>\n",
              "      <th>buisness_year</th>\n",
              "      <th>doc_id</th>\n",
              "      <th>posting_date</th>\n",
              "      <th>document_create_date</th>\n",
              "      <th>document_create_date.1</th>\n",
              "      <th>due_in_date</th>\n",
              "      <th>invoice_currency</th>\n",
              "      <th>document type</th>\n",
              "      <th>posting_id</th>\n",
              "      <th>total_open_amount</th>\n",
              "      <th>baseline_create_date</th>\n",
              "      <th>cust_payment_terms</th>\n",
              "      <th>invoice_id</th>\n",
              "      <th>isOpen</th>\n",
              "    </tr>\n",
              "  </thead>\n",
              "  <tbody>\n",
              "    <tr>\n",
              "      <th>0</th>\n",
              "      <td>U001</td>\n",
              "      <td>0200769623</td>\n",
              "      <td>WAL-MAR in</td>\n",
              "      <td>2019-12-12</td>\n",
              "      <td>2019.0</td>\n",
              "      <td>1.930179e+09</td>\n",
              "      <td>2019-11-22</td>\n",
              "      <td>2019-11-21</td>\n",
              "      <td>2019-11-22</td>\n",
              "      <td>2019-12-07</td>\n",
              "      <td>USD</td>\n",
              "      <td>RV</td>\n",
              "      <td>1.0</td>\n",
              "      <td>21594.83</td>\n",
              "      <td>2019-11-22</td>\n",
              "      <td>NAH4</td>\n",
              "      <td>1.930179e+09</td>\n",
              "      <td>0</td>\n",
              "    </tr>\n",
              "    <tr>\n",
              "      <th>1</th>\n",
              "      <td>U001</td>\n",
              "      <td>0200769623</td>\n",
              "      <td>WAL-MAR systems</td>\n",
              "      <td>2020-02-18</td>\n",
              "      <td>2020.0</td>\n",
              "      <td>1.930471e+09</td>\n",
              "      <td>2020-02-05</td>\n",
              "      <td>2020-02-03</td>\n",
              "      <td>2020-02-05</td>\n",
              "      <td>2020-02-20</td>\n",
              "      <td>USD</td>\n",
              "      <td>RV</td>\n",
              "      <td>1.0</td>\n",
              "      <td>69106.76</td>\n",
              "      <td>2020-02-05</td>\n",
              "      <td>NAH4</td>\n",
              "      <td>1.930471e+09</td>\n",
              "      <td>0</td>\n",
              "    </tr>\n",
              "    <tr>\n",
              "      <th>2</th>\n",
              "      <td>U001</td>\n",
              "      <td>0200769623</td>\n",
              "      <td>WAL-MAR foundation</td>\n",
              "      <td>2019-08-20</td>\n",
              "      <td>2019.0</td>\n",
              "      <td>1.929698e+09</td>\n",
              "      <td>2019-08-05</td>\n",
              "      <td>2019-08-03</td>\n",
              "      <td>2019-08-05</td>\n",
              "      <td>2019-08-20</td>\n",
              "      <td>USD</td>\n",
              "      <td>RV</td>\n",
              "      <td>1.0</td>\n",
              "      <td>78218.44</td>\n",
              "      <td>2019-08-05</td>\n",
              "      <td>NAH4</td>\n",
              "      <td>1.929698e+09</td>\n",
              "      <td>0</td>\n",
              "    </tr>\n",
              "    <tr>\n",
              "      <th>3</th>\n",
              "      <td>U001</td>\n",
              "      <td>0200772595</td>\n",
              "      <td>SAFEW llc</td>\n",
              "      <td>2019-10-30</td>\n",
              "      <td>2019.0</td>\n",
              "      <td>1.929796e+09</td>\n",
              "      <td>2019-08-26</td>\n",
              "      <td>2019-08-26</td>\n",
              "      <td>2019-08-26</td>\n",
              "      <td>2019-10-30</td>\n",
              "      <td>USD</td>\n",
              "      <td>RV</td>\n",
              "      <td>1.0</td>\n",
              "      <td>3231.66</td>\n",
              "      <td>2019-08-26</td>\n",
              "      <td>NAGD</td>\n",
              "      <td>1.929796e+09</td>\n",
              "      <td>0</td>\n",
              "    </tr>\n",
              "    <tr>\n",
              "      <th>4</th>\n",
              "      <td>U001</td>\n",
              "      <td>0200772595</td>\n",
              "      <td>SAFEW in</td>\n",
              "      <td>2019-04-02</td>\n",
              "      <td>2019.0</td>\n",
              "      <td>1.928976e+09</td>\n",
              "      <td>2019-03-18</td>\n",
              "      <td>2019-03-16</td>\n",
              "      <td>2019-03-18</td>\n",
              "      <td>2019-04-02</td>\n",
              "      <td>USD</td>\n",
              "      <td>RV</td>\n",
              "      <td>1.0</td>\n",
              "      <td>2547.39</td>\n",
              "      <td>2019-03-18</td>\n",
              "      <td>NAA8</td>\n",
              "      <td>1.928976e+09</td>\n",
              "      <td>0</td>\n",
              "    </tr>\n",
              "  </tbody>\n",
              "</table>\n",
              "</div>"
            ],
            "text/plain": [
              "  business_code cust_number  ...    invoice_id isOpen\n",
              "0          U001  0200769623  ...  1.930179e+09      0\n",
              "1          U001  0200769623  ...  1.930471e+09      0\n",
              "2          U001  0200769623  ...  1.929698e+09      0\n",
              "3          U001  0200772595  ...  1.929796e+09      0\n",
              "4          U001  0200772595  ...  1.928976e+09      0\n",
              "\n",
              "[5 rows x 18 columns]"
            ]
          },
          "metadata": {
            "tags": []
          },
          "execution_count": 31
        }
      ]
    },
    {
      "cell_type": "markdown",
      "metadata": {
        "id": "4T2kc2NOAt-k"
      },
      "source": [
        "####*Spliting dfTrain into Train DataSet and Validation DataSet*\n"
      ]
    },
    {
      "cell_type": "code",
      "metadata": {
        "colab": {
          "base_uri": "https://localhost:8080/",
          "height": 53
        },
        "id": "AosX0ThVBQOE",
        "outputId": "1e93b8b8-643c-4c9c-d01c-6c39349f9aa2"
      },
      "source": [
        "\"\"\"For splitting into train and val2 \n",
        "splitting should be done on the basis of date as it will include the trends w.r.t time of occurence and season\"\"\"\n",
        "\n",
        "\n",
        "\"\"\"On the basis of Dataset values it is not possible to clearly differentiate among the columns 'posting_date','document_create_date','document_create_date.1' and 'baseline_create_date'\n",
        "so first check that whether they are duplicates or not.\"\"\""
      ],
      "execution_count": 32,
      "outputs": [
        {
          "output_type": "execute_result",
          "data": {
            "application/vnd.google.colaboratory.intrinsic+json": {
              "type": "string"
            },
            "text/plain": [
              "\"On the basis of Dataset values it is not possible to clearly differentiate among the columns 'posting_date','document_create_date','document_create_date.1' and 'baseline_create_date'\\nso first check that whether they are duplicates or not.\""
            ]
          },
          "metadata": {
            "tags": []
          },
          "execution_count": 32
        }
      ]
    },
    {
      "cell_type": "markdown",
      "metadata": {
        "id": "LpOcwSvJCzWY"
      },
      "source": [
        "######*Comparing columns 'posting_date', 'document_create_date', 'document_create_date.1' and 'baseline_create_date' are duplicate or not*"
      ]
    },
    {
      "cell_type": "code",
      "metadata": {
        "colab": {
          "base_uri": "https://localhost:8080/"
        },
        "id": "SSVaYOalDB8Z",
        "outputId": "bb30a448-7a18-43a7-b033-3d36e82ca191"
      },
      "source": [
        "#df temp is a temporary DataFrame made out of only four columns of the train DataSet\n",
        "dfTemp = dfTrain[[\"document_create_date.1\", \"baseline_create_date\", \"document_create_date\", \"posting_date\"]]\n",
        "print(dfTemp)\n",
        "dfTemp = dfTemp.T #DataFrame.T is done for transpose\n",
        "print(dfTemp)"
      ],
      "execution_count": 33,
      "outputs": [
        {
          "output_type": "stream",
          "text": [
            "      document_create_date.1  ... posting_date\n",
            "0                 2019-11-22  ...   2019-11-22\n",
            "1                 2020-02-05  ...   2020-02-05\n",
            "2                 2019-08-05  ...   2019-08-05\n",
            "3                 2019-08-26  ...   2019-08-26\n",
            "4                 2019-03-18  ...   2019-03-18\n",
            "...                      ...  ...          ...\n",
            "46899             2020-01-06  ...   2020-01-06\n",
            "46900             2019-04-06  ...   2019-04-06\n",
            "46901             2019-07-18  ...   2019-07-18\n",
            "46902             2019-09-24  ...   2019-09-24\n",
            "46903             2020-02-11  ...   2020-02-11\n",
            "\n",
            "[46898 rows x 4 columns]\n",
            "                            0          1      ...      46902      46903\n",
            "document_create_date.1 2019-11-22 2020-02-05  ... 2019-09-24 2020-02-11\n",
            "baseline_create_date   2019-11-22 2020-02-05  ... 2019-09-16 2020-02-11\n",
            "document_create_date   2019-11-21 2020-02-03  ... 2019-09-24 2020-02-10\n",
            "posting_date           2019-11-22 2020-02-05  ... 2019-09-24 2020-02-11\n",
            "\n",
            "[4 rows x 46898 columns]\n"
          ],
          "name": "stdout"
        }
      ]
    },
    {
      "cell_type": "code",
      "metadata": {
        "colab": {
          "base_uri": "https://localhost:8080/"
        },
        "id": "KQmyDatTEKUD",
        "outputId": "66645ce2-304c-4337-df24-3b6844381972"
      },
      "source": [
        "\"\"\"DataFrame.duplicated() checks for duplicate values and returns boolean values,\n",
        " return false if it is the first occurance and \n",
        " return true if it is the duplicate occurance (other than first occurance)\"\"\"\n",
        "\n",
        "temp = dfTemp.duplicated().to_dict()\n",
        "print(temp,end='\\n\\n')\n",
        "for key in temp:\n",
        "    print(f\"{key:22} : Not Duplicate\") if temp[key] == False else print(f\"{key:22} : Duplicate\")\n",
        "\n",
        "dfTemp = dfTemp.T # again transposing dfTemp"
      ],
      "execution_count": 34,
      "outputs": [
        {
          "output_type": "stream",
          "text": [
            "{'document_create_date.1': False, 'baseline_create_date': False, 'document_create_date': False, 'posting_date': True}\n",
            "\n",
            "document_create_date.1 : Not Duplicate\n",
            "baseline_create_date   : Not Duplicate\n",
            "document_create_date   : Not Duplicate\n",
            "posting_date           : Duplicate\n"
          ],
          "name": "stdout"
        }
      ]
    },
    {
      "cell_type": "markdown",
      "metadata": {
        "id": "zzmhQGKVKCCv"
      },
      "source": [
        "*Drop Duplicate Column*"
      ]
    },
    {
      "cell_type": "code",
      "metadata": {
        "id": "GrCd9bwXL_Kg"
      },
      "source": [
        "#dfTemp"
      ],
      "execution_count": 35,
      "outputs": []
    },
    {
      "cell_type": "code",
      "metadata": {
        "colab": {
          "base_uri": "https://localhost:8080/",
          "height": 275
        },
        "id": "xojJbGKhHCDS",
        "outputId": "e5f5ef55-30aa-4e02-d28c-b8a89d150b9a"
      },
      "source": [
        "#Now dropping Duplicate Column\n",
        "dfTemp.pop('posting_date')\n",
        "dfTrain.pop('posting_date')\n",
        "dfTest.pop('posting_date')\n",
        "dfTrain.head()"
      ],
      "execution_count": 36,
      "outputs": [
        {
          "output_type": "execute_result",
          "data": {
            "text/html": [
              "<div>\n",
              "<style scoped>\n",
              "    .dataframe tbody tr th:only-of-type {\n",
              "        vertical-align: middle;\n",
              "    }\n",
              "\n",
              "    .dataframe tbody tr th {\n",
              "        vertical-align: top;\n",
              "    }\n",
              "\n",
              "    .dataframe thead th {\n",
              "        text-align: right;\n",
              "    }\n",
              "</style>\n",
              "<table border=\"1\" class=\"dataframe\">\n",
              "  <thead>\n",
              "    <tr style=\"text-align: right;\">\n",
              "      <th></th>\n",
              "      <th>business_code</th>\n",
              "      <th>cust_number</th>\n",
              "      <th>name_customer</th>\n",
              "      <th>clear_date</th>\n",
              "      <th>buisness_year</th>\n",
              "      <th>doc_id</th>\n",
              "      <th>document_create_date</th>\n",
              "      <th>document_create_date.1</th>\n",
              "      <th>due_in_date</th>\n",
              "      <th>invoice_currency</th>\n",
              "      <th>document type</th>\n",
              "      <th>posting_id</th>\n",
              "      <th>total_open_amount</th>\n",
              "      <th>baseline_create_date</th>\n",
              "      <th>cust_payment_terms</th>\n",
              "      <th>invoice_id</th>\n",
              "      <th>isOpen</th>\n",
              "    </tr>\n",
              "  </thead>\n",
              "  <tbody>\n",
              "    <tr>\n",
              "      <th>0</th>\n",
              "      <td>U001</td>\n",
              "      <td>0200769623</td>\n",
              "      <td>WAL-MAR in</td>\n",
              "      <td>2019-12-12</td>\n",
              "      <td>2019.0</td>\n",
              "      <td>1.930179e+09</td>\n",
              "      <td>2019-11-21</td>\n",
              "      <td>2019-11-22</td>\n",
              "      <td>2019-12-07</td>\n",
              "      <td>USD</td>\n",
              "      <td>RV</td>\n",
              "      <td>1.0</td>\n",
              "      <td>21594.83</td>\n",
              "      <td>2019-11-22</td>\n",
              "      <td>NAH4</td>\n",
              "      <td>1.930179e+09</td>\n",
              "      <td>0</td>\n",
              "    </tr>\n",
              "    <tr>\n",
              "      <th>1</th>\n",
              "      <td>U001</td>\n",
              "      <td>0200769623</td>\n",
              "      <td>WAL-MAR systems</td>\n",
              "      <td>2020-02-18</td>\n",
              "      <td>2020.0</td>\n",
              "      <td>1.930471e+09</td>\n",
              "      <td>2020-02-03</td>\n",
              "      <td>2020-02-05</td>\n",
              "      <td>2020-02-20</td>\n",
              "      <td>USD</td>\n",
              "      <td>RV</td>\n",
              "      <td>1.0</td>\n",
              "      <td>69106.76</td>\n",
              "      <td>2020-02-05</td>\n",
              "      <td>NAH4</td>\n",
              "      <td>1.930471e+09</td>\n",
              "      <td>0</td>\n",
              "    </tr>\n",
              "    <tr>\n",
              "      <th>2</th>\n",
              "      <td>U001</td>\n",
              "      <td>0200769623</td>\n",
              "      <td>WAL-MAR foundation</td>\n",
              "      <td>2019-08-20</td>\n",
              "      <td>2019.0</td>\n",
              "      <td>1.929698e+09</td>\n",
              "      <td>2019-08-03</td>\n",
              "      <td>2019-08-05</td>\n",
              "      <td>2019-08-20</td>\n",
              "      <td>USD</td>\n",
              "      <td>RV</td>\n",
              "      <td>1.0</td>\n",
              "      <td>78218.44</td>\n",
              "      <td>2019-08-05</td>\n",
              "      <td>NAH4</td>\n",
              "      <td>1.929698e+09</td>\n",
              "      <td>0</td>\n",
              "    </tr>\n",
              "    <tr>\n",
              "      <th>3</th>\n",
              "      <td>U001</td>\n",
              "      <td>0200772595</td>\n",
              "      <td>SAFEW llc</td>\n",
              "      <td>2019-10-30</td>\n",
              "      <td>2019.0</td>\n",
              "      <td>1.929796e+09</td>\n",
              "      <td>2019-08-26</td>\n",
              "      <td>2019-08-26</td>\n",
              "      <td>2019-10-30</td>\n",
              "      <td>USD</td>\n",
              "      <td>RV</td>\n",
              "      <td>1.0</td>\n",
              "      <td>3231.66</td>\n",
              "      <td>2019-08-26</td>\n",
              "      <td>NAGD</td>\n",
              "      <td>1.929796e+09</td>\n",
              "      <td>0</td>\n",
              "    </tr>\n",
              "    <tr>\n",
              "      <th>4</th>\n",
              "      <td>U001</td>\n",
              "      <td>0200772595</td>\n",
              "      <td>SAFEW in</td>\n",
              "      <td>2019-04-02</td>\n",
              "      <td>2019.0</td>\n",
              "      <td>1.928976e+09</td>\n",
              "      <td>2019-03-16</td>\n",
              "      <td>2019-03-18</td>\n",
              "      <td>2019-04-02</td>\n",
              "      <td>USD</td>\n",
              "      <td>RV</td>\n",
              "      <td>1.0</td>\n",
              "      <td>2547.39</td>\n",
              "      <td>2019-03-18</td>\n",
              "      <td>NAA8</td>\n",
              "      <td>1.928976e+09</td>\n",
              "      <td>0</td>\n",
              "    </tr>\n",
              "  </tbody>\n",
              "</table>\n",
              "</div>"
            ],
            "text/plain": [
              "  business_code cust_number  ...    invoice_id isOpen\n",
              "0          U001  0200769623  ...  1.930179e+09      0\n",
              "1          U001  0200769623  ...  1.930471e+09      0\n",
              "2          U001  0200769623  ...  1.929698e+09      0\n",
              "3          U001  0200772595  ...  1.929796e+09      0\n",
              "4          U001  0200772595  ...  1.928976e+09      0\n",
              "\n",
              "[5 rows x 17 columns]"
            ]
          },
          "metadata": {
            "tags": []
          },
          "execution_count": 36
        }
      ]
    },
    {
      "cell_type": "code",
      "metadata": {
        "colab": {
          "base_uri": "https://localhost:8080/"
        },
        "id": "lwmG-6NOJ0k6",
        "outputId": "cfc05293-b39f-45c4-ecdc-f53daa46107a"
      },
      "source": [
        "dfTrain.shape"
      ],
      "execution_count": 37,
      "outputs": [
        {
          "output_type": "execute_result",
          "data": {
            "text/plain": [
              "(46898, 17)"
            ]
          },
          "metadata": {
            "tags": []
          },
          "execution_count": 37
        }
      ]
    },
    {
      "cell_type": "code",
      "metadata": {
        "colab": {
          "base_uri": "https://localhost:8080/"
        },
        "id": "kaZ0eE0rMUED",
        "outputId": "8810e236-02f7-422e-b50d-6e56a47db2c1"
      },
      "source": [
        "dfTemp.columns"
      ],
      "execution_count": 38,
      "outputs": [
        {
          "output_type": "execute_result",
          "data": {
            "text/plain": [
              "Index(['document_create_date.1', 'baseline_create_date',\n",
              "       'document_create_date'],\n",
              "      dtype='object')"
            ]
          },
          "metadata": {
            "tags": []
          },
          "execution_count": 38
        }
      ]
    },
    {
      "cell_type": "markdown",
      "metadata": {
        "id": "BaneCrLTKWLF"
      },
      "source": [
        "*Check Correlation*"
      ]
    },
    {
      "cell_type": "code",
      "metadata": {
        "colab": {
          "base_uri": "https://localhost:8080/",
          "height": 53
        },
        "id": "F7_ztOnJKf64",
        "outputId": "4568a175-472e-4a29-83d9-06f5c766a1a7"
      },
      "source": [
        "\"\"\"To find that according to which DataFrame we should split the train and validation dataset\n",
        "checking how related are these three columns : \n",
        "1: document_create_date.1, \n",
        "2: baseline_create_date, \n",
        "3: document_create_date \"\"\""
      ],
      "execution_count": 39,
      "outputs": [
        {
          "output_type": "execute_result",
          "data": {
            "application/vnd.google.colaboratory.intrinsic+json": {
              "type": "string"
            },
            "text/plain": [
              "'To find that according to which DataFrame we should split the train and validation dataset\\nchecking how related are these three columns : \\n1: document_create_date.1, \\n2: baseline_create_date, \\n3: document_create_date '"
            ]
          },
          "metadata": {
            "tags": []
          },
          "execution_count": 39
        }
      ]
    },
    {
      "cell_type": "code",
      "metadata": {
        "colab": {
          "base_uri": "https://localhost:8080/",
          "height": 361
        },
        "id": "2DzyX7_MLNDt",
        "outputId": "0bfb09a7-84d0-4ef0-e7a9-2c28ef0fa88b"
      },
      "source": [
        "\"\"\"The describe() method is used for calculating some statistical data like percentile, mean and standard deviation\n",
        " of the numerical values of the Series or DataFrame. \n",
        "It analyzes both numeric and object series and also the DataFrame column sets of mixed data types.\"\"\"\n",
        "dfTemp.describe()"
      ],
      "execution_count": 40,
      "outputs": [
        {
          "output_type": "stream",
          "text": [
            "/usr/local/lib/python3.7/dist-packages/ipykernel_launcher.py:4: FutureWarning: Treating datetime data as categorical rather than numeric in `.describe` is deprecated and will be removed in a future version of pandas. Specify `datetime_is_numeric=True` to silence this warning and adopt the future behavior now.\n",
            "  after removing the cwd from sys.path.\n",
            "/usr/local/lib/python3.7/dist-packages/ipykernel_launcher.py:4: FutureWarning: Treating datetime data as categorical rather than numeric in `.describe` is deprecated and will be removed in a future version of pandas. Specify `datetime_is_numeric=True` to silence this warning and adopt the future behavior now.\n",
            "  after removing the cwd from sys.path.\n",
            "/usr/local/lib/python3.7/dist-packages/ipykernel_launcher.py:4: FutureWarning: Treating datetime data as categorical rather than numeric in `.describe` is deprecated and will be removed in a future version of pandas. Specify `datetime_is_numeric=True` to silence this warning and adopt the future behavior now.\n",
            "  after removing the cwd from sys.path.\n"
          ],
          "name": "stderr"
        },
        {
          "output_type": "execute_result",
          "data": {
            "text/html": [
              "<div>\n",
              "<style scoped>\n",
              "    .dataframe tbody tr th:only-of-type {\n",
              "        vertical-align: middle;\n",
              "    }\n",
              "\n",
              "    .dataframe tbody tr th {\n",
              "        vertical-align: top;\n",
              "    }\n",
              "\n",
              "    .dataframe thead th {\n",
              "        text-align: right;\n",
              "    }\n",
              "</style>\n",
              "<table border=\"1\" class=\"dataframe\">\n",
              "  <thead>\n",
              "    <tr style=\"text-align: right;\">\n",
              "      <th></th>\n",
              "      <th>document_create_date.1</th>\n",
              "      <th>baseline_create_date</th>\n",
              "      <th>document_create_date</th>\n",
              "    </tr>\n",
              "  </thead>\n",
              "  <tbody>\n",
              "    <tr>\n",
              "      <th>count</th>\n",
              "      <td>46898</td>\n",
              "      <td>46898</td>\n",
              "      <td>46898</td>\n",
              "    </tr>\n",
              "    <tr>\n",
              "      <th>unique</th>\n",
              "      <td>425</td>\n",
              "      <td>435</td>\n",
              "      <td>429</td>\n",
              "    </tr>\n",
              "    <tr>\n",
              "      <th>top</th>\n",
              "      <td>2019-04-03 00:00:00</td>\n",
              "      <td>2019-03-01 00:00:00</td>\n",
              "      <td>2019-02-26 00:00:00</td>\n",
              "    </tr>\n",
              "    <tr>\n",
              "      <th>freq</th>\n",
              "      <td>200</td>\n",
              "      <td>246</td>\n",
              "      <td>197</td>\n",
              "    </tr>\n",
              "    <tr>\n",
              "      <th>first</th>\n",
              "      <td>2018-12-30 00:00:00</td>\n",
              "      <td>2018-11-19 00:00:00</td>\n",
              "      <td>2018-12-26 00:00:00</td>\n",
              "    </tr>\n",
              "    <tr>\n",
              "      <th>last</th>\n",
              "      <td>2020-02-27 00:00:00</td>\n",
              "      <td>2020-03-15 00:00:00</td>\n",
              "      <td>2020-02-28 00:00:00</td>\n",
              "    </tr>\n",
              "  </tbody>\n",
              "</table>\n",
              "</div>"
            ],
            "text/plain": [
              "       document_create_date.1 baseline_create_date document_create_date\n",
              "count                   46898                46898                46898\n",
              "unique                    425                  435                  429\n",
              "top       2019-04-03 00:00:00  2019-03-01 00:00:00  2019-02-26 00:00:00\n",
              "freq                      200                  246                  197\n",
              "first     2018-12-30 00:00:00  2018-11-19 00:00:00  2018-12-26 00:00:00\n",
              "last      2020-02-27 00:00:00  2020-03-15 00:00:00  2020-02-28 00:00:00"
            ]
          },
          "metadata": {
            "tags": []
          },
          "execution_count": 40
        }
      ]
    },
    {
      "cell_type": "code",
      "metadata": {
        "id": "yGlEnpqcNApQ"
      },
      "source": [
        "#Correlation cannot be found on datetime objects so instead of using date we can use day number by choosing a specific startdate\n",
        "#choosing the earliest first date among all three columns\n",
        "#To see first date among all three columns refer the cell above where we have used the df.describe() "
      ],
      "execution_count": 41,
      "outputs": []
    },
    {
      "cell_type": "code",
      "metadata": {
        "colab": {
          "base_uri": "https://localhost:8080/"
        },
        "id": "TQB68jlIOII8",
        "outputId": "baa5b217-9f76-442b-a3da-01250bb7bc38"
      },
      "source": [
        "startDate= datetime.datetime(2018, 11, 19) #from baseline_create_date column\n",
        "print(startDate)"
      ],
      "execution_count": 42,
      "outputs": [
        {
          "output_type": "stream",
          "text": [
            "2018-11-19 00:00:00\n"
          ],
          "name": "stdout"
        }
      ]
    },
    {
      "cell_type": "code",
      "metadata": {
        "colab": {
          "base_uri": "https://localhost:8080/",
          "height": 224
        },
        "id": "98pekJ4VPFRb",
        "outputId": "6a9c1e49-68e5-4aca-b260-967daa3a27b9"
      },
      "source": [
        "dfTemp['dayNumber_document_create_date.1'] = (dfTemp['document_create_date.1'] - startDate).dt.days\n",
        "dfTemp['dayNumber_document_create_date'] = (dfTemp['document_create_date'] - startDate).dt.days\n",
        "dfTemp['dayNumber_baseline_create_date'] = (dfTemp['baseline_create_date'] - startDate).dt.days\n",
        "dfTemp.head()"
      ],
      "execution_count": 43,
      "outputs": [
        {
          "output_type": "execute_result",
          "data": {
            "text/html": [
              "<div>\n",
              "<style scoped>\n",
              "    .dataframe tbody tr th:only-of-type {\n",
              "        vertical-align: middle;\n",
              "    }\n",
              "\n",
              "    .dataframe tbody tr th {\n",
              "        vertical-align: top;\n",
              "    }\n",
              "\n",
              "    .dataframe thead th {\n",
              "        text-align: right;\n",
              "    }\n",
              "</style>\n",
              "<table border=\"1\" class=\"dataframe\">\n",
              "  <thead>\n",
              "    <tr style=\"text-align: right;\">\n",
              "      <th></th>\n",
              "      <th>document_create_date.1</th>\n",
              "      <th>baseline_create_date</th>\n",
              "      <th>document_create_date</th>\n",
              "      <th>dayNumber_document_create_date.1</th>\n",
              "      <th>dayNumber_document_create_date</th>\n",
              "      <th>dayNumber_baseline_create_date</th>\n",
              "    </tr>\n",
              "  </thead>\n",
              "  <tbody>\n",
              "    <tr>\n",
              "      <th>0</th>\n",
              "      <td>2019-11-22</td>\n",
              "      <td>2019-11-22</td>\n",
              "      <td>2019-11-21</td>\n",
              "      <td>368</td>\n",
              "      <td>367</td>\n",
              "      <td>368</td>\n",
              "    </tr>\n",
              "    <tr>\n",
              "      <th>1</th>\n",
              "      <td>2020-02-05</td>\n",
              "      <td>2020-02-05</td>\n",
              "      <td>2020-02-03</td>\n",
              "      <td>443</td>\n",
              "      <td>441</td>\n",
              "      <td>443</td>\n",
              "    </tr>\n",
              "    <tr>\n",
              "      <th>2</th>\n",
              "      <td>2019-08-05</td>\n",
              "      <td>2019-08-05</td>\n",
              "      <td>2019-08-03</td>\n",
              "      <td>259</td>\n",
              "      <td>257</td>\n",
              "      <td>259</td>\n",
              "    </tr>\n",
              "    <tr>\n",
              "      <th>3</th>\n",
              "      <td>2019-08-26</td>\n",
              "      <td>2019-08-26</td>\n",
              "      <td>2019-08-26</td>\n",
              "      <td>280</td>\n",
              "      <td>280</td>\n",
              "      <td>280</td>\n",
              "    </tr>\n",
              "    <tr>\n",
              "      <th>4</th>\n",
              "      <td>2019-03-18</td>\n",
              "      <td>2019-03-18</td>\n",
              "      <td>2019-03-16</td>\n",
              "      <td>119</td>\n",
              "      <td>117</td>\n",
              "      <td>119</td>\n",
              "    </tr>\n",
              "  </tbody>\n",
              "</table>\n",
              "</div>"
            ],
            "text/plain": [
              "  document_create_date.1  ... dayNumber_baseline_create_date\n",
              "0             2019-11-22  ...                            368\n",
              "1             2020-02-05  ...                            443\n",
              "2             2019-08-05  ...                            259\n",
              "3             2019-08-26  ...                            280\n",
              "4             2019-03-18  ...                            119\n",
              "\n",
              "[5 rows x 6 columns]"
            ]
          },
          "metadata": {
            "tags": []
          },
          "execution_count": 43
        }
      ]
    },
    {
      "cell_type": "code",
      "metadata": {
        "colab": {
          "base_uri": "https://localhost:8080/",
          "height": 180
        },
        "id": "Kf7rinAvQRe7",
        "outputId": "f60e9b11-b8d7-4fb9-e60f-5ff38def0e6b"
      },
      "source": [
        "#Calculating Correlation\n",
        "print(\"Correlation Matrix : \")\n",
        "dfTemp[[\"dayNumber_document_create_date.1\", \"dayNumber_document_create_date\", \"dayNumber_baseline_create_date\"]].corr()"
      ],
      "execution_count": 44,
      "outputs": [
        {
          "output_type": "stream",
          "text": [
            "Correlation Matrix : \n"
          ],
          "name": "stdout"
        },
        {
          "output_type": "execute_result",
          "data": {
            "text/html": [
              "<div>\n",
              "<style scoped>\n",
              "    .dataframe tbody tr th:only-of-type {\n",
              "        vertical-align: middle;\n",
              "    }\n",
              "\n",
              "    .dataframe tbody tr th {\n",
              "        vertical-align: top;\n",
              "    }\n",
              "\n",
              "    .dataframe thead th {\n",
              "        text-align: right;\n",
              "    }\n",
              "</style>\n",
              "<table border=\"1\" class=\"dataframe\">\n",
              "  <thead>\n",
              "    <tr style=\"text-align: right;\">\n",
              "      <th></th>\n",
              "      <th>dayNumber_document_create_date.1</th>\n",
              "      <th>dayNumber_document_create_date</th>\n",
              "      <th>dayNumber_baseline_create_date</th>\n",
              "    </tr>\n",
              "  </thead>\n",
              "  <tbody>\n",
              "    <tr>\n",
              "      <th>dayNumber_document_create_date.1</th>\n",
              "      <td>1.000000</td>\n",
              "      <td>0.999917</td>\n",
              "      <td>0.999790</td>\n",
              "    </tr>\n",
              "    <tr>\n",
              "      <th>dayNumber_document_create_date</th>\n",
              "      <td>0.999917</td>\n",
              "      <td>1.000000</td>\n",
              "      <td>0.999704</td>\n",
              "    </tr>\n",
              "    <tr>\n",
              "      <th>dayNumber_baseline_create_date</th>\n",
              "      <td>0.999790</td>\n",
              "      <td>0.999704</td>\n",
              "      <td>1.000000</td>\n",
              "    </tr>\n",
              "  </tbody>\n",
              "</table>\n",
              "</div>"
            ],
            "text/plain": [
              "                                  dayNumber_document_create_date.1  ...  dayNumber_baseline_create_date\n",
              "dayNumber_document_create_date.1                          1.000000  ...                        0.999790\n",
              "dayNumber_document_create_date                            0.999917  ...                        0.999704\n",
              "dayNumber_baseline_create_date                            0.999790  ...                        1.000000\n",
              "\n",
              "[3 rows x 3 columns]"
            ]
          },
          "metadata": {
            "tags": []
          },
          "execution_count": 44
        }
      ]
    },
    {
      "cell_type": "code",
      "metadata": {
        "id": "yDN63HZyQrQe"
      },
      "source": [
        "#All correlation Matrix values are approximately 1, thus all three columns are very highly correlated\n",
        "#Thus futher spliting into train and vaidation can be done by choosing any one of the three columns\n",
        "#1: document_create_date.1, 2: baseline_create_date, 3: document_create_date\n",
        "\n",
        "#I am choosing document_create_date.1 for further spliting\n",
        "\n",
        "#splitting data into train and validation in 88% and 12% respectively\n",
        "from sklearn.model_selection import train_test_split\n",
        "dfTrain, dfValidation = train_test_split(dfTrain, test_size=0.15)"
      ],
      "execution_count": 45,
      "outputs": []
    },
    {
      "cell_type": "markdown",
      "metadata": {
        "id": "xwPV6O-dSYes"
      },
      "source": [
        "*Training DataSet*"
      ]
    },
    {
      "cell_type": "code",
      "metadata": {
        "colab": {
          "base_uri": "https://localhost:8080/",
          "height": 297
        },
        "id": "Qz9CLzXBSg1B",
        "outputId": "a3bf121a-d26b-4f54-a9fd-df62407e7c8c"
      },
      "source": [
        "dfTrain.describe()"
      ],
      "execution_count": 46,
      "outputs": [
        {
          "output_type": "execute_result",
          "data": {
            "text/html": [
              "<div>\n",
              "<style scoped>\n",
              "    .dataframe tbody tr th:only-of-type {\n",
              "        vertical-align: middle;\n",
              "    }\n",
              "\n",
              "    .dataframe tbody tr th {\n",
              "        vertical-align: top;\n",
              "    }\n",
              "\n",
              "    .dataframe thead th {\n",
              "        text-align: right;\n",
              "    }\n",
              "</style>\n",
              "<table border=\"1\" class=\"dataframe\">\n",
              "  <thead>\n",
              "    <tr style=\"text-align: right;\">\n",
              "      <th></th>\n",
              "      <th>buisness_year</th>\n",
              "      <th>doc_id</th>\n",
              "      <th>posting_id</th>\n",
              "      <th>total_open_amount</th>\n",
              "      <th>invoice_id</th>\n",
              "      <th>isOpen</th>\n",
              "    </tr>\n",
              "  </thead>\n",
              "  <tbody>\n",
              "    <tr>\n",
              "      <th>count</th>\n",
              "      <td>39863.000000</td>\n",
              "      <td>3.986300e+04</td>\n",
              "      <td>39863.0</td>\n",
              "      <td>39863.000000</td>\n",
              "      <td>3.986300e+04</td>\n",
              "      <td>39863.0</td>\n",
              "    </tr>\n",
              "    <tr>\n",
              "      <th>mean</th>\n",
              "      <td>2019.131601</td>\n",
              "      <td>2.011436e+09</td>\n",
              "      <td>1.0</td>\n",
              "      <td>32256.863130</td>\n",
              "      <td>2.011436e+09</td>\n",
              "      <td>0.0</td>\n",
              "    </tr>\n",
              "    <tr>\n",
              "      <th>std</th>\n",
              "      <td>0.338060</td>\n",
              "      <td>2.768420e+08</td>\n",
              "      <td>0.0</td>\n",
              "      <td>39856.819633</td>\n",
              "      <td>2.768420e+08</td>\n",
              "      <td>0.0</td>\n",
              "    </tr>\n",
              "    <tr>\n",
              "      <th>min</th>\n",
              "      <td>2019.000000</td>\n",
              "      <td>1.928502e+09</td>\n",
              "      <td>1.0</td>\n",
              "      <td>0.530000</td>\n",
              "      <td>1.928502e+09</td>\n",
              "      <td>0.0</td>\n",
              "    </tr>\n",
              "    <tr>\n",
              "      <th>25%</th>\n",
              "      <td>2019.000000</td>\n",
              "      <td>1.929178e+09</td>\n",
              "      <td>1.0</td>\n",
              "      <td>4915.155000</td>\n",
              "      <td>1.929178e+09</td>\n",
              "      <td>0.0</td>\n",
              "    </tr>\n",
              "    <tr>\n",
              "      <th>50%</th>\n",
              "      <td>2019.000000</td>\n",
              "      <td>1.929733e+09</td>\n",
              "      <td>1.0</td>\n",
              "      <td>17304.350000</td>\n",
              "      <td>1.929733e+09</td>\n",
              "      <td>0.0</td>\n",
              "    </tr>\n",
              "    <tr>\n",
              "      <th>75%</th>\n",
              "      <td>2019.000000</td>\n",
              "      <td>1.930208e+09</td>\n",
              "      <td>1.0</td>\n",
              "      <td>46610.570000</td>\n",
              "      <td>1.930208e+09</td>\n",
              "      <td>0.0</td>\n",
              "    </tr>\n",
              "    <tr>\n",
              "      <th>max</th>\n",
              "      <td>2020.000000</td>\n",
              "      <td>2.960618e+09</td>\n",
              "      <td>1.0</td>\n",
              "      <td>860880.000000</td>\n",
              "      <td>2.960618e+09</td>\n",
              "      <td>0.0</td>\n",
              "    </tr>\n",
              "  </tbody>\n",
              "</table>\n",
              "</div>"
            ],
            "text/plain": [
              "       buisness_year        doc_id  ...    invoice_id   isOpen\n",
              "count   39863.000000  3.986300e+04  ...  3.986300e+04  39863.0\n",
              "mean     2019.131601  2.011436e+09  ...  2.011436e+09      0.0\n",
              "std         0.338060  2.768420e+08  ...  2.768420e+08      0.0\n",
              "min      2019.000000  1.928502e+09  ...  1.928502e+09      0.0\n",
              "25%      2019.000000  1.929178e+09  ...  1.929178e+09      0.0\n",
              "50%      2019.000000  1.929733e+09  ...  1.929733e+09      0.0\n",
              "75%      2019.000000  1.930208e+09  ...  1.930208e+09      0.0\n",
              "max      2020.000000  2.960618e+09  ...  2.960618e+09      0.0\n",
              "\n",
              "[8 rows x 6 columns]"
            ]
          },
          "metadata": {
            "tags": []
          },
          "execution_count": 46
        }
      ]
    },
    {
      "cell_type": "code",
      "metadata": {
        "colab": {
          "base_uri": "https://localhost:8080/"
        },
        "id": "naf7V3gDSmXi",
        "outputId": "37196268-d09b-4f5f-ca95-152a0fe1ad86"
      },
      "source": [
        "dfTrain.shape"
      ],
      "execution_count": 47,
      "outputs": [
        {
          "output_type": "execute_result",
          "data": {
            "text/plain": [
              "(39863, 17)"
            ]
          },
          "metadata": {
            "tags": []
          },
          "execution_count": 47
        }
      ]
    },
    {
      "cell_type": "code",
      "metadata": {
        "colab": {
          "base_uri": "https://localhost:8080/",
          "height": 275
        },
        "id": "FneVzo2oSrm3",
        "outputId": "53eb2c3f-a2e8-4dac-ef00-20dfc5d70ad0"
      },
      "source": [
        "dfTrain.head()"
      ],
      "execution_count": 48,
      "outputs": [
        {
          "output_type": "execute_result",
          "data": {
            "text/html": [
              "<div>\n",
              "<style scoped>\n",
              "    .dataframe tbody tr th:only-of-type {\n",
              "        vertical-align: middle;\n",
              "    }\n",
              "\n",
              "    .dataframe tbody tr th {\n",
              "        vertical-align: top;\n",
              "    }\n",
              "\n",
              "    .dataframe thead th {\n",
              "        text-align: right;\n",
              "    }\n",
              "</style>\n",
              "<table border=\"1\" class=\"dataframe\">\n",
              "  <thead>\n",
              "    <tr style=\"text-align: right;\">\n",
              "      <th></th>\n",
              "      <th>business_code</th>\n",
              "      <th>cust_number</th>\n",
              "      <th>name_customer</th>\n",
              "      <th>clear_date</th>\n",
              "      <th>buisness_year</th>\n",
              "      <th>doc_id</th>\n",
              "      <th>document_create_date</th>\n",
              "      <th>document_create_date.1</th>\n",
              "      <th>due_in_date</th>\n",
              "      <th>invoice_currency</th>\n",
              "      <th>document type</th>\n",
              "      <th>posting_id</th>\n",
              "      <th>total_open_amount</th>\n",
              "      <th>baseline_create_date</th>\n",
              "      <th>cust_payment_terms</th>\n",
              "      <th>invoice_id</th>\n",
              "      <th>isOpen</th>\n",
              "    </tr>\n",
              "  </thead>\n",
              "  <tbody>\n",
              "    <tr>\n",
              "      <th>33376</th>\n",
              "      <td>U001</td>\n",
              "      <td>0200331749</td>\n",
              "      <td>SYSC co</td>\n",
              "      <td>2019-11-18</td>\n",
              "      <td>2019.0</td>\n",
              "      <td>1.930087e+09</td>\n",
              "      <td>2019-11-01</td>\n",
              "      <td>2019-11-01</td>\n",
              "      <td>2019-11-16</td>\n",
              "      <td>USD</td>\n",
              "      <td>RV</td>\n",
              "      <td>1.0</td>\n",
              "      <td>43288.46</td>\n",
              "      <td>2019-11-01</td>\n",
              "      <td>NAA8</td>\n",
              "      <td>1.930087e+09</td>\n",
              "      <td>0</td>\n",
              "    </tr>\n",
              "    <tr>\n",
              "      <th>38784</th>\n",
              "      <td>U001</td>\n",
              "      <td>200762301</td>\n",
              "      <td>C&amp;S WH systems</td>\n",
              "      <td>2019-04-11</td>\n",
              "      <td>2019.0</td>\n",
              "      <td>1.929037e+09</td>\n",
              "      <td>2019-03-27</td>\n",
              "      <td>2019-03-28</td>\n",
              "      <td>2019-04-12</td>\n",
              "      <td>USD</td>\n",
              "      <td>RV</td>\n",
              "      <td>1.0</td>\n",
              "      <td>3783.25</td>\n",
              "      <td>2019-03-28</td>\n",
              "      <td>NAC6</td>\n",
              "      <td>1.929037e+09</td>\n",
              "      <td>0</td>\n",
              "    </tr>\n",
              "    <tr>\n",
              "      <th>31175</th>\n",
              "      <td>U001</td>\n",
              "      <td>0200769623</td>\n",
              "      <td>WAL-MAR llc</td>\n",
              "      <td>2019-12-18</td>\n",
              "      <td>2019.0</td>\n",
              "      <td>1.930223e+09</td>\n",
              "      <td>2019-12-06</td>\n",
              "      <td>2019-12-07</td>\n",
              "      <td>2019-12-22</td>\n",
              "      <td>USD</td>\n",
              "      <td>RV</td>\n",
              "      <td>1.0</td>\n",
              "      <td>35.28</td>\n",
              "      <td>2019-12-07</td>\n",
              "      <td>NAH4</td>\n",
              "      <td>1.930223e+09</td>\n",
              "      <td>0</td>\n",
              "    </tr>\n",
              "    <tr>\n",
              "      <th>38204</th>\n",
              "      <td>U001</td>\n",
              "      <td>0200769623</td>\n",
              "      <td>WAL-MAR systems</td>\n",
              "      <td>2019-08-15</td>\n",
              "      <td>2019.0</td>\n",
              "      <td>1.929703e+09</td>\n",
              "      <td>2019-08-05</td>\n",
              "      <td>2019-08-05</td>\n",
              "      <td>2019-08-20</td>\n",
              "      <td>USD</td>\n",
              "      <td>RV</td>\n",
              "      <td>1.0</td>\n",
              "      <td>471.56</td>\n",
              "      <td>2019-08-05</td>\n",
              "      <td>NAH4</td>\n",
              "      <td>1.929703e+09</td>\n",
              "      <td>0</td>\n",
              "    </tr>\n",
              "    <tr>\n",
              "      <th>17575</th>\n",
              "      <td>U001</td>\n",
              "      <td>0200705089</td>\n",
              "      <td>JETR in</td>\n",
              "      <td>2019-11-04</td>\n",
              "      <td>2019.0</td>\n",
              "      <td>1.930013e+09</td>\n",
              "      <td>2019-10-14</td>\n",
              "      <td>2019-10-14</td>\n",
              "      <td>2019-10-29</td>\n",
              "      <td>USD</td>\n",
              "      <td>RV</td>\n",
              "      <td>1.0</td>\n",
              "      <td>916.09</td>\n",
              "      <td>2019-10-14</td>\n",
              "      <td>NAA8</td>\n",
              "      <td>1.930013e+09</td>\n",
              "      <td>0</td>\n",
              "    </tr>\n",
              "  </tbody>\n",
              "</table>\n",
              "</div>"
            ],
            "text/plain": [
              "      business_code cust_number  ...    invoice_id isOpen\n",
              "33376          U001  0200331749  ...  1.930087e+09      0\n",
              "38784          U001   200762301  ...  1.929037e+09      0\n",
              "31175          U001  0200769623  ...  1.930223e+09      0\n",
              "38204          U001  0200769623  ...  1.929703e+09      0\n",
              "17575          U001  0200705089  ...  1.930013e+09      0\n",
              "\n",
              "[5 rows x 17 columns]"
            ]
          },
          "metadata": {
            "tags": []
          },
          "execution_count": 48
        }
      ]
    },
    {
      "cell_type": "code",
      "metadata": {
        "colab": {
          "base_uri": "https://localhost:8080/"
        },
        "id": "Iw1qqvSMS51p",
        "outputId": "ebc8bc54-6835-49bb-9460-346c5b78861e"
      },
      "source": [
        "#DataFrame.info() : returns information about a DataFrame including the index dtype and column dtypes, non-null values and memory usage.\"\"\"\n",
        "dfTrain.info()"
      ],
      "execution_count": 49,
      "outputs": [
        {
          "output_type": "stream",
          "text": [
            "<class 'pandas.core.frame.DataFrame'>\n",
            "Int64Index: 39863 entries, 33376 to 11612\n",
            "Data columns (total 17 columns):\n",
            " #   Column                  Non-Null Count  Dtype         \n",
            "---  ------                  --------------  -----         \n",
            " 0   business_code           39863 non-null  object        \n",
            " 1   cust_number             39863 non-null  object        \n",
            " 2   name_customer           39863 non-null  object        \n",
            " 3   clear_date              39863 non-null  datetime64[ns]\n",
            " 4   buisness_year           39863 non-null  float64       \n",
            " 5   doc_id                  39863 non-null  float64       \n",
            " 6   document_create_date    39863 non-null  datetime64[ns]\n",
            " 7   document_create_date.1  39863 non-null  datetime64[ns]\n",
            " 8   due_in_date             39863 non-null  datetime64[ns]\n",
            " 9   invoice_currency        39863 non-null  object        \n",
            " 10  document type           39863 non-null  object        \n",
            " 11  posting_id              39863 non-null  float64       \n",
            " 12  total_open_amount       39863 non-null  float64       \n",
            " 13  baseline_create_date    39863 non-null  datetime64[ns]\n",
            " 14  cust_payment_terms      39863 non-null  object        \n",
            " 15  invoice_id              39863 non-null  float64       \n",
            " 16  isOpen                  39863 non-null  int64         \n",
            "dtypes: datetime64[ns](5), float64(5), int64(1), object(6)\n",
            "memory usage: 5.5+ MB\n"
          ],
          "name": "stdout"
        }
      ]
    },
    {
      "cell_type": "code",
      "metadata": {
        "colab": {
          "base_uri": "https://localhost:8080/"
        },
        "id": "NlelMoaQ_Gj0",
        "outputId": "87e14098-5595-429a-c684-8f73db4b15ec"
      },
      "source": [
        "dfValidation.shape"
      ],
      "execution_count": 50,
      "outputs": [
        {
          "output_type": "execute_result",
          "data": {
            "text/plain": [
              "(7035, 17)"
            ]
          },
          "metadata": {
            "tags": []
          },
          "execution_count": 50
        }
      ]
    },
    {
      "cell_type": "markdown",
      "metadata": {
        "id": "Rsgc3xQpTQU_"
      },
      "source": [
        "####*Resetting index of all DataFrames*\n"
      ]
    },
    {
      "cell_type": "code",
      "metadata": {
        "id": "7-P6FMr2Tblz"
      },
      "source": [
        "dfTrain.reset_index(drop = True, inplace = True)\n",
        "dfValidation.reset_index(drop = True, inplace = True)\n",
        "dfTest.reset_index(drop = True, inplace = True)"
      ],
      "execution_count": 51,
      "outputs": []
    },
    {
      "cell_type": "code",
      "metadata": {
        "colab": {
          "base_uri": "https://localhost:8080/",
          "height": 275
        },
        "id": "IvNaHrhxTrLw",
        "outputId": "d52b6abe-cf0e-4a5b-9652-a3d2611e16ce"
      },
      "source": [
        "dfTrain.head()"
      ],
      "execution_count": 52,
      "outputs": [
        {
          "output_type": "execute_result",
          "data": {
            "text/html": [
              "<div>\n",
              "<style scoped>\n",
              "    .dataframe tbody tr th:only-of-type {\n",
              "        vertical-align: middle;\n",
              "    }\n",
              "\n",
              "    .dataframe tbody tr th {\n",
              "        vertical-align: top;\n",
              "    }\n",
              "\n",
              "    .dataframe thead th {\n",
              "        text-align: right;\n",
              "    }\n",
              "</style>\n",
              "<table border=\"1\" class=\"dataframe\">\n",
              "  <thead>\n",
              "    <tr style=\"text-align: right;\">\n",
              "      <th></th>\n",
              "      <th>business_code</th>\n",
              "      <th>cust_number</th>\n",
              "      <th>name_customer</th>\n",
              "      <th>clear_date</th>\n",
              "      <th>buisness_year</th>\n",
              "      <th>doc_id</th>\n",
              "      <th>document_create_date</th>\n",
              "      <th>document_create_date.1</th>\n",
              "      <th>due_in_date</th>\n",
              "      <th>invoice_currency</th>\n",
              "      <th>document type</th>\n",
              "      <th>posting_id</th>\n",
              "      <th>total_open_amount</th>\n",
              "      <th>baseline_create_date</th>\n",
              "      <th>cust_payment_terms</th>\n",
              "      <th>invoice_id</th>\n",
              "      <th>isOpen</th>\n",
              "    </tr>\n",
              "  </thead>\n",
              "  <tbody>\n",
              "    <tr>\n",
              "      <th>0</th>\n",
              "      <td>U001</td>\n",
              "      <td>0200331749</td>\n",
              "      <td>SYSC co</td>\n",
              "      <td>2019-11-18</td>\n",
              "      <td>2019.0</td>\n",
              "      <td>1.930087e+09</td>\n",
              "      <td>2019-11-01</td>\n",
              "      <td>2019-11-01</td>\n",
              "      <td>2019-11-16</td>\n",
              "      <td>USD</td>\n",
              "      <td>RV</td>\n",
              "      <td>1.0</td>\n",
              "      <td>43288.46</td>\n",
              "      <td>2019-11-01</td>\n",
              "      <td>NAA8</td>\n",
              "      <td>1.930087e+09</td>\n",
              "      <td>0</td>\n",
              "    </tr>\n",
              "    <tr>\n",
              "      <th>1</th>\n",
              "      <td>U001</td>\n",
              "      <td>200762301</td>\n",
              "      <td>C&amp;S WH systems</td>\n",
              "      <td>2019-04-11</td>\n",
              "      <td>2019.0</td>\n",
              "      <td>1.929037e+09</td>\n",
              "      <td>2019-03-27</td>\n",
              "      <td>2019-03-28</td>\n",
              "      <td>2019-04-12</td>\n",
              "      <td>USD</td>\n",
              "      <td>RV</td>\n",
              "      <td>1.0</td>\n",
              "      <td>3783.25</td>\n",
              "      <td>2019-03-28</td>\n",
              "      <td>NAC6</td>\n",
              "      <td>1.929037e+09</td>\n",
              "      <td>0</td>\n",
              "    </tr>\n",
              "    <tr>\n",
              "      <th>2</th>\n",
              "      <td>U001</td>\n",
              "      <td>0200769623</td>\n",
              "      <td>WAL-MAR llc</td>\n",
              "      <td>2019-12-18</td>\n",
              "      <td>2019.0</td>\n",
              "      <td>1.930223e+09</td>\n",
              "      <td>2019-12-06</td>\n",
              "      <td>2019-12-07</td>\n",
              "      <td>2019-12-22</td>\n",
              "      <td>USD</td>\n",
              "      <td>RV</td>\n",
              "      <td>1.0</td>\n",
              "      <td>35.28</td>\n",
              "      <td>2019-12-07</td>\n",
              "      <td>NAH4</td>\n",
              "      <td>1.930223e+09</td>\n",
              "      <td>0</td>\n",
              "    </tr>\n",
              "    <tr>\n",
              "      <th>3</th>\n",
              "      <td>U001</td>\n",
              "      <td>0200769623</td>\n",
              "      <td>WAL-MAR systems</td>\n",
              "      <td>2019-08-15</td>\n",
              "      <td>2019.0</td>\n",
              "      <td>1.929703e+09</td>\n",
              "      <td>2019-08-05</td>\n",
              "      <td>2019-08-05</td>\n",
              "      <td>2019-08-20</td>\n",
              "      <td>USD</td>\n",
              "      <td>RV</td>\n",
              "      <td>1.0</td>\n",
              "      <td>471.56</td>\n",
              "      <td>2019-08-05</td>\n",
              "      <td>NAH4</td>\n",
              "      <td>1.929703e+09</td>\n",
              "      <td>0</td>\n",
              "    </tr>\n",
              "    <tr>\n",
              "      <th>4</th>\n",
              "      <td>U001</td>\n",
              "      <td>0200705089</td>\n",
              "      <td>JETR in</td>\n",
              "      <td>2019-11-04</td>\n",
              "      <td>2019.0</td>\n",
              "      <td>1.930013e+09</td>\n",
              "      <td>2019-10-14</td>\n",
              "      <td>2019-10-14</td>\n",
              "      <td>2019-10-29</td>\n",
              "      <td>USD</td>\n",
              "      <td>RV</td>\n",
              "      <td>1.0</td>\n",
              "      <td>916.09</td>\n",
              "      <td>2019-10-14</td>\n",
              "      <td>NAA8</td>\n",
              "      <td>1.930013e+09</td>\n",
              "      <td>0</td>\n",
              "    </tr>\n",
              "  </tbody>\n",
              "</table>\n",
              "</div>"
            ],
            "text/plain": [
              "  business_code cust_number  ...    invoice_id isOpen\n",
              "0          U001  0200331749  ...  1.930087e+09      0\n",
              "1          U001   200762301  ...  1.929037e+09      0\n",
              "2          U001  0200769623  ...  1.930223e+09      0\n",
              "3          U001  0200769623  ...  1.929703e+09      0\n",
              "4          U001  0200705089  ...  1.930013e+09      0\n",
              "\n",
              "[5 rows x 17 columns]"
            ]
          },
          "metadata": {
            "tags": []
          },
          "execution_count": 52
        }
      ]
    },
    {
      "cell_type": "code",
      "metadata": {
        "colab": {
          "base_uri": "https://localhost:8080/",
          "height": 292
        },
        "id": "MVe6xgkgTuAo",
        "outputId": "776588d5-1ccd-4a48-d7a6-795b48c23d47"
      },
      "source": [
        "dfValidation.head()"
      ],
      "execution_count": 53,
      "outputs": [
        {
          "output_type": "execute_result",
          "data": {
            "text/html": [
              "<div>\n",
              "<style scoped>\n",
              "    .dataframe tbody tr th:only-of-type {\n",
              "        vertical-align: middle;\n",
              "    }\n",
              "\n",
              "    .dataframe tbody tr th {\n",
              "        vertical-align: top;\n",
              "    }\n",
              "\n",
              "    .dataframe thead th {\n",
              "        text-align: right;\n",
              "    }\n",
              "</style>\n",
              "<table border=\"1\" class=\"dataframe\">\n",
              "  <thead>\n",
              "    <tr style=\"text-align: right;\">\n",
              "      <th></th>\n",
              "      <th>business_code</th>\n",
              "      <th>cust_number</th>\n",
              "      <th>name_customer</th>\n",
              "      <th>clear_date</th>\n",
              "      <th>buisness_year</th>\n",
              "      <th>doc_id</th>\n",
              "      <th>document_create_date</th>\n",
              "      <th>document_create_date.1</th>\n",
              "      <th>due_in_date</th>\n",
              "      <th>invoice_currency</th>\n",
              "      <th>document type</th>\n",
              "      <th>posting_id</th>\n",
              "      <th>total_open_amount</th>\n",
              "      <th>baseline_create_date</th>\n",
              "      <th>cust_payment_terms</th>\n",
              "      <th>invoice_id</th>\n",
              "      <th>isOpen</th>\n",
              "    </tr>\n",
              "  </thead>\n",
              "  <tbody>\n",
              "    <tr>\n",
              "      <th>0</th>\n",
              "      <td>CA02</td>\n",
              "      <td>0140105847</td>\n",
              "      <td>GORDON F corp</td>\n",
              "      <td>2019-06-07</td>\n",
              "      <td>2019.0</td>\n",
              "      <td>2.960550e+09</td>\n",
              "      <td>2019-05-23</td>\n",
              "      <td>2019-05-23</td>\n",
              "      <td>2019-06-03</td>\n",
              "      <td>CAD</td>\n",
              "      <td>RV</td>\n",
              "      <td>1.0</td>\n",
              "      <td>38748.76</td>\n",
              "      <td>2019-05-24</td>\n",
              "      <td>CA10</td>\n",
              "      <td>2.960550e+09</td>\n",
              "      <td>0</td>\n",
              "    </tr>\n",
              "    <tr>\n",
              "      <th>1</th>\n",
              "      <td>U001</td>\n",
              "      <td>0200782001</td>\n",
              "      <td>GORDO trust</td>\n",
              "      <td>2019-11-06</td>\n",
              "      <td>2019.0</td>\n",
              "      <td>1.930050e+09</td>\n",
              "      <td>2019-10-24</td>\n",
              "      <td>2019-10-24</td>\n",
              "      <td>2019-11-08</td>\n",
              "      <td>USD</td>\n",
              "      <td>RV</td>\n",
              "      <td>1.0</td>\n",
              "      <td>42389.53</td>\n",
              "      <td>2019-10-24</td>\n",
              "      <td>NAA8</td>\n",
              "      <td>1.930050e+09</td>\n",
              "      <td>0</td>\n",
              "    </tr>\n",
              "    <tr>\n",
              "      <th>2</th>\n",
              "      <td>U001</td>\n",
              "      <td>0200749225</td>\n",
              "      <td>SUPER  associates</td>\n",
              "      <td>2019-09-12</td>\n",
              "      <td>2019.0</td>\n",
              "      <td>1.929808e+09</td>\n",
              "      <td>2019-08-29</td>\n",
              "      <td>2019-08-28</td>\n",
              "      <td>2019-09-12</td>\n",
              "      <td>USD</td>\n",
              "      <td>RV</td>\n",
              "      <td>1.0</td>\n",
              "      <td>9952.73</td>\n",
              "      <td>2019-08-28</td>\n",
              "      <td>NAA8</td>\n",
              "      <td>1.929808e+09</td>\n",
              "      <td>0</td>\n",
              "    </tr>\n",
              "    <tr>\n",
              "      <th>3</th>\n",
              "      <td>U001</td>\n",
              "      <td>0200772670</td>\n",
              "      <td>ASSOCIAT corporation</td>\n",
              "      <td>2019-10-07</td>\n",
              "      <td>2019.0</td>\n",
              "      <td>1.929583e+09</td>\n",
              "      <td>2019-07-06</td>\n",
              "      <td>2019-07-06</td>\n",
              "      <td>2019-10-04</td>\n",
              "      <td>USD</td>\n",
              "      <td>RV</td>\n",
              "      <td>1.0</td>\n",
              "      <td>6516.29</td>\n",
              "      <td>2019-07-06</td>\n",
              "      <td>NAVR</td>\n",
              "      <td>1.929583e+09</td>\n",
              "      <td>0</td>\n",
              "    </tr>\n",
              "    <tr>\n",
              "      <th>4</th>\n",
              "      <td>U001</td>\n",
              "      <td>0200936373</td>\n",
              "      <td>SUPE us</td>\n",
              "      <td>2020-02-13</td>\n",
              "      <td>2020.0</td>\n",
              "      <td>1.930443e+09</td>\n",
              "      <td>2020-01-27</td>\n",
              "      <td>2020-01-29</td>\n",
              "      <td>2020-02-13</td>\n",
              "      <td>USD</td>\n",
              "      <td>RV</td>\n",
              "      <td>1.0</td>\n",
              "      <td>91534.76</td>\n",
              "      <td>2020-01-29</td>\n",
              "      <td>NAA8</td>\n",
              "      <td>1.930443e+09</td>\n",
              "      <td>0</td>\n",
              "    </tr>\n",
              "  </tbody>\n",
              "</table>\n",
              "</div>"
            ],
            "text/plain": [
              "  business_code cust_number  ...    invoice_id isOpen\n",
              "0          CA02  0140105847  ...  2.960550e+09      0\n",
              "1          U001  0200782001  ...  1.930050e+09      0\n",
              "2          U001  0200749225  ...  1.929808e+09      0\n",
              "3          U001  0200772670  ...  1.929583e+09      0\n",
              "4          U001  0200936373  ...  1.930443e+09      0\n",
              "\n",
              "[5 rows x 17 columns]"
            ]
          },
          "metadata": {
            "tags": []
          },
          "execution_count": 53
        }
      ]
    },
    {
      "cell_type": "code",
      "metadata": {
        "colab": {
          "base_uri": "https://localhost:8080/",
          "height": 292
        },
        "id": "qx_VrABwTwn_",
        "outputId": "ac779cae-cc99-436b-ea3a-bd30c8a1a358"
      },
      "source": [
        "dfTest.head()"
      ],
      "execution_count": 54,
      "outputs": [
        {
          "output_type": "execute_result",
          "data": {
            "text/html": [
              "<div>\n",
              "<style scoped>\n",
              "    .dataframe tbody tr th:only-of-type {\n",
              "        vertical-align: middle;\n",
              "    }\n",
              "\n",
              "    .dataframe tbody tr th {\n",
              "        vertical-align: top;\n",
              "    }\n",
              "\n",
              "    .dataframe thead th {\n",
              "        text-align: right;\n",
              "    }\n",
              "</style>\n",
              "<table border=\"1\" class=\"dataframe\">\n",
              "  <thead>\n",
              "    <tr style=\"text-align: right;\">\n",
              "      <th></th>\n",
              "      <th>business_code</th>\n",
              "      <th>cust_number</th>\n",
              "      <th>name_customer</th>\n",
              "      <th>clear_date</th>\n",
              "      <th>buisness_year</th>\n",
              "      <th>doc_id</th>\n",
              "      <th>document_create_date</th>\n",
              "      <th>document_create_date.1</th>\n",
              "      <th>due_in_date</th>\n",
              "      <th>invoice_currency</th>\n",
              "      <th>document type</th>\n",
              "      <th>posting_id</th>\n",
              "      <th>total_open_amount</th>\n",
              "      <th>baseline_create_date</th>\n",
              "      <th>cust_payment_terms</th>\n",
              "      <th>invoice_id</th>\n",
              "      <th>isOpen</th>\n",
              "    </tr>\n",
              "  </thead>\n",
              "  <tbody>\n",
              "    <tr>\n",
              "      <th>0</th>\n",
              "      <td>U001</td>\n",
              "      <td>0200769623</td>\n",
              "      <td>WAL-MAR associates</td>\n",
              "      <td>NaT</td>\n",
              "      <td>2020.0</td>\n",
              "      <td>1.930622e+09</td>\n",
              "      <td>2020-03-08</td>\n",
              "      <td>2020-03-09</td>\n",
              "      <td>2020-03-24</td>\n",
              "      <td>USD</td>\n",
              "      <td>RV</td>\n",
              "      <td>1.0</td>\n",
              "      <td>14396.96</td>\n",
              "      <td>2020-03-09</td>\n",
              "      <td>NAH4</td>\n",
              "      <td>1.930622e+09</td>\n",
              "      <td>1</td>\n",
              "    </tr>\n",
              "    <tr>\n",
              "      <th>1</th>\n",
              "      <td>U001</td>\n",
              "      <td>0200729942</td>\n",
              "      <td>SA systems</td>\n",
              "      <td>NaT</td>\n",
              "      <td>2020.0</td>\n",
              "      <td>1.930810e+09</td>\n",
              "      <td>2020-04-21</td>\n",
              "      <td>2020-04-21</td>\n",
              "      <td>2020-05-06</td>\n",
              "      <td>USD</td>\n",
              "      <td>RV</td>\n",
              "      <td>1.0</td>\n",
              "      <td>11629.96</td>\n",
              "      <td>2020-04-21</td>\n",
              "      <td>NAA8</td>\n",
              "      <td>1.930810e+09</td>\n",
              "      <td>1</td>\n",
              "    </tr>\n",
              "    <tr>\n",
              "      <th>2</th>\n",
              "      <td>U001</td>\n",
              "      <td>0200769623</td>\n",
              "      <td>WAL-MAR associates</td>\n",
              "      <td>NaT</td>\n",
              "      <td>2020.0</td>\n",
              "      <td>1.930711e+09</td>\n",
              "      <td>2020-03-28</td>\n",
              "      <td>2020-03-29</td>\n",
              "      <td>2020-04-13</td>\n",
              "      <td>USD</td>\n",
              "      <td>RV</td>\n",
              "      <td>1.0</td>\n",
              "      <td>355.93</td>\n",
              "      <td>2020-03-29</td>\n",
              "      <td>NAH4</td>\n",
              "      <td>1.930711e+09</td>\n",
              "      <td>1</td>\n",
              "    </tr>\n",
              "    <tr>\n",
              "      <th>3</th>\n",
              "      <td>U001</td>\n",
              "      <td>0200418007</td>\n",
              "      <td>AM foundation</td>\n",
              "      <td>NaT</td>\n",
              "      <td>2020.0</td>\n",
              "      <td>1.930717e+09</td>\n",
              "      <td>2020-03-28</td>\n",
              "      <td>2020-03-29</td>\n",
              "      <td>2020-06-02</td>\n",
              "      <td>USD</td>\n",
              "      <td>RV</td>\n",
              "      <td>1.0</td>\n",
              "      <td>7263.36</td>\n",
              "      <td>2020-03-29</td>\n",
              "      <td>NAGD</td>\n",
              "      <td>1.930717e+09</td>\n",
              "      <td>1</td>\n",
              "    </tr>\n",
              "    <tr>\n",
              "      <th>4</th>\n",
              "      <td>U001</td>\n",
              "      <td>0200794332</td>\n",
              "      <td>COST associates</td>\n",
              "      <td>NaT</td>\n",
              "      <td>2020.0</td>\n",
              "      <td>1.930595e+09</td>\n",
              "      <td>2020-03-03</td>\n",
              "      <td>2020-03-04</td>\n",
              "      <td>2020-03-19</td>\n",
              "      <td>USD</td>\n",
              "      <td>RV</td>\n",
              "      <td>1.0</td>\n",
              "      <td>39259.89</td>\n",
              "      <td>2020-03-04</td>\n",
              "      <td>NAAX</td>\n",
              "      <td>1.930595e+09</td>\n",
              "      <td>1</td>\n",
              "    </tr>\n",
              "  </tbody>\n",
              "</table>\n",
              "</div>"
            ],
            "text/plain": [
              "  business_code cust_number  ...    invoice_id isOpen\n",
              "0          U001  0200769623  ...  1.930622e+09      1\n",
              "1          U001  0200729942  ...  1.930810e+09      1\n",
              "2          U001  0200769623  ...  1.930711e+09      1\n",
              "3          U001  0200418007  ...  1.930717e+09      1\n",
              "4          U001  0200794332  ...  1.930595e+09      1\n",
              "\n",
              "[5 rows x 17 columns]"
            ]
          },
          "metadata": {
            "tags": []
          },
          "execution_count": 54
        }
      ]
    },
    {
      "cell_type": "markdown",
      "metadata": {
        "id": "kfHlp0tyU5Py"
      },
      "source": [
        "#**EDA**\n",
        "\n",
        "###**Exploratory data analysis**"
      ]
    },
    {
      "cell_type": "markdown",
      "metadata": {
        "id": "-1WUV9gCVviu"
      },
      "source": [
        "####*Checking columns for unique elements to know the constant features*"
      ]
    },
    {
      "cell_type": "code",
      "metadata": {
        "colab": {
          "base_uri": "https://localhost:8080/"
        },
        "id": "WWl5BFDMd2FH",
        "outputId": "65c02f72-6f6e-4b33-ed48-d97c25cdf1e2"
      },
      "source": [
        "dfTrain.columns"
      ],
      "execution_count": 55,
      "outputs": [
        {
          "output_type": "execute_result",
          "data": {
            "text/plain": [
              "Index(['business_code', 'cust_number', 'name_customer', 'clear_date',\n",
              "       'buisness_year', 'doc_id', 'document_create_date',\n",
              "       'document_create_date.1', 'due_in_date', 'invoice_currency',\n",
              "       'document type', 'posting_id', 'total_open_amount',\n",
              "       'baseline_create_date', 'cust_payment_terms', 'invoice_id', 'isOpen'],\n",
              "      dtype='object')"
            ]
          },
          "metadata": {
            "tags": []
          },
          "execution_count": 55
        }
      ]
    },
    {
      "cell_type": "code",
      "metadata": {
        "colab": {
          "base_uri": "https://localhost:8080/"
        },
        "id": "-ILK1_fWVzSZ",
        "outputId": "2126852b-c5f8-4560-9195-1e0608ed00b7"
      },
      "source": [
        "dfTrain.business_code.unique()\n",
        "#mixed feature"
      ],
      "execution_count": 56,
      "outputs": [
        {
          "output_type": "execute_result",
          "data": {
            "text/plain": [
              "array(['U001', 'CA02', 'U002', 'U013', 'U007', 'U005'], dtype=object)"
            ]
          },
          "metadata": {
            "tags": []
          },
          "execution_count": 56
        }
      ]
    },
    {
      "cell_type": "code",
      "metadata": {
        "colab": {
          "base_uri": "https://localhost:8080/"
        },
        "id": "WkY5X7aDV3-H",
        "outputId": "bdc69258-2140-499f-afc5-77fe6e76d57a"
      },
      "source": [
        "dfTrain.cust_number.unique()\n",
        "#mixed feature"
      ],
      "execution_count": 57,
      "outputs": [
        {
          "output_type": "execute_result",
          "data": {
            "text/plain": [
              "array(['0200331749', '200762301', '0200769623', ..., '0200212683',\n",
              "       '0100050034', '0100029855'], dtype=object)"
            ]
          },
          "metadata": {
            "tags": []
          },
          "execution_count": 57
        }
      ]
    },
    {
      "cell_type": "code",
      "metadata": {
        "colab": {
          "base_uri": "https://localhost:8080/"
        },
        "id": "gP9j9lwHdHMy",
        "outputId": "0be0e842-b114-4f05-878c-e737c80ea711"
      },
      "source": [
        "dfTrain.name_customer.unique()\n",
        "#string"
      ],
      "execution_count": 58,
      "outputs": [
        {
          "output_type": "execute_result",
          "data": {
            "text/plain": [
              "array(['SYSC co', 'C&S WH systems', 'WAL-MAR llc', ..., 'FERN corp',\n",
              "       'MCLA ', 'MINERS  corporation'], dtype=object)"
            ]
          },
          "metadata": {
            "tags": []
          },
          "execution_count": 58
        }
      ]
    },
    {
      "cell_type": "code",
      "metadata": {
        "colab": {
          "base_uri": "https://localhost:8080/"
        },
        "id": "fa9hSLlOV-oy",
        "outputId": "143eba3d-7c72-4fd9-f68c-64b925d4a680"
      },
      "source": [
        "dfTrain.buisness_year.unique()\n",
        "#float"
      ],
      "execution_count": 59,
      "outputs": [
        {
          "output_type": "execute_result",
          "data": {
            "text/plain": [
              "array([2019., 2020.])"
            ]
          },
          "metadata": {
            "tags": []
          },
          "execution_count": 59
        }
      ]
    },
    {
      "cell_type": "code",
      "metadata": {
        "colab": {
          "base_uri": "https://localhost:8080/"
        },
        "id": "cGvjT13XWAcv",
        "outputId": "03c326e8-fd87-482e-b0df-d2038929e96a"
      },
      "source": [
        "dfTrain.doc_id.unique()\n",
        "#double"
      ],
      "execution_count": 60,
      "outputs": [
        {
          "output_type": "execute_result",
          "data": {
            "text/plain": [
              "array([1.93008679e+09, 1.92903719e+09, 1.93022334e+09, ...,\n",
              "       1.92896153e+09, 1.93012425e+09, 1.92936901e+09])"
            ]
          },
          "metadata": {
            "tags": []
          },
          "execution_count": 60
        }
      ]
    },
    {
      "cell_type": "code",
      "metadata": {
        "colab": {
          "base_uri": "https://localhost:8080/"
        },
        "id": "OBjfzvT9WDHs",
        "outputId": "34333d74-d3bc-4fa5-8c4f-8464d16cb262"
      },
      "source": [
        "dfTrain.invoice_currency.unique()\n",
        "#currency -> str"
      ],
      "execution_count": 61,
      "outputs": [
        {
          "output_type": "execute_result",
          "data": {
            "text/plain": [
              "array(['USD', 'CAD'], dtype=object)"
            ]
          },
          "metadata": {
            "tags": []
          },
          "execution_count": 61
        }
      ]
    },
    {
      "cell_type": "code",
      "metadata": {
        "colab": {
          "base_uri": "https://localhost:8080/"
        },
        "id": "Dlxx8XaRexg4",
        "outputId": "03820479-a967-4425-ff67-961e1577281d"
      },
      "source": [
        "#dfTrain.document type.unique() -> error as label contains space\n",
        "df['document type'].unique()"
      ],
      "execution_count": 62,
      "outputs": [
        {
          "output_type": "execute_result",
          "data": {
            "text/plain": [
              "array(['RV'], dtype=object)"
            ]
          },
          "metadata": {
            "tags": []
          },
          "execution_count": 62
        }
      ]
    },
    {
      "cell_type": "code",
      "metadata": {
        "colab": {
          "base_uri": "https://localhost:8080/"
        },
        "id": "kYuwU6PufVMg",
        "outputId": "bbf0efb5-ec5e-4387-e180-87c2a7c13a6a"
      },
      "source": [
        "dfTrain.total_open_amount.unique()"
      ],
      "execution_count": 63,
      "outputs": [
        {
          "output_type": "execute_result",
          "data": {
            "text/plain": [
              "array([4.3288460e+04, 3.7832500e+03, 3.5280000e+01, ..., 4.1792180e+04,\n",
              "       4.4867810e+04, 1.3976635e+05])"
            ]
          },
          "metadata": {
            "tags": []
          },
          "execution_count": 63
        }
      ]
    },
    {
      "cell_type": "code",
      "metadata": {
        "colab": {
          "base_uri": "https://localhost:8080/"
        },
        "id": "6lbAIdcmfl5E",
        "outputId": "5e0a159f-d89e-4f09-ef68-b7b4a0d371bc"
      },
      "source": [
        "dfTrain.cust_payment_terms.unique()"
      ],
      "execution_count": 64,
      "outputs": [
        {
          "output_type": "execute_result",
          "data": {
            "text/plain": [
              "array(['NAA8', 'NAC6', 'NAH4', 'NAX2', 'NAM4', 'CA10', 'NA10', 'NAD1',\n",
              "       'NAAX', 'NAG2', 'NA32', 'NAGD', 'NAU5', 'NAVE', 'NAVR', 'NAAW',\n",
              "       'NAVQ', 'NAVF', 'NAWP', 'NAVM', 'NAVD', 'NAWN', 'NAM1', 'NAWU',\n",
              "       'NAD4', 'NA38', 'NAM2', 'NAD5', 'NAUZ', 'C106', 'NATZ', 'BR56',\n",
              "       'NAM3', 'NAVC', 'NA3B', 'NAUI', 'NAD8', 'NACB', 'NATW', 'NABG',\n",
              "       'NA3F', 'NAVL', 'NATM', 'CA30', 'NAB1', 'CAB1', 'NAV9', 'NA8Q',\n",
              "       'NA84', 'NATJ', 'NATX', 'NAUP', 'NATK', 'B052', 'NA31', 'NATL',\n",
              "       'NABD', 'CA60', 'NA24', 'NA9X', '90M7', 'NATU', 'BR12', 'NAV2',\n",
              "       'NA25', 'NATV', 'NANC', 'NAUX', 'CAX2', 'NAWM'], dtype=object)"
            ]
          },
          "metadata": {
            "tags": []
          },
          "execution_count": 64
        }
      ]
    },
    {
      "cell_type": "code",
      "metadata": {
        "colab": {
          "base_uri": "https://localhost:8080/"
        },
        "id": "eQdg01fPfqii",
        "outputId": "a6850513-5ce9-4df0-c3df-4e9b7e0f0fed"
      },
      "source": [
        "dfTrain.invoice_id.unique()"
      ],
      "execution_count": 65,
      "outputs": [
        {
          "output_type": "execute_result",
          "data": {
            "text/plain": [
              "array([1.93008679e+09, 1.92903719e+09, 1.93022334e+09, ...,\n",
              "       1.92896153e+09, 1.93012425e+09, 1.92936901e+09])"
            ]
          },
          "metadata": {
            "tags": []
          },
          "execution_count": 65
        }
      ]
    },
    {
      "cell_type": "code",
      "metadata": {
        "colab": {
          "base_uri": "https://localhost:8080/"
        },
        "id": "WlQN95pdfz-W",
        "outputId": "21e64691-9064-4259-d58a-ba394ce8f8c5"
      },
      "source": [
        "dfTrain.isOpen.unique()"
      ],
      "execution_count": 66,
      "outputs": [
        {
          "output_type": "execute_result",
          "data": {
            "text/plain": [
              "array([0])"
            ]
          },
          "metadata": {
            "tags": []
          },
          "execution_count": 66
        }
      ]
    },
    {
      "cell_type": "code",
      "metadata": {
        "colab": {
          "base_uri": "https://localhost:8080/"
        },
        "id": "M49O1zGIV645",
        "outputId": "72769d19-7705-4edc-e125-3073fc8cd25d"
      },
      "source": [
        "dfTrain.posting_id.unique()\n",
        "#float"
      ],
      "execution_count": 67,
      "outputs": [
        {
          "output_type": "execute_result",
          "data": {
            "text/plain": [
              "array([1.])"
            ]
          },
          "metadata": {
            "tags": []
          },
          "execution_count": 67
        }
      ]
    },
    {
      "cell_type": "markdown",
      "metadata": {
        "id": "jeddzpdkho0u"
      },
      "source": [
        "#**Feature Engineering**"
      ]
    },
    {
      "cell_type": "markdown",
      "metadata": {
        "id": "-8m4kiYeUb65"
      },
      "source": [
        "####*Handling categorical features*"
      ]
    },
    {
      "cell_type": "markdown",
      "metadata": {
        "id": "HTiTPP9mXyET"
      },
      "source": [
        "######*Identifying Mixed features*\n"
      ]
    },
    {
      "cell_type": "code",
      "metadata": {
        "colab": {
          "base_uri": "https://localhost:8080/",
          "height": 0
        },
        "id": "Qq60aIgpZHsG",
        "outputId": "c48aab17-b570-470a-b120-d3c3d6210248"
      },
      "source": [
        "dfTrain.info()\n",
        "#We have to identify mixed features from columns having Dtype = object as all others are specified of specific Dtype\n",
        "\n",
        "'''\n",
        "Columns to consider for mixed features:\n",
        " 0   business_code  \n",
        " 1   cust_number \n",
        " 2   name_customer   \n",
        " 9   invoice_currency  \n",
        " 10  document type\n",
        " 13  cust_payment_terms    '''\n",
        "\n",
        " #to check for mixed values check for unique() values in these columns done under the sub-header 'Checking columns for unique elements to know the constant features' of EDA\n"
      ],
      "execution_count": 68,
      "outputs": [
        {
          "output_type": "stream",
          "text": [
            "<class 'pandas.core.frame.DataFrame'>\n",
            "RangeIndex: 39863 entries, 0 to 39862\n",
            "Data columns (total 17 columns):\n",
            " #   Column                  Non-Null Count  Dtype         \n",
            "---  ------                  --------------  -----         \n",
            " 0   business_code           39863 non-null  object        \n",
            " 1   cust_number             39863 non-null  object        \n",
            " 2   name_customer           39863 non-null  object        \n",
            " 3   clear_date              39863 non-null  datetime64[ns]\n",
            " 4   buisness_year           39863 non-null  float64       \n",
            " 5   doc_id                  39863 non-null  float64       \n",
            " 6   document_create_date    39863 non-null  datetime64[ns]\n",
            " 7   document_create_date.1  39863 non-null  datetime64[ns]\n",
            " 8   due_in_date             39863 non-null  datetime64[ns]\n",
            " 9   invoice_currency        39863 non-null  object        \n",
            " 10  document type           39863 non-null  object        \n",
            " 11  posting_id              39863 non-null  float64       \n",
            " 12  total_open_amount       39863 non-null  float64       \n",
            " 13  baseline_create_date    39863 non-null  datetime64[ns]\n",
            " 14  cust_payment_terms      39863 non-null  object        \n",
            " 15  invoice_id              39863 non-null  float64       \n",
            " 16  isOpen                  39863 non-null  int64         \n",
            "dtypes: datetime64[ns](5), float64(5), int64(1), object(6)\n",
            "memory usage: 5.2+ MB\n"
          ],
          "name": "stdout"
        },
        {
          "output_type": "execute_result",
          "data": {
            "application/vnd.google.colaboratory.intrinsic+json": {
              "type": "string"
            },
            "text/plain": [
              "'\\nColumns to consider for mixed features:\\n 0   business_code  \\n 1   cust_number \\n 2   name_customer   \\n 9   invoice_currency  \\n 10  document type\\n 13  cust_payment_terms    '"
            ]
          },
          "metadata": {
            "tags": []
          },
          "execution_count": 68
        }
      ]
    },
    {
      "cell_type": "code",
      "metadata": {
        "colab": {
          "base_uri": "https://localhost:8080/",
          "height": 0
        },
        "id": "4L0b3Wv_X739",
        "outputId": "a647e39f-b35a-478d-9b43-f65df92c08bd"
      },
      "source": [
        "#Mixed features means features containing more than one dataType\n",
        "dfTrain.head()"
      ],
      "execution_count": 69,
      "outputs": [
        {
          "output_type": "execute_result",
          "data": {
            "text/html": [
              "<div>\n",
              "<style scoped>\n",
              "    .dataframe tbody tr th:only-of-type {\n",
              "        vertical-align: middle;\n",
              "    }\n",
              "\n",
              "    .dataframe tbody tr th {\n",
              "        vertical-align: top;\n",
              "    }\n",
              "\n",
              "    .dataframe thead th {\n",
              "        text-align: right;\n",
              "    }\n",
              "</style>\n",
              "<table border=\"1\" class=\"dataframe\">\n",
              "  <thead>\n",
              "    <tr style=\"text-align: right;\">\n",
              "      <th></th>\n",
              "      <th>business_code</th>\n",
              "      <th>cust_number</th>\n",
              "      <th>name_customer</th>\n",
              "      <th>clear_date</th>\n",
              "      <th>buisness_year</th>\n",
              "      <th>doc_id</th>\n",
              "      <th>document_create_date</th>\n",
              "      <th>document_create_date.1</th>\n",
              "      <th>due_in_date</th>\n",
              "      <th>invoice_currency</th>\n",
              "      <th>document type</th>\n",
              "      <th>posting_id</th>\n",
              "      <th>total_open_amount</th>\n",
              "      <th>baseline_create_date</th>\n",
              "      <th>cust_payment_terms</th>\n",
              "      <th>invoice_id</th>\n",
              "      <th>isOpen</th>\n",
              "    </tr>\n",
              "  </thead>\n",
              "  <tbody>\n",
              "    <tr>\n",
              "      <th>0</th>\n",
              "      <td>U001</td>\n",
              "      <td>0200331749</td>\n",
              "      <td>SYSC co</td>\n",
              "      <td>2019-11-18</td>\n",
              "      <td>2019.0</td>\n",
              "      <td>1.930087e+09</td>\n",
              "      <td>2019-11-01</td>\n",
              "      <td>2019-11-01</td>\n",
              "      <td>2019-11-16</td>\n",
              "      <td>USD</td>\n",
              "      <td>RV</td>\n",
              "      <td>1.0</td>\n",
              "      <td>43288.46</td>\n",
              "      <td>2019-11-01</td>\n",
              "      <td>NAA8</td>\n",
              "      <td>1.930087e+09</td>\n",
              "      <td>0</td>\n",
              "    </tr>\n",
              "    <tr>\n",
              "      <th>1</th>\n",
              "      <td>U001</td>\n",
              "      <td>200762301</td>\n",
              "      <td>C&amp;S WH systems</td>\n",
              "      <td>2019-04-11</td>\n",
              "      <td>2019.0</td>\n",
              "      <td>1.929037e+09</td>\n",
              "      <td>2019-03-27</td>\n",
              "      <td>2019-03-28</td>\n",
              "      <td>2019-04-12</td>\n",
              "      <td>USD</td>\n",
              "      <td>RV</td>\n",
              "      <td>1.0</td>\n",
              "      <td>3783.25</td>\n",
              "      <td>2019-03-28</td>\n",
              "      <td>NAC6</td>\n",
              "      <td>1.929037e+09</td>\n",
              "      <td>0</td>\n",
              "    </tr>\n",
              "    <tr>\n",
              "      <th>2</th>\n",
              "      <td>U001</td>\n",
              "      <td>0200769623</td>\n",
              "      <td>WAL-MAR llc</td>\n",
              "      <td>2019-12-18</td>\n",
              "      <td>2019.0</td>\n",
              "      <td>1.930223e+09</td>\n",
              "      <td>2019-12-06</td>\n",
              "      <td>2019-12-07</td>\n",
              "      <td>2019-12-22</td>\n",
              "      <td>USD</td>\n",
              "      <td>RV</td>\n",
              "      <td>1.0</td>\n",
              "      <td>35.28</td>\n",
              "      <td>2019-12-07</td>\n",
              "      <td>NAH4</td>\n",
              "      <td>1.930223e+09</td>\n",
              "      <td>0</td>\n",
              "    </tr>\n",
              "    <tr>\n",
              "      <th>3</th>\n",
              "      <td>U001</td>\n",
              "      <td>0200769623</td>\n",
              "      <td>WAL-MAR systems</td>\n",
              "      <td>2019-08-15</td>\n",
              "      <td>2019.0</td>\n",
              "      <td>1.929703e+09</td>\n",
              "      <td>2019-08-05</td>\n",
              "      <td>2019-08-05</td>\n",
              "      <td>2019-08-20</td>\n",
              "      <td>USD</td>\n",
              "      <td>RV</td>\n",
              "      <td>1.0</td>\n",
              "      <td>471.56</td>\n",
              "      <td>2019-08-05</td>\n",
              "      <td>NAH4</td>\n",
              "      <td>1.929703e+09</td>\n",
              "      <td>0</td>\n",
              "    </tr>\n",
              "    <tr>\n",
              "      <th>4</th>\n",
              "      <td>U001</td>\n",
              "      <td>0200705089</td>\n",
              "      <td>JETR in</td>\n",
              "      <td>2019-11-04</td>\n",
              "      <td>2019.0</td>\n",
              "      <td>1.930013e+09</td>\n",
              "      <td>2019-10-14</td>\n",
              "      <td>2019-10-14</td>\n",
              "      <td>2019-10-29</td>\n",
              "      <td>USD</td>\n",
              "      <td>RV</td>\n",
              "      <td>1.0</td>\n",
              "      <td>916.09</td>\n",
              "      <td>2019-10-14</td>\n",
              "      <td>NAA8</td>\n",
              "      <td>1.930013e+09</td>\n",
              "      <td>0</td>\n",
              "    </tr>\n",
              "  </tbody>\n",
              "</table>\n",
              "</div>"
            ],
            "text/plain": [
              "  business_code cust_number  ...    invoice_id isOpen\n",
              "0          U001  0200331749  ...  1.930087e+09      0\n",
              "1          U001   200762301  ...  1.929037e+09      0\n",
              "2          U001  0200769623  ...  1.930223e+09      0\n",
              "3          U001  0200769623  ...  1.929703e+09      0\n",
              "4          U001  0200705089  ...  1.930013e+09      0\n",
              "\n",
              "[5 rows x 17 columns]"
            ]
          },
          "metadata": {
            "tags": []
          },
          "execution_count": 69
        }
      ]
    },
    {
      "cell_type": "code",
      "metadata": {
        "id": "lyMbpOMFVBqn"
      },
      "source": [
        "#by refering to the unique values in the identified columns mentioned in the first comment of this sub heading\n",
        "#mixed variable clearly visible: business_code, cust_payment_terms \n",
        "#mixed varable not so clearly visible: cust_number"
      ],
      "execution_count": 70,
      "outputs": []
    },
    {
      "cell_type": "markdown",
      "metadata": {
        "id": "jl6ZwsZIimmY"
      },
      "source": [
        "######*business_code*"
      ]
    },
    {
      "cell_type": "code",
      "metadata": {
        "colab": {
          "base_uri": "https://localhost:8080/"
        },
        "id": "h5LsW-Wnisq2",
        "outputId": "e77200fa-0aa4-4d0d-8ab0-26b41681cab8"
      },
      "source": [
        "dfTrain[\"business_code\"].unique()\n",
        "#first char part either U or CA\n",
        "#second int part"
      ],
      "execution_count": 71,
      "outputs": [
        {
          "output_type": "execute_result",
          "data": {
            "text/plain": [
              "array(['U001', 'CA02', 'U002', 'U013', 'U007', 'U005'], dtype=object)"
            ]
          },
          "metadata": {
            "tags": []
          },
          "execution_count": 71
        }
      ]
    },
    {
      "cell_type": "code",
      "metadata": {
        "id": "iRkCRllZjN06"
      },
      "source": [
        "def businessCodeDealing(dataf):\n",
        "    #seperate string part from business_code and replace U by 0 and CA by 1(for one hot encoding to be implemented)\n",
        "\n",
        "    dataf.loc[dataf[\"business_code\"].str.contains(\"^U\") == True , \"business_code_str_part\"] = 0\n",
        "    dataf.loc[dataf[\"business_code\"].str.contains(\"^CA\") == True , \"business_code_str_part\"] = 1\n",
        "\n",
        "    dataf[\"business_code\"] = dataf[\"business_code\"].apply(lambda x : int(x[2:]))\n",
        "    dataf.rename(columns = {\"business_code\" : \"business_code_int_part\"}, inplace = True)\n",
        "    return dataf"
      ],
      "execution_count": 72,
      "outputs": []
    },
    {
      "cell_type": "code",
      "metadata": {
        "id": "LW1IsheSj3YH"
      },
      "source": [
        "dfTrain = businessCodeDealing(dfTrain.copy())\n",
        "dfTest = businessCodeDealing(dfTest.copy())\n",
        "dfValidation = businessCodeDealing(dfValidation.copy())"
      ],
      "execution_count": 73,
      "outputs": []
    },
    {
      "cell_type": "code",
      "metadata": {
        "colab": {
          "base_uri": "https://localhost:8080/",
          "height": 0
        },
        "id": "2FeJriHpkJr_",
        "outputId": "a67f36d2-0088-4c82-aa8d-7e83894aee81"
      },
      "source": [
        "dfTrain.head()"
      ],
      "execution_count": 74,
      "outputs": [
        {
          "output_type": "execute_result",
          "data": {
            "text/html": [
              "<div>\n",
              "<style scoped>\n",
              "    .dataframe tbody tr th:only-of-type {\n",
              "        vertical-align: middle;\n",
              "    }\n",
              "\n",
              "    .dataframe tbody tr th {\n",
              "        vertical-align: top;\n",
              "    }\n",
              "\n",
              "    .dataframe thead th {\n",
              "        text-align: right;\n",
              "    }\n",
              "</style>\n",
              "<table border=\"1\" class=\"dataframe\">\n",
              "  <thead>\n",
              "    <tr style=\"text-align: right;\">\n",
              "      <th></th>\n",
              "      <th>business_code_int_part</th>\n",
              "      <th>cust_number</th>\n",
              "      <th>name_customer</th>\n",
              "      <th>clear_date</th>\n",
              "      <th>buisness_year</th>\n",
              "      <th>doc_id</th>\n",
              "      <th>document_create_date</th>\n",
              "      <th>document_create_date.1</th>\n",
              "      <th>due_in_date</th>\n",
              "      <th>invoice_currency</th>\n",
              "      <th>document type</th>\n",
              "      <th>posting_id</th>\n",
              "      <th>total_open_amount</th>\n",
              "      <th>baseline_create_date</th>\n",
              "      <th>cust_payment_terms</th>\n",
              "      <th>invoice_id</th>\n",
              "      <th>isOpen</th>\n",
              "      <th>business_code_str_part</th>\n",
              "    </tr>\n",
              "  </thead>\n",
              "  <tbody>\n",
              "    <tr>\n",
              "      <th>0</th>\n",
              "      <td>1</td>\n",
              "      <td>0200331749</td>\n",
              "      <td>SYSC co</td>\n",
              "      <td>2019-11-18</td>\n",
              "      <td>2019.0</td>\n",
              "      <td>1.930087e+09</td>\n",
              "      <td>2019-11-01</td>\n",
              "      <td>2019-11-01</td>\n",
              "      <td>2019-11-16</td>\n",
              "      <td>USD</td>\n",
              "      <td>RV</td>\n",
              "      <td>1.0</td>\n",
              "      <td>43288.46</td>\n",
              "      <td>2019-11-01</td>\n",
              "      <td>NAA8</td>\n",
              "      <td>1.930087e+09</td>\n",
              "      <td>0</td>\n",
              "      <td>0.0</td>\n",
              "    </tr>\n",
              "    <tr>\n",
              "      <th>1</th>\n",
              "      <td>1</td>\n",
              "      <td>200762301</td>\n",
              "      <td>C&amp;S WH systems</td>\n",
              "      <td>2019-04-11</td>\n",
              "      <td>2019.0</td>\n",
              "      <td>1.929037e+09</td>\n",
              "      <td>2019-03-27</td>\n",
              "      <td>2019-03-28</td>\n",
              "      <td>2019-04-12</td>\n",
              "      <td>USD</td>\n",
              "      <td>RV</td>\n",
              "      <td>1.0</td>\n",
              "      <td>3783.25</td>\n",
              "      <td>2019-03-28</td>\n",
              "      <td>NAC6</td>\n",
              "      <td>1.929037e+09</td>\n",
              "      <td>0</td>\n",
              "      <td>0.0</td>\n",
              "    </tr>\n",
              "    <tr>\n",
              "      <th>2</th>\n",
              "      <td>1</td>\n",
              "      <td>0200769623</td>\n",
              "      <td>WAL-MAR llc</td>\n",
              "      <td>2019-12-18</td>\n",
              "      <td>2019.0</td>\n",
              "      <td>1.930223e+09</td>\n",
              "      <td>2019-12-06</td>\n",
              "      <td>2019-12-07</td>\n",
              "      <td>2019-12-22</td>\n",
              "      <td>USD</td>\n",
              "      <td>RV</td>\n",
              "      <td>1.0</td>\n",
              "      <td>35.28</td>\n",
              "      <td>2019-12-07</td>\n",
              "      <td>NAH4</td>\n",
              "      <td>1.930223e+09</td>\n",
              "      <td>0</td>\n",
              "      <td>0.0</td>\n",
              "    </tr>\n",
              "    <tr>\n",
              "      <th>3</th>\n",
              "      <td>1</td>\n",
              "      <td>0200769623</td>\n",
              "      <td>WAL-MAR systems</td>\n",
              "      <td>2019-08-15</td>\n",
              "      <td>2019.0</td>\n",
              "      <td>1.929703e+09</td>\n",
              "      <td>2019-08-05</td>\n",
              "      <td>2019-08-05</td>\n",
              "      <td>2019-08-20</td>\n",
              "      <td>USD</td>\n",
              "      <td>RV</td>\n",
              "      <td>1.0</td>\n",
              "      <td>471.56</td>\n",
              "      <td>2019-08-05</td>\n",
              "      <td>NAH4</td>\n",
              "      <td>1.929703e+09</td>\n",
              "      <td>0</td>\n",
              "      <td>0.0</td>\n",
              "    </tr>\n",
              "    <tr>\n",
              "      <th>4</th>\n",
              "      <td>1</td>\n",
              "      <td>0200705089</td>\n",
              "      <td>JETR in</td>\n",
              "      <td>2019-11-04</td>\n",
              "      <td>2019.0</td>\n",
              "      <td>1.930013e+09</td>\n",
              "      <td>2019-10-14</td>\n",
              "      <td>2019-10-14</td>\n",
              "      <td>2019-10-29</td>\n",
              "      <td>USD</td>\n",
              "      <td>RV</td>\n",
              "      <td>1.0</td>\n",
              "      <td>916.09</td>\n",
              "      <td>2019-10-14</td>\n",
              "      <td>NAA8</td>\n",
              "      <td>1.930013e+09</td>\n",
              "      <td>0</td>\n",
              "      <td>0.0</td>\n",
              "    </tr>\n",
              "  </tbody>\n",
              "</table>\n",
              "</div>"
            ],
            "text/plain": [
              "   business_code_int_part cust_number  ... isOpen business_code_str_part\n",
              "0                       1  0200331749  ...      0                    0.0\n",
              "1                       1   200762301  ...      0                    0.0\n",
              "2                       1  0200769623  ...      0                    0.0\n",
              "3                       1  0200769623  ...      0                    0.0\n",
              "4                       1  0200705089  ...      0                    0.0\n",
              "\n",
              "[5 rows x 18 columns]"
            ]
          },
          "metadata": {
            "tags": []
          },
          "execution_count": 74
        }
      ]
    },
    {
      "cell_type": "code",
      "metadata": {
        "colab": {
          "base_uri": "https://localhost:8080/",
          "height": 0
        },
        "id": "2SjTT05C_WVp",
        "outputId": "3d954f9b-862d-4b7b-efce-4a2defe04546"
      },
      "source": [
        "dfTest.head()"
      ],
      "execution_count": 75,
      "outputs": [
        {
          "output_type": "execute_result",
          "data": {
            "text/html": [
              "<div>\n",
              "<style scoped>\n",
              "    .dataframe tbody tr th:only-of-type {\n",
              "        vertical-align: middle;\n",
              "    }\n",
              "\n",
              "    .dataframe tbody tr th {\n",
              "        vertical-align: top;\n",
              "    }\n",
              "\n",
              "    .dataframe thead th {\n",
              "        text-align: right;\n",
              "    }\n",
              "</style>\n",
              "<table border=\"1\" class=\"dataframe\">\n",
              "  <thead>\n",
              "    <tr style=\"text-align: right;\">\n",
              "      <th></th>\n",
              "      <th>business_code_int_part</th>\n",
              "      <th>cust_number</th>\n",
              "      <th>name_customer</th>\n",
              "      <th>clear_date</th>\n",
              "      <th>buisness_year</th>\n",
              "      <th>doc_id</th>\n",
              "      <th>document_create_date</th>\n",
              "      <th>document_create_date.1</th>\n",
              "      <th>due_in_date</th>\n",
              "      <th>invoice_currency</th>\n",
              "      <th>document type</th>\n",
              "      <th>posting_id</th>\n",
              "      <th>total_open_amount</th>\n",
              "      <th>baseline_create_date</th>\n",
              "      <th>cust_payment_terms</th>\n",
              "      <th>invoice_id</th>\n",
              "      <th>isOpen</th>\n",
              "      <th>business_code_str_part</th>\n",
              "    </tr>\n",
              "  </thead>\n",
              "  <tbody>\n",
              "    <tr>\n",
              "      <th>0</th>\n",
              "      <td>1</td>\n",
              "      <td>0200769623</td>\n",
              "      <td>WAL-MAR associates</td>\n",
              "      <td>NaT</td>\n",
              "      <td>2020.0</td>\n",
              "      <td>1.930622e+09</td>\n",
              "      <td>2020-03-08</td>\n",
              "      <td>2020-03-09</td>\n",
              "      <td>2020-03-24</td>\n",
              "      <td>USD</td>\n",
              "      <td>RV</td>\n",
              "      <td>1.0</td>\n",
              "      <td>14396.96</td>\n",
              "      <td>2020-03-09</td>\n",
              "      <td>NAH4</td>\n",
              "      <td>1.930622e+09</td>\n",
              "      <td>1</td>\n",
              "      <td>0.0</td>\n",
              "    </tr>\n",
              "    <tr>\n",
              "      <th>1</th>\n",
              "      <td>1</td>\n",
              "      <td>0200729942</td>\n",
              "      <td>SA systems</td>\n",
              "      <td>NaT</td>\n",
              "      <td>2020.0</td>\n",
              "      <td>1.930810e+09</td>\n",
              "      <td>2020-04-21</td>\n",
              "      <td>2020-04-21</td>\n",
              "      <td>2020-05-06</td>\n",
              "      <td>USD</td>\n",
              "      <td>RV</td>\n",
              "      <td>1.0</td>\n",
              "      <td>11629.96</td>\n",
              "      <td>2020-04-21</td>\n",
              "      <td>NAA8</td>\n",
              "      <td>1.930810e+09</td>\n",
              "      <td>1</td>\n",
              "      <td>0.0</td>\n",
              "    </tr>\n",
              "    <tr>\n",
              "      <th>2</th>\n",
              "      <td>1</td>\n",
              "      <td>0200769623</td>\n",
              "      <td>WAL-MAR associates</td>\n",
              "      <td>NaT</td>\n",
              "      <td>2020.0</td>\n",
              "      <td>1.930711e+09</td>\n",
              "      <td>2020-03-28</td>\n",
              "      <td>2020-03-29</td>\n",
              "      <td>2020-04-13</td>\n",
              "      <td>USD</td>\n",
              "      <td>RV</td>\n",
              "      <td>1.0</td>\n",
              "      <td>355.93</td>\n",
              "      <td>2020-03-29</td>\n",
              "      <td>NAH4</td>\n",
              "      <td>1.930711e+09</td>\n",
              "      <td>1</td>\n",
              "      <td>0.0</td>\n",
              "    </tr>\n",
              "    <tr>\n",
              "      <th>3</th>\n",
              "      <td>1</td>\n",
              "      <td>0200418007</td>\n",
              "      <td>AM foundation</td>\n",
              "      <td>NaT</td>\n",
              "      <td>2020.0</td>\n",
              "      <td>1.930717e+09</td>\n",
              "      <td>2020-03-28</td>\n",
              "      <td>2020-03-29</td>\n",
              "      <td>2020-06-02</td>\n",
              "      <td>USD</td>\n",
              "      <td>RV</td>\n",
              "      <td>1.0</td>\n",
              "      <td>7263.36</td>\n",
              "      <td>2020-03-29</td>\n",
              "      <td>NAGD</td>\n",
              "      <td>1.930717e+09</td>\n",
              "      <td>1</td>\n",
              "      <td>0.0</td>\n",
              "    </tr>\n",
              "    <tr>\n",
              "      <th>4</th>\n",
              "      <td>1</td>\n",
              "      <td>0200794332</td>\n",
              "      <td>COST associates</td>\n",
              "      <td>NaT</td>\n",
              "      <td>2020.0</td>\n",
              "      <td>1.930595e+09</td>\n",
              "      <td>2020-03-03</td>\n",
              "      <td>2020-03-04</td>\n",
              "      <td>2020-03-19</td>\n",
              "      <td>USD</td>\n",
              "      <td>RV</td>\n",
              "      <td>1.0</td>\n",
              "      <td>39259.89</td>\n",
              "      <td>2020-03-04</td>\n",
              "      <td>NAAX</td>\n",
              "      <td>1.930595e+09</td>\n",
              "      <td>1</td>\n",
              "      <td>0.0</td>\n",
              "    </tr>\n",
              "  </tbody>\n",
              "</table>\n",
              "</div>"
            ],
            "text/plain": [
              "   business_code_int_part cust_number  ... isOpen business_code_str_part\n",
              "0                       1  0200769623  ...      1                    0.0\n",
              "1                       1  0200729942  ...      1                    0.0\n",
              "2                       1  0200769623  ...      1                    0.0\n",
              "3                       1  0200418007  ...      1                    0.0\n",
              "4                       1  0200794332  ...      1                    0.0\n",
              "\n",
              "[5 rows x 18 columns]"
            ]
          },
          "metadata": {
            "tags": []
          },
          "execution_count": 75
        }
      ]
    },
    {
      "cell_type": "code",
      "metadata": {
        "colab": {
          "base_uri": "https://localhost:8080/",
          "height": 0
        },
        "id": "VuZ4o2V8_aiH",
        "outputId": "eca28036-06a6-4ce2-8761-fb496f481844"
      },
      "source": [
        "dfValidation.head()"
      ],
      "execution_count": 76,
      "outputs": [
        {
          "output_type": "execute_result",
          "data": {
            "text/html": [
              "<div>\n",
              "<style scoped>\n",
              "    .dataframe tbody tr th:only-of-type {\n",
              "        vertical-align: middle;\n",
              "    }\n",
              "\n",
              "    .dataframe tbody tr th {\n",
              "        vertical-align: top;\n",
              "    }\n",
              "\n",
              "    .dataframe thead th {\n",
              "        text-align: right;\n",
              "    }\n",
              "</style>\n",
              "<table border=\"1\" class=\"dataframe\">\n",
              "  <thead>\n",
              "    <tr style=\"text-align: right;\">\n",
              "      <th></th>\n",
              "      <th>business_code_int_part</th>\n",
              "      <th>cust_number</th>\n",
              "      <th>name_customer</th>\n",
              "      <th>clear_date</th>\n",
              "      <th>buisness_year</th>\n",
              "      <th>doc_id</th>\n",
              "      <th>document_create_date</th>\n",
              "      <th>document_create_date.1</th>\n",
              "      <th>due_in_date</th>\n",
              "      <th>invoice_currency</th>\n",
              "      <th>document type</th>\n",
              "      <th>posting_id</th>\n",
              "      <th>total_open_amount</th>\n",
              "      <th>baseline_create_date</th>\n",
              "      <th>cust_payment_terms</th>\n",
              "      <th>invoice_id</th>\n",
              "      <th>isOpen</th>\n",
              "      <th>business_code_str_part</th>\n",
              "    </tr>\n",
              "  </thead>\n",
              "  <tbody>\n",
              "    <tr>\n",
              "      <th>0</th>\n",
              "      <td>2</td>\n",
              "      <td>0140105847</td>\n",
              "      <td>GORDON F corp</td>\n",
              "      <td>2019-06-07</td>\n",
              "      <td>2019.0</td>\n",
              "      <td>2.960550e+09</td>\n",
              "      <td>2019-05-23</td>\n",
              "      <td>2019-05-23</td>\n",
              "      <td>2019-06-03</td>\n",
              "      <td>CAD</td>\n",
              "      <td>RV</td>\n",
              "      <td>1.0</td>\n",
              "      <td>38748.76</td>\n",
              "      <td>2019-05-24</td>\n",
              "      <td>CA10</td>\n",
              "      <td>2.960550e+09</td>\n",
              "      <td>0</td>\n",
              "      <td>1.0</td>\n",
              "    </tr>\n",
              "    <tr>\n",
              "      <th>1</th>\n",
              "      <td>1</td>\n",
              "      <td>0200782001</td>\n",
              "      <td>GORDO trust</td>\n",
              "      <td>2019-11-06</td>\n",
              "      <td>2019.0</td>\n",
              "      <td>1.930050e+09</td>\n",
              "      <td>2019-10-24</td>\n",
              "      <td>2019-10-24</td>\n",
              "      <td>2019-11-08</td>\n",
              "      <td>USD</td>\n",
              "      <td>RV</td>\n",
              "      <td>1.0</td>\n",
              "      <td>42389.53</td>\n",
              "      <td>2019-10-24</td>\n",
              "      <td>NAA8</td>\n",
              "      <td>1.930050e+09</td>\n",
              "      <td>0</td>\n",
              "      <td>0.0</td>\n",
              "    </tr>\n",
              "    <tr>\n",
              "      <th>2</th>\n",
              "      <td>1</td>\n",
              "      <td>0200749225</td>\n",
              "      <td>SUPER  associates</td>\n",
              "      <td>2019-09-12</td>\n",
              "      <td>2019.0</td>\n",
              "      <td>1.929808e+09</td>\n",
              "      <td>2019-08-29</td>\n",
              "      <td>2019-08-28</td>\n",
              "      <td>2019-09-12</td>\n",
              "      <td>USD</td>\n",
              "      <td>RV</td>\n",
              "      <td>1.0</td>\n",
              "      <td>9952.73</td>\n",
              "      <td>2019-08-28</td>\n",
              "      <td>NAA8</td>\n",
              "      <td>1.929808e+09</td>\n",
              "      <td>0</td>\n",
              "      <td>0.0</td>\n",
              "    </tr>\n",
              "    <tr>\n",
              "      <th>3</th>\n",
              "      <td>1</td>\n",
              "      <td>0200772670</td>\n",
              "      <td>ASSOCIAT corporation</td>\n",
              "      <td>2019-10-07</td>\n",
              "      <td>2019.0</td>\n",
              "      <td>1.929583e+09</td>\n",
              "      <td>2019-07-06</td>\n",
              "      <td>2019-07-06</td>\n",
              "      <td>2019-10-04</td>\n",
              "      <td>USD</td>\n",
              "      <td>RV</td>\n",
              "      <td>1.0</td>\n",
              "      <td>6516.29</td>\n",
              "      <td>2019-07-06</td>\n",
              "      <td>NAVR</td>\n",
              "      <td>1.929583e+09</td>\n",
              "      <td>0</td>\n",
              "      <td>0.0</td>\n",
              "    </tr>\n",
              "    <tr>\n",
              "      <th>4</th>\n",
              "      <td>1</td>\n",
              "      <td>0200936373</td>\n",
              "      <td>SUPE us</td>\n",
              "      <td>2020-02-13</td>\n",
              "      <td>2020.0</td>\n",
              "      <td>1.930443e+09</td>\n",
              "      <td>2020-01-27</td>\n",
              "      <td>2020-01-29</td>\n",
              "      <td>2020-02-13</td>\n",
              "      <td>USD</td>\n",
              "      <td>RV</td>\n",
              "      <td>1.0</td>\n",
              "      <td>91534.76</td>\n",
              "      <td>2020-01-29</td>\n",
              "      <td>NAA8</td>\n",
              "      <td>1.930443e+09</td>\n",
              "      <td>0</td>\n",
              "      <td>0.0</td>\n",
              "    </tr>\n",
              "  </tbody>\n",
              "</table>\n",
              "</div>"
            ],
            "text/plain": [
              "   business_code_int_part cust_number  ... isOpen business_code_str_part\n",
              "0                       2  0140105847  ...      0                    1.0\n",
              "1                       1  0200782001  ...      0                    0.0\n",
              "2                       1  0200749225  ...      0                    0.0\n",
              "3                       1  0200772670  ...      0                    0.0\n",
              "4                       1  0200936373  ...      0                    0.0\n",
              "\n",
              "[5 rows x 18 columns]"
            ]
          },
          "metadata": {
            "tags": []
          },
          "execution_count": 76
        }
      ]
    },
    {
      "cell_type": "markdown",
      "metadata": {
        "id": "jsf2yQmc9kdc"
      },
      "source": [
        "One Hot Encoding"
      ]
    },
    {
      "cell_type": "code",
      "metadata": {
        "id": "01aas9gBqKBO"
      },
      "source": [
        "#oneHotEncoding the business_code_string_Part\n",
        "from sklearn.preprocessing import OneHotEncoder\n",
        "encoder = OneHotEncoder(handle_unknown='ignore')"
      ],
      "execution_count": 77,
      "outputs": []
    },
    {
      "cell_type": "code",
      "metadata": {
        "id": "mVbDqAQmqRbK"
      },
      "source": [
        "enc_df = pd.DataFrame(encoder.fit_transform(dfTrain[[\"business_code_str_part\"]]).toarray())\n",
        "enc_df = enc_df.rename(columns = {0 : \"business_code_str_part_U\", 1 : \"business_code_str_part_CA\"})\n",
        "dfTrain = dfTrain.join(enc_df).drop(columns = [\"business_code_str_part\"])"
      ],
      "execution_count": 78,
      "outputs": []
    },
    {
      "cell_type": "code",
      "metadata": {
        "id": "KZzpKJ-xqibX"
      },
      "source": [
        "def encoding(dataf, encoder):\n",
        "    enc_df = pd.DataFrame(encoder.transform(dataf[[\"business_code_str_part\"]]).toarray())\n",
        "    enc_df = enc_df.rename(columns = {0 : \"business_code_str_part_U\", 1 : \"business_code_str_part_CA\"})\n",
        "    dataf = dataf.join(enc_df).drop(columns = [\"business_code_str_part\"])\n",
        "    return dataf"
      ],
      "execution_count": 79,
      "outputs": []
    },
    {
      "cell_type": "code",
      "metadata": {
        "id": "5a7hApxdqtOv"
      },
      "source": [
        "dfValidation = encoding(dfValidation, encoder)\n",
        "dfTest = encoding(dfTest, encoder)\n",
        "\n",
        "#oneHotEncoding the business_code_string_Part Successfull"
      ],
      "execution_count": 80,
      "outputs": []
    },
    {
      "cell_type": "code",
      "metadata": {
        "colab": {
          "base_uri": "https://localhost:8080/",
          "height": 0
        },
        "id": "S4R5LqP3rQDr",
        "outputId": "03bb2327-0a59-4f5b-857b-8a58845a9c63"
      },
      "source": [
        "dfTrain.head()"
      ],
      "execution_count": 81,
      "outputs": [
        {
          "output_type": "execute_result",
          "data": {
            "text/html": [
              "<div>\n",
              "<style scoped>\n",
              "    .dataframe tbody tr th:only-of-type {\n",
              "        vertical-align: middle;\n",
              "    }\n",
              "\n",
              "    .dataframe tbody tr th {\n",
              "        vertical-align: top;\n",
              "    }\n",
              "\n",
              "    .dataframe thead th {\n",
              "        text-align: right;\n",
              "    }\n",
              "</style>\n",
              "<table border=\"1\" class=\"dataframe\">\n",
              "  <thead>\n",
              "    <tr style=\"text-align: right;\">\n",
              "      <th></th>\n",
              "      <th>business_code_int_part</th>\n",
              "      <th>cust_number</th>\n",
              "      <th>name_customer</th>\n",
              "      <th>clear_date</th>\n",
              "      <th>buisness_year</th>\n",
              "      <th>doc_id</th>\n",
              "      <th>document_create_date</th>\n",
              "      <th>document_create_date.1</th>\n",
              "      <th>due_in_date</th>\n",
              "      <th>invoice_currency</th>\n",
              "      <th>document type</th>\n",
              "      <th>posting_id</th>\n",
              "      <th>total_open_amount</th>\n",
              "      <th>baseline_create_date</th>\n",
              "      <th>cust_payment_terms</th>\n",
              "      <th>invoice_id</th>\n",
              "      <th>isOpen</th>\n",
              "      <th>business_code_str_part_U</th>\n",
              "      <th>business_code_str_part_CA</th>\n",
              "    </tr>\n",
              "  </thead>\n",
              "  <tbody>\n",
              "    <tr>\n",
              "      <th>0</th>\n",
              "      <td>1</td>\n",
              "      <td>0200331749</td>\n",
              "      <td>SYSC co</td>\n",
              "      <td>2019-11-18</td>\n",
              "      <td>2019.0</td>\n",
              "      <td>1.930087e+09</td>\n",
              "      <td>2019-11-01</td>\n",
              "      <td>2019-11-01</td>\n",
              "      <td>2019-11-16</td>\n",
              "      <td>USD</td>\n",
              "      <td>RV</td>\n",
              "      <td>1.0</td>\n",
              "      <td>43288.46</td>\n",
              "      <td>2019-11-01</td>\n",
              "      <td>NAA8</td>\n",
              "      <td>1.930087e+09</td>\n",
              "      <td>0</td>\n",
              "      <td>1.0</td>\n",
              "      <td>0.0</td>\n",
              "    </tr>\n",
              "    <tr>\n",
              "      <th>1</th>\n",
              "      <td>1</td>\n",
              "      <td>200762301</td>\n",
              "      <td>C&amp;S WH systems</td>\n",
              "      <td>2019-04-11</td>\n",
              "      <td>2019.0</td>\n",
              "      <td>1.929037e+09</td>\n",
              "      <td>2019-03-27</td>\n",
              "      <td>2019-03-28</td>\n",
              "      <td>2019-04-12</td>\n",
              "      <td>USD</td>\n",
              "      <td>RV</td>\n",
              "      <td>1.0</td>\n",
              "      <td>3783.25</td>\n",
              "      <td>2019-03-28</td>\n",
              "      <td>NAC6</td>\n",
              "      <td>1.929037e+09</td>\n",
              "      <td>0</td>\n",
              "      <td>1.0</td>\n",
              "      <td>0.0</td>\n",
              "    </tr>\n",
              "    <tr>\n",
              "      <th>2</th>\n",
              "      <td>1</td>\n",
              "      <td>0200769623</td>\n",
              "      <td>WAL-MAR llc</td>\n",
              "      <td>2019-12-18</td>\n",
              "      <td>2019.0</td>\n",
              "      <td>1.930223e+09</td>\n",
              "      <td>2019-12-06</td>\n",
              "      <td>2019-12-07</td>\n",
              "      <td>2019-12-22</td>\n",
              "      <td>USD</td>\n",
              "      <td>RV</td>\n",
              "      <td>1.0</td>\n",
              "      <td>35.28</td>\n",
              "      <td>2019-12-07</td>\n",
              "      <td>NAH4</td>\n",
              "      <td>1.930223e+09</td>\n",
              "      <td>0</td>\n",
              "      <td>1.0</td>\n",
              "      <td>0.0</td>\n",
              "    </tr>\n",
              "    <tr>\n",
              "      <th>3</th>\n",
              "      <td>1</td>\n",
              "      <td>0200769623</td>\n",
              "      <td>WAL-MAR systems</td>\n",
              "      <td>2019-08-15</td>\n",
              "      <td>2019.0</td>\n",
              "      <td>1.929703e+09</td>\n",
              "      <td>2019-08-05</td>\n",
              "      <td>2019-08-05</td>\n",
              "      <td>2019-08-20</td>\n",
              "      <td>USD</td>\n",
              "      <td>RV</td>\n",
              "      <td>1.0</td>\n",
              "      <td>471.56</td>\n",
              "      <td>2019-08-05</td>\n",
              "      <td>NAH4</td>\n",
              "      <td>1.929703e+09</td>\n",
              "      <td>0</td>\n",
              "      <td>1.0</td>\n",
              "      <td>0.0</td>\n",
              "    </tr>\n",
              "    <tr>\n",
              "      <th>4</th>\n",
              "      <td>1</td>\n",
              "      <td>0200705089</td>\n",
              "      <td>JETR in</td>\n",
              "      <td>2019-11-04</td>\n",
              "      <td>2019.0</td>\n",
              "      <td>1.930013e+09</td>\n",
              "      <td>2019-10-14</td>\n",
              "      <td>2019-10-14</td>\n",
              "      <td>2019-10-29</td>\n",
              "      <td>USD</td>\n",
              "      <td>RV</td>\n",
              "      <td>1.0</td>\n",
              "      <td>916.09</td>\n",
              "      <td>2019-10-14</td>\n",
              "      <td>NAA8</td>\n",
              "      <td>1.930013e+09</td>\n",
              "      <td>0</td>\n",
              "      <td>1.0</td>\n",
              "      <td>0.0</td>\n",
              "    </tr>\n",
              "  </tbody>\n",
              "</table>\n",
              "</div>"
            ],
            "text/plain": [
              "   business_code_int_part  ... business_code_str_part_CA\n",
              "0                       1  ...                       0.0\n",
              "1                       1  ...                       0.0\n",
              "2                       1  ...                       0.0\n",
              "3                       1  ...                       0.0\n",
              "4                       1  ...                       0.0\n",
              "\n",
              "[5 rows x 19 columns]"
            ]
          },
          "metadata": {
            "tags": []
          },
          "execution_count": 81
        }
      ]
    },
    {
      "cell_type": "code",
      "metadata": {
        "colab": {
          "base_uri": "https://localhost:8080/",
          "height": 0
        },
        "id": "dD-OR1cS_nUv",
        "outputId": "004a35ee-8eb3-4420-e659-a56c226e0489"
      },
      "source": [
        "dfTest.head()"
      ],
      "execution_count": 82,
      "outputs": [
        {
          "output_type": "execute_result",
          "data": {
            "text/html": [
              "<div>\n",
              "<style scoped>\n",
              "    .dataframe tbody tr th:only-of-type {\n",
              "        vertical-align: middle;\n",
              "    }\n",
              "\n",
              "    .dataframe tbody tr th {\n",
              "        vertical-align: top;\n",
              "    }\n",
              "\n",
              "    .dataframe thead th {\n",
              "        text-align: right;\n",
              "    }\n",
              "</style>\n",
              "<table border=\"1\" class=\"dataframe\">\n",
              "  <thead>\n",
              "    <tr style=\"text-align: right;\">\n",
              "      <th></th>\n",
              "      <th>business_code_int_part</th>\n",
              "      <th>cust_number</th>\n",
              "      <th>name_customer</th>\n",
              "      <th>clear_date</th>\n",
              "      <th>buisness_year</th>\n",
              "      <th>doc_id</th>\n",
              "      <th>document_create_date</th>\n",
              "      <th>document_create_date.1</th>\n",
              "      <th>due_in_date</th>\n",
              "      <th>invoice_currency</th>\n",
              "      <th>document type</th>\n",
              "      <th>posting_id</th>\n",
              "      <th>total_open_amount</th>\n",
              "      <th>baseline_create_date</th>\n",
              "      <th>cust_payment_terms</th>\n",
              "      <th>invoice_id</th>\n",
              "      <th>isOpen</th>\n",
              "      <th>business_code_str_part_U</th>\n",
              "      <th>business_code_str_part_CA</th>\n",
              "    </tr>\n",
              "  </thead>\n",
              "  <tbody>\n",
              "    <tr>\n",
              "      <th>0</th>\n",
              "      <td>1</td>\n",
              "      <td>0200769623</td>\n",
              "      <td>WAL-MAR associates</td>\n",
              "      <td>NaT</td>\n",
              "      <td>2020.0</td>\n",
              "      <td>1.930622e+09</td>\n",
              "      <td>2020-03-08</td>\n",
              "      <td>2020-03-09</td>\n",
              "      <td>2020-03-24</td>\n",
              "      <td>USD</td>\n",
              "      <td>RV</td>\n",
              "      <td>1.0</td>\n",
              "      <td>14396.96</td>\n",
              "      <td>2020-03-09</td>\n",
              "      <td>NAH4</td>\n",
              "      <td>1.930622e+09</td>\n",
              "      <td>1</td>\n",
              "      <td>1.0</td>\n",
              "      <td>0.0</td>\n",
              "    </tr>\n",
              "    <tr>\n",
              "      <th>1</th>\n",
              "      <td>1</td>\n",
              "      <td>0200729942</td>\n",
              "      <td>SA systems</td>\n",
              "      <td>NaT</td>\n",
              "      <td>2020.0</td>\n",
              "      <td>1.930810e+09</td>\n",
              "      <td>2020-04-21</td>\n",
              "      <td>2020-04-21</td>\n",
              "      <td>2020-05-06</td>\n",
              "      <td>USD</td>\n",
              "      <td>RV</td>\n",
              "      <td>1.0</td>\n",
              "      <td>11629.96</td>\n",
              "      <td>2020-04-21</td>\n",
              "      <td>NAA8</td>\n",
              "      <td>1.930810e+09</td>\n",
              "      <td>1</td>\n",
              "      <td>1.0</td>\n",
              "      <td>0.0</td>\n",
              "    </tr>\n",
              "    <tr>\n",
              "      <th>2</th>\n",
              "      <td>1</td>\n",
              "      <td>0200769623</td>\n",
              "      <td>WAL-MAR associates</td>\n",
              "      <td>NaT</td>\n",
              "      <td>2020.0</td>\n",
              "      <td>1.930711e+09</td>\n",
              "      <td>2020-03-28</td>\n",
              "      <td>2020-03-29</td>\n",
              "      <td>2020-04-13</td>\n",
              "      <td>USD</td>\n",
              "      <td>RV</td>\n",
              "      <td>1.0</td>\n",
              "      <td>355.93</td>\n",
              "      <td>2020-03-29</td>\n",
              "      <td>NAH4</td>\n",
              "      <td>1.930711e+09</td>\n",
              "      <td>1</td>\n",
              "      <td>1.0</td>\n",
              "      <td>0.0</td>\n",
              "    </tr>\n",
              "    <tr>\n",
              "      <th>3</th>\n",
              "      <td>1</td>\n",
              "      <td>0200418007</td>\n",
              "      <td>AM foundation</td>\n",
              "      <td>NaT</td>\n",
              "      <td>2020.0</td>\n",
              "      <td>1.930717e+09</td>\n",
              "      <td>2020-03-28</td>\n",
              "      <td>2020-03-29</td>\n",
              "      <td>2020-06-02</td>\n",
              "      <td>USD</td>\n",
              "      <td>RV</td>\n",
              "      <td>1.0</td>\n",
              "      <td>7263.36</td>\n",
              "      <td>2020-03-29</td>\n",
              "      <td>NAGD</td>\n",
              "      <td>1.930717e+09</td>\n",
              "      <td>1</td>\n",
              "      <td>1.0</td>\n",
              "      <td>0.0</td>\n",
              "    </tr>\n",
              "    <tr>\n",
              "      <th>4</th>\n",
              "      <td>1</td>\n",
              "      <td>0200794332</td>\n",
              "      <td>COST associates</td>\n",
              "      <td>NaT</td>\n",
              "      <td>2020.0</td>\n",
              "      <td>1.930595e+09</td>\n",
              "      <td>2020-03-03</td>\n",
              "      <td>2020-03-04</td>\n",
              "      <td>2020-03-19</td>\n",
              "      <td>USD</td>\n",
              "      <td>RV</td>\n",
              "      <td>1.0</td>\n",
              "      <td>39259.89</td>\n",
              "      <td>2020-03-04</td>\n",
              "      <td>NAAX</td>\n",
              "      <td>1.930595e+09</td>\n",
              "      <td>1</td>\n",
              "      <td>1.0</td>\n",
              "      <td>0.0</td>\n",
              "    </tr>\n",
              "  </tbody>\n",
              "</table>\n",
              "</div>"
            ],
            "text/plain": [
              "   business_code_int_part  ... business_code_str_part_CA\n",
              "0                       1  ...                       0.0\n",
              "1                       1  ...                       0.0\n",
              "2                       1  ...                       0.0\n",
              "3                       1  ...                       0.0\n",
              "4                       1  ...                       0.0\n",
              "\n",
              "[5 rows x 19 columns]"
            ]
          },
          "metadata": {
            "tags": []
          },
          "execution_count": 82
        }
      ]
    },
    {
      "cell_type": "code",
      "metadata": {
        "colab": {
          "base_uri": "https://localhost:8080/",
          "height": 0
        },
        "id": "0oNlwhoU_oBe",
        "outputId": "eb719fdf-3a3e-4b75-9786-8361b27904c2"
      },
      "source": [
        "dfValidation.head()"
      ],
      "execution_count": 83,
      "outputs": [
        {
          "output_type": "execute_result",
          "data": {
            "text/html": [
              "<div>\n",
              "<style scoped>\n",
              "    .dataframe tbody tr th:only-of-type {\n",
              "        vertical-align: middle;\n",
              "    }\n",
              "\n",
              "    .dataframe tbody tr th {\n",
              "        vertical-align: top;\n",
              "    }\n",
              "\n",
              "    .dataframe thead th {\n",
              "        text-align: right;\n",
              "    }\n",
              "</style>\n",
              "<table border=\"1\" class=\"dataframe\">\n",
              "  <thead>\n",
              "    <tr style=\"text-align: right;\">\n",
              "      <th></th>\n",
              "      <th>business_code_int_part</th>\n",
              "      <th>cust_number</th>\n",
              "      <th>name_customer</th>\n",
              "      <th>clear_date</th>\n",
              "      <th>buisness_year</th>\n",
              "      <th>doc_id</th>\n",
              "      <th>document_create_date</th>\n",
              "      <th>document_create_date.1</th>\n",
              "      <th>due_in_date</th>\n",
              "      <th>invoice_currency</th>\n",
              "      <th>document type</th>\n",
              "      <th>posting_id</th>\n",
              "      <th>total_open_amount</th>\n",
              "      <th>baseline_create_date</th>\n",
              "      <th>cust_payment_terms</th>\n",
              "      <th>invoice_id</th>\n",
              "      <th>isOpen</th>\n",
              "      <th>business_code_str_part_U</th>\n",
              "      <th>business_code_str_part_CA</th>\n",
              "    </tr>\n",
              "  </thead>\n",
              "  <tbody>\n",
              "    <tr>\n",
              "      <th>0</th>\n",
              "      <td>2</td>\n",
              "      <td>0140105847</td>\n",
              "      <td>GORDON F corp</td>\n",
              "      <td>2019-06-07</td>\n",
              "      <td>2019.0</td>\n",
              "      <td>2.960550e+09</td>\n",
              "      <td>2019-05-23</td>\n",
              "      <td>2019-05-23</td>\n",
              "      <td>2019-06-03</td>\n",
              "      <td>CAD</td>\n",
              "      <td>RV</td>\n",
              "      <td>1.0</td>\n",
              "      <td>38748.76</td>\n",
              "      <td>2019-05-24</td>\n",
              "      <td>CA10</td>\n",
              "      <td>2.960550e+09</td>\n",
              "      <td>0</td>\n",
              "      <td>0.0</td>\n",
              "      <td>1.0</td>\n",
              "    </tr>\n",
              "    <tr>\n",
              "      <th>1</th>\n",
              "      <td>1</td>\n",
              "      <td>0200782001</td>\n",
              "      <td>GORDO trust</td>\n",
              "      <td>2019-11-06</td>\n",
              "      <td>2019.0</td>\n",
              "      <td>1.930050e+09</td>\n",
              "      <td>2019-10-24</td>\n",
              "      <td>2019-10-24</td>\n",
              "      <td>2019-11-08</td>\n",
              "      <td>USD</td>\n",
              "      <td>RV</td>\n",
              "      <td>1.0</td>\n",
              "      <td>42389.53</td>\n",
              "      <td>2019-10-24</td>\n",
              "      <td>NAA8</td>\n",
              "      <td>1.930050e+09</td>\n",
              "      <td>0</td>\n",
              "      <td>1.0</td>\n",
              "      <td>0.0</td>\n",
              "    </tr>\n",
              "    <tr>\n",
              "      <th>2</th>\n",
              "      <td>1</td>\n",
              "      <td>0200749225</td>\n",
              "      <td>SUPER  associates</td>\n",
              "      <td>2019-09-12</td>\n",
              "      <td>2019.0</td>\n",
              "      <td>1.929808e+09</td>\n",
              "      <td>2019-08-29</td>\n",
              "      <td>2019-08-28</td>\n",
              "      <td>2019-09-12</td>\n",
              "      <td>USD</td>\n",
              "      <td>RV</td>\n",
              "      <td>1.0</td>\n",
              "      <td>9952.73</td>\n",
              "      <td>2019-08-28</td>\n",
              "      <td>NAA8</td>\n",
              "      <td>1.929808e+09</td>\n",
              "      <td>0</td>\n",
              "      <td>1.0</td>\n",
              "      <td>0.0</td>\n",
              "    </tr>\n",
              "    <tr>\n",
              "      <th>3</th>\n",
              "      <td>1</td>\n",
              "      <td>0200772670</td>\n",
              "      <td>ASSOCIAT corporation</td>\n",
              "      <td>2019-10-07</td>\n",
              "      <td>2019.0</td>\n",
              "      <td>1.929583e+09</td>\n",
              "      <td>2019-07-06</td>\n",
              "      <td>2019-07-06</td>\n",
              "      <td>2019-10-04</td>\n",
              "      <td>USD</td>\n",
              "      <td>RV</td>\n",
              "      <td>1.0</td>\n",
              "      <td>6516.29</td>\n",
              "      <td>2019-07-06</td>\n",
              "      <td>NAVR</td>\n",
              "      <td>1.929583e+09</td>\n",
              "      <td>0</td>\n",
              "      <td>1.0</td>\n",
              "      <td>0.0</td>\n",
              "    </tr>\n",
              "    <tr>\n",
              "      <th>4</th>\n",
              "      <td>1</td>\n",
              "      <td>0200936373</td>\n",
              "      <td>SUPE us</td>\n",
              "      <td>2020-02-13</td>\n",
              "      <td>2020.0</td>\n",
              "      <td>1.930443e+09</td>\n",
              "      <td>2020-01-27</td>\n",
              "      <td>2020-01-29</td>\n",
              "      <td>2020-02-13</td>\n",
              "      <td>USD</td>\n",
              "      <td>RV</td>\n",
              "      <td>1.0</td>\n",
              "      <td>91534.76</td>\n",
              "      <td>2020-01-29</td>\n",
              "      <td>NAA8</td>\n",
              "      <td>1.930443e+09</td>\n",
              "      <td>0</td>\n",
              "      <td>1.0</td>\n",
              "      <td>0.0</td>\n",
              "    </tr>\n",
              "  </tbody>\n",
              "</table>\n",
              "</div>"
            ],
            "text/plain": [
              "   business_code_int_part  ... business_code_str_part_CA\n",
              "0                       2  ...                       1.0\n",
              "1                       1  ...                       0.0\n",
              "2                       1  ...                       0.0\n",
              "3                       1  ...                       0.0\n",
              "4                       1  ...                       0.0\n",
              "\n",
              "[5 rows x 19 columns]"
            ]
          },
          "metadata": {
            "tags": []
          },
          "execution_count": 83
        }
      ]
    },
    {
      "cell_type": "markdown",
      "metadata": {
        "id": "HDzfRnEK95jC"
      },
      "source": [
        "######*cust_payment_terms*"
      ]
    },
    {
      "cell_type": "code",
      "metadata": {
        "colab": {
          "base_uri": "https://localhost:8080/"
        },
        "id": "-R5cfHab-ALY",
        "outputId": "74e1cc8d-c5bd-4512-d996-b5e8662e9ba6"
      },
      "source": [
        "dfTrain[\"cust_payment_terms\"].unique()\n",
        "#sometimes set of characters (alpha) followed by int\n",
        "#sometimes all characters (alpha)\n",
        "#sometimes int part followed by set of characters"
      ],
      "execution_count": 84,
      "outputs": [
        {
          "output_type": "execute_result",
          "data": {
            "text/plain": [
              "array(['NAA8', 'NAC6', 'NAH4', 'NAX2', 'NAM4', 'CA10', 'NA10', 'NAD1',\n",
              "       'NAAX', 'NAG2', 'NA32', 'NAGD', 'NAU5', 'NAVE', 'NAVR', 'NAAW',\n",
              "       'NAVQ', 'NAVF', 'NAWP', 'NAVM', 'NAVD', 'NAWN', 'NAM1', 'NAWU',\n",
              "       'NAD4', 'NA38', 'NAM2', 'NAD5', 'NAUZ', 'C106', 'NATZ', 'BR56',\n",
              "       'NAM3', 'NAVC', 'NA3B', 'NAUI', 'NAD8', 'NACB', 'NATW', 'NABG',\n",
              "       'NA3F', 'NAVL', 'NATM', 'CA30', 'NAB1', 'CAB1', 'NAV9', 'NA8Q',\n",
              "       'NA84', 'NATJ', 'NATX', 'NAUP', 'NATK', 'B052', 'NA31', 'NATL',\n",
              "       'NABD', 'CA60', 'NA24', 'NA9X', '90M7', 'NATU', 'BR12', 'NAV2',\n",
              "       'NA25', 'NATV', 'NANC', 'NAUX', 'CAX2', 'NAWM'], dtype=object)"
            ]
          },
          "metadata": {
            "tags": []
          },
          "execution_count": 84
        }
      ]
    },
    {
      "cell_type": "code",
      "metadata": {
        "colab": {
          "base_uri": "https://localhost:8080/",
          "height": 0
        },
        "id": "pMa7zlNyAKhj",
        "outputId": "ad495b2d-4eb5-4997-e062-946dcd5f9ffd"
      },
      "source": [
        "\"\"\"column 'cust_payment_terms' cannot be segregated into integers and alphabetical part\n",
        "thus one hot encoding seems to be not possible\n",
        "so, encode it directly\"\"\""
      ],
      "execution_count": 85,
      "outputs": [
        {
          "output_type": "execute_result",
          "data": {
            "application/vnd.google.colaboratory.intrinsic+json": {
              "type": "string"
            },
            "text/plain": [
              "\"column 'cust_payment_terms' cannot be segregated into integers and alphabetical part\\nthus one hot encoding seems to be not possible\\nso, encode it directly\""
            ]
          },
          "metadata": {
            "tags": []
          },
          "execution_count": 85
        }
      ]
    },
    {
      "cell_type": "code",
      "metadata": {
        "id": "BKWOR92PAmnR"
      },
      "source": [
        "#Done in the sub Heading Mean Encoding cust_payment_terms later"
      ],
      "execution_count": 86,
      "outputs": []
    },
    {
      "cell_type": "markdown",
      "metadata": {
        "id": "djLSsJ-AAm32"
      },
      "source": [
        "######*invoice_currency*"
      ]
    },
    {
      "cell_type": "code",
      "metadata": {
        "colab": {
          "base_uri": "https://localhost:8080/"
        },
        "id": "qOvN7bPqAuxB",
        "outputId": "5c708fb7-eb9a-4be1-dd30-a8c4fba07622"
      },
      "source": [
        "dfTrain[\"invoice_currency\"].unique()"
      ],
      "execution_count": 87,
      "outputs": [
        {
          "output_type": "execute_result",
          "data": {
            "text/plain": [
              "array(['USD', 'CAD'], dtype=object)"
            ]
          },
          "metadata": {
            "tags": []
          },
          "execution_count": 87
        }
      ]
    },
    {
      "cell_type": "code",
      "metadata": {
        "colab": {
          "base_uri": "https://localhost:8080/"
        },
        "id": "LxejMSSdA7jZ",
        "outputId": "4c5c1dfc-bb10-49ad-9f6e-45819ffd39da"
      },
      "source": [
        "#Calculating percentage of train set that uses USD and CAD as currency\n",
        "print(f' USD = {(dfTrain[dfTrain[\"invoice_currency\"] == \"USD\"].shape[0] / dfTrain.shape[0])*100} % of total dfTrain')\n",
        "print(f' CSD = {100- (dfTrain[dfTrain[\"invoice_currency\"] == \"USD\"].shape[0] / dfTrain.shape[0])*100} % of total dfTrain')"
      ],
      "execution_count": 88,
      "outputs": [
        {
          "output_type": "stream",
          "text": [
            " USD = 92.16566741088226 % of total dfTrain\n",
            " CSD = 7.834332589117736 % of total dfTrain\n"
          ],
          "name": "stdout"
        }
      ]
    },
    {
      "cell_type": "code",
      "metadata": {
        "colab": {
          "base_uri": "https://localhost:8080/"
        },
        "id": "o9gN95KZB1Sa",
        "outputId": "24a4e630-07d9-496e-a22f-155df811a896"
      },
      "source": [
        "#As the data is split into significant amounts of data thus the lower frequesncy of CSD cannot be ignored\n",
        "#It would have been possible to ignore it if it was somewhere arund 1% or even lesser\n",
        "print(f' No of data-entries having USD as invoice_currency {dfTrain[dfTrain[\"invoice_currency\"] == \"USD\"].shape[0]}')\n",
        "print(f' No of data-entries having CAD as invoice_currency {dfTrain[dfTrain[\"invoice_currency\"] == \"CAD\"].shape[0]}')"
      ],
      "execution_count": 89,
      "outputs": [
        {
          "output_type": "stream",
          "text": [
            " No of data-entries having USD as invoice_currency 36740\n",
            " No of data-entries having CAD as invoice_currency 3123\n"
          ],
          "name": "stdout"
        }
      ]
    },
    {
      "cell_type": "code",
      "metadata": {
        "colab": {
          "base_uri": "https://localhost:8080/",
          "height": 0
        },
        "id": "pu_P4lW2KbDH",
        "outputId": "8453e52e-3510-4f3f-db65-c205ffd1f2b2"
      },
      "source": [
        "dfTrain.head()"
      ],
      "execution_count": 90,
      "outputs": [
        {
          "output_type": "execute_result",
          "data": {
            "text/html": [
              "<div>\n",
              "<style scoped>\n",
              "    .dataframe tbody tr th:only-of-type {\n",
              "        vertical-align: middle;\n",
              "    }\n",
              "\n",
              "    .dataframe tbody tr th {\n",
              "        vertical-align: top;\n",
              "    }\n",
              "\n",
              "    .dataframe thead th {\n",
              "        text-align: right;\n",
              "    }\n",
              "</style>\n",
              "<table border=\"1\" class=\"dataframe\">\n",
              "  <thead>\n",
              "    <tr style=\"text-align: right;\">\n",
              "      <th></th>\n",
              "      <th>business_code_int_part</th>\n",
              "      <th>cust_number</th>\n",
              "      <th>name_customer</th>\n",
              "      <th>clear_date</th>\n",
              "      <th>buisness_year</th>\n",
              "      <th>doc_id</th>\n",
              "      <th>document_create_date</th>\n",
              "      <th>document_create_date.1</th>\n",
              "      <th>due_in_date</th>\n",
              "      <th>invoice_currency</th>\n",
              "      <th>document type</th>\n",
              "      <th>posting_id</th>\n",
              "      <th>total_open_amount</th>\n",
              "      <th>baseline_create_date</th>\n",
              "      <th>cust_payment_terms</th>\n",
              "      <th>invoice_id</th>\n",
              "      <th>isOpen</th>\n",
              "      <th>business_code_str_part_U</th>\n",
              "      <th>business_code_str_part_CA</th>\n",
              "    </tr>\n",
              "  </thead>\n",
              "  <tbody>\n",
              "    <tr>\n",
              "      <th>0</th>\n",
              "      <td>1</td>\n",
              "      <td>0200331749</td>\n",
              "      <td>SYSC co</td>\n",
              "      <td>2019-11-18</td>\n",
              "      <td>2019.0</td>\n",
              "      <td>1.930087e+09</td>\n",
              "      <td>2019-11-01</td>\n",
              "      <td>2019-11-01</td>\n",
              "      <td>2019-11-16</td>\n",
              "      <td>USD</td>\n",
              "      <td>RV</td>\n",
              "      <td>1.0</td>\n",
              "      <td>43288.46</td>\n",
              "      <td>2019-11-01</td>\n",
              "      <td>NAA8</td>\n",
              "      <td>1.930087e+09</td>\n",
              "      <td>0</td>\n",
              "      <td>1.0</td>\n",
              "      <td>0.0</td>\n",
              "    </tr>\n",
              "    <tr>\n",
              "      <th>1</th>\n",
              "      <td>1</td>\n",
              "      <td>200762301</td>\n",
              "      <td>C&amp;S WH systems</td>\n",
              "      <td>2019-04-11</td>\n",
              "      <td>2019.0</td>\n",
              "      <td>1.929037e+09</td>\n",
              "      <td>2019-03-27</td>\n",
              "      <td>2019-03-28</td>\n",
              "      <td>2019-04-12</td>\n",
              "      <td>USD</td>\n",
              "      <td>RV</td>\n",
              "      <td>1.0</td>\n",
              "      <td>3783.25</td>\n",
              "      <td>2019-03-28</td>\n",
              "      <td>NAC6</td>\n",
              "      <td>1.929037e+09</td>\n",
              "      <td>0</td>\n",
              "      <td>1.0</td>\n",
              "      <td>0.0</td>\n",
              "    </tr>\n",
              "    <tr>\n",
              "      <th>2</th>\n",
              "      <td>1</td>\n",
              "      <td>0200769623</td>\n",
              "      <td>WAL-MAR llc</td>\n",
              "      <td>2019-12-18</td>\n",
              "      <td>2019.0</td>\n",
              "      <td>1.930223e+09</td>\n",
              "      <td>2019-12-06</td>\n",
              "      <td>2019-12-07</td>\n",
              "      <td>2019-12-22</td>\n",
              "      <td>USD</td>\n",
              "      <td>RV</td>\n",
              "      <td>1.0</td>\n",
              "      <td>35.28</td>\n",
              "      <td>2019-12-07</td>\n",
              "      <td>NAH4</td>\n",
              "      <td>1.930223e+09</td>\n",
              "      <td>0</td>\n",
              "      <td>1.0</td>\n",
              "      <td>0.0</td>\n",
              "    </tr>\n",
              "    <tr>\n",
              "      <th>3</th>\n",
              "      <td>1</td>\n",
              "      <td>0200769623</td>\n",
              "      <td>WAL-MAR systems</td>\n",
              "      <td>2019-08-15</td>\n",
              "      <td>2019.0</td>\n",
              "      <td>1.929703e+09</td>\n",
              "      <td>2019-08-05</td>\n",
              "      <td>2019-08-05</td>\n",
              "      <td>2019-08-20</td>\n",
              "      <td>USD</td>\n",
              "      <td>RV</td>\n",
              "      <td>1.0</td>\n",
              "      <td>471.56</td>\n",
              "      <td>2019-08-05</td>\n",
              "      <td>NAH4</td>\n",
              "      <td>1.929703e+09</td>\n",
              "      <td>0</td>\n",
              "      <td>1.0</td>\n",
              "      <td>0.0</td>\n",
              "    </tr>\n",
              "    <tr>\n",
              "      <th>4</th>\n",
              "      <td>1</td>\n",
              "      <td>0200705089</td>\n",
              "      <td>JETR in</td>\n",
              "      <td>2019-11-04</td>\n",
              "      <td>2019.0</td>\n",
              "      <td>1.930013e+09</td>\n",
              "      <td>2019-10-14</td>\n",
              "      <td>2019-10-14</td>\n",
              "      <td>2019-10-29</td>\n",
              "      <td>USD</td>\n",
              "      <td>RV</td>\n",
              "      <td>1.0</td>\n",
              "      <td>916.09</td>\n",
              "      <td>2019-10-14</td>\n",
              "      <td>NAA8</td>\n",
              "      <td>1.930013e+09</td>\n",
              "      <td>0</td>\n",
              "      <td>1.0</td>\n",
              "      <td>0.0</td>\n",
              "    </tr>\n",
              "  </tbody>\n",
              "</table>\n",
              "</div>"
            ],
            "text/plain": [
              "   business_code_int_part  ... business_code_str_part_CA\n",
              "0                       1  ...                       0.0\n",
              "1                       1  ...                       0.0\n",
              "2                       1  ...                       0.0\n",
              "3                       1  ...                       0.0\n",
              "4                       1  ...                       0.0\n",
              "\n",
              "[5 rows x 19 columns]"
            ]
          },
          "metadata": {
            "tags": []
          },
          "execution_count": 90
        }
      ]
    },
    {
      "cell_type": "code",
      "metadata": {
        "id": "S3tPKCmuDIuQ"
      },
      "source": [
        "#As my data shows most of the  transactions are done in USD so using USD as Standard mode of payment\n",
        "##2019's Average exchange rate : 1 CAD = 0.753598 USD\n",
        "#\tCanadian Dollar to US Dollar exchange rate as on Sunday 31 January 2021\tis 1 CAD = 0.78102 USD\n",
        "\n",
        "def currencyConverter(dataf):\n",
        "    #converting CAD to USD\n",
        "\n",
        "    #converting total_open_amount to USD wherever invoice_currency is 'CAD'\n",
        "    dataf.loc[dataf.loc[:, \"invoice_currency\"] == \"CAD\", \"total_open_amount\"] = dataf.loc[dataf.loc[:, \"invoice_currency\"] == \"CAD\", \"total_open_amount\"].apply(lambda x : 0.78102 * x)\n",
        "    \n",
        "    #after converting total_open_amount to USD wherever invoice_currency is 'CAD' changing the invoice_currenct to USD\n",
        "    dataf.loc[dataf.loc[:, \"invoice_currency\"] == \"CAD\", \"invoice_currency\"] = \"USD\"\n",
        "    return dataf"
      ],
      "execution_count": 91,
      "outputs": []
    },
    {
      "cell_type": "code",
      "metadata": {
        "id": "WbGcTXKVIDSW"
      },
      "source": [
        "dfTrain = currencyConverter(dfTrain.copy())\n",
        "dfTest = currencyConverter(dfTest.copy())\n",
        "dfValidation = currencyConverter(dfValidation.copy())"
      ],
      "execution_count": 92,
      "outputs": []
    },
    {
      "cell_type": "code",
      "metadata": {
        "colab": {
          "base_uri": "https://localhost:8080/"
        },
        "id": "WMwXZVVSIwFG",
        "outputId": "2539b54a-f2e8-4f8c-e0bc-2b9049ee94e7"
      },
      "source": [
        "dfTrain.invoice_currency.unique(), dfTest.invoice_currency.unique(), dfValidation.invoice_currency.unique()\n",
        "#constant feature"
      ],
      "execution_count": 93,
      "outputs": [
        {
          "output_type": "execute_result",
          "data": {
            "text/plain": [
              "(array(['USD'], dtype=object),\n",
              " array(['USD'], dtype=object),\n",
              " array(['USD'], dtype=object))"
            ]
          },
          "metadata": {
            "tags": []
          },
          "execution_count": 93
        }
      ]
    },
    {
      "cell_type": "code",
      "metadata": {
        "colab": {
          "base_uri": "https://localhost:8080/",
          "height": 0
        },
        "id": "Fq43M19ZIybZ",
        "outputId": "b89173ef-73e0-40f2-ef31-d76cfbee48b9"
      },
      "source": [
        "dfTrain.head()"
      ],
      "execution_count": 94,
      "outputs": [
        {
          "output_type": "execute_result",
          "data": {
            "text/html": [
              "<div>\n",
              "<style scoped>\n",
              "    .dataframe tbody tr th:only-of-type {\n",
              "        vertical-align: middle;\n",
              "    }\n",
              "\n",
              "    .dataframe tbody tr th {\n",
              "        vertical-align: top;\n",
              "    }\n",
              "\n",
              "    .dataframe thead th {\n",
              "        text-align: right;\n",
              "    }\n",
              "</style>\n",
              "<table border=\"1\" class=\"dataframe\">\n",
              "  <thead>\n",
              "    <tr style=\"text-align: right;\">\n",
              "      <th></th>\n",
              "      <th>business_code_int_part</th>\n",
              "      <th>cust_number</th>\n",
              "      <th>name_customer</th>\n",
              "      <th>clear_date</th>\n",
              "      <th>buisness_year</th>\n",
              "      <th>doc_id</th>\n",
              "      <th>document_create_date</th>\n",
              "      <th>document_create_date.1</th>\n",
              "      <th>due_in_date</th>\n",
              "      <th>invoice_currency</th>\n",
              "      <th>document type</th>\n",
              "      <th>posting_id</th>\n",
              "      <th>total_open_amount</th>\n",
              "      <th>baseline_create_date</th>\n",
              "      <th>cust_payment_terms</th>\n",
              "      <th>invoice_id</th>\n",
              "      <th>isOpen</th>\n",
              "      <th>business_code_str_part_U</th>\n",
              "      <th>business_code_str_part_CA</th>\n",
              "    </tr>\n",
              "  </thead>\n",
              "  <tbody>\n",
              "    <tr>\n",
              "      <th>0</th>\n",
              "      <td>1</td>\n",
              "      <td>0200331749</td>\n",
              "      <td>SYSC co</td>\n",
              "      <td>2019-11-18</td>\n",
              "      <td>2019.0</td>\n",
              "      <td>1.930087e+09</td>\n",
              "      <td>2019-11-01</td>\n",
              "      <td>2019-11-01</td>\n",
              "      <td>2019-11-16</td>\n",
              "      <td>USD</td>\n",
              "      <td>RV</td>\n",
              "      <td>1.0</td>\n",
              "      <td>43288.46</td>\n",
              "      <td>2019-11-01</td>\n",
              "      <td>NAA8</td>\n",
              "      <td>1.930087e+09</td>\n",
              "      <td>0</td>\n",
              "      <td>1.0</td>\n",
              "      <td>0.0</td>\n",
              "    </tr>\n",
              "    <tr>\n",
              "      <th>1</th>\n",
              "      <td>1</td>\n",
              "      <td>200762301</td>\n",
              "      <td>C&amp;S WH systems</td>\n",
              "      <td>2019-04-11</td>\n",
              "      <td>2019.0</td>\n",
              "      <td>1.929037e+09</td>\n",
              "      <td>2019-03-27</td>\n",
              "      <td>2019-03-28</td>\n",
              "      <td>2019-04-12</td>\n",
              "      <td>USD</td>\n",
              "      <td>RV</td>\n",
              "      <td>1.0</td>\n",
              "      <td>3783.25</td>\n",
              "      <td>2019-03-28</td>\n",
              "      <td>NAC6</td>\n",
              "      <td>1.929037e+09</td>\n",
              "      <td>0</td>\n",
              "      <td>1.0</td>\n",
              "      <td>0.0</td>\n",
              "    </tr>\n",
              "    <tr>\n",
              "      <th>2</th>\n",
              "      <td>1</td>\n",
              "      <td>0200769623</td>\n",
              "      <td>WAL-MAR llc</td>\n",
              "      <td>2019-12-18</td>\n",
              "      <td>2019.0</td>\n",
              "      <td>1.930223e+09</td>\n",
              "      <td>2019-12-06</td>\n",
              "      <td>2019-12-07</td>\n",
              "      <td>2019-12-22</td>\n",
              "      <td>USD</td>\n",
              "      <td>RV</td>\n",
              "      <td>1.0</td>\n",
              "      <td>35.28</td>\n",
              "      <td>2019-12-07</td>\n",
              "      <td>NAH4</td>\n",
              "      <td>1.930223e+09</td>\n",
              "      <td>0</td>\n",
              "      <td>1.0</td>\n",
              "      <td>0.0</td>\n",
              "    </tr>\n",
              "    <tr>\n",
              "      <th>3</th>\n",
              "      <td>1</td>\n",
              "      <td>0200769623</td>\n",
              "      <td>WAL-MAR systems</td>\n",
              "      <td>2019-08-15</td>\n",
              "      <td>2019.0</td>\n",
              "      <td>1.929703e+09</td>\n",
              "      <td>2019-08-05</td>\n",
              "      <td>2019-08-05</td>\n",
              "      <td>2019-08-20</td>\n",
              "      <td>USD</td>\n",
              "      <td>RV</td>\n",
              "      <td>1.0</td>\n",
              "      <td>471.56</td>\n",
              "      <td>2019-08-05</td>\n",
              "      <td>NAH4</td>\n",
              "      <td>1.929703e+09</td>\n",
              "      <td>0</td>\n",
              "      <td>1.0</td>\n",
              "      <td>0.0</td>\n",
              "    </tr>\n",
              "    <tr>\n",
              "      <th>4</th>\n",
              "      <td>1</td>\n",
              "      <td>0200705089</td>\n",
              "      <td>JETR in</td>\n",
              "      <td>2019-11-04</td>\n",
              "      <td>2019.0</td>\n",
              "      <td>1.930013e+09</td>\n",
              "      <td>2019-10-14</td>\n",
              "      <td>2019-10-14</td>\n",
              "      <td>2019-10-29</td>\n",
              "      <td>USD</td>\n",
              "      <td>RV</td>\n",
              "      <td>1.0</td>\n",
              "      <td>916.09</td>\n",
              "      <td>2019-10-14</td>\n",
              "      <td>NAA8</td>\n",
              "      <td>1.930013e+09</td>\n",
              "      <td>0</td>\n",
              "      <td>1.0</td>\n",
              "      <td>0.0</td>\n",
              "    </tr>\n",
              "  </tbody>\n",
              "</table>\n",
              "</div>"
            ],
            "text/plain": [
              "   business_code_int_part  ... business_code_str_part_CA\n",
              "0                       1  ...                       0.0\n",
              "1                       1  ...                       0.0\n",
              "2                       1  ...                       0.0\n",
              "3                       1  ...                       0.0\n",
              "4                       1  ...                       0.0\n",
              "\n",
              "[5 rows x 19 columns]"
            ]
          },
          "metadata": {
            "tags": []
          },
          "execution_count": 94
        }
      ]
    },
    {
      "cell_type": "markdown",
      "metadata": {
        "id": "a-tlTODtjAXQ"
      },
      "source": [
        "######*Mean Encoding cust_payment_terms*"
      ]
    },
    {
      "cell_type": "code",
      "metadata": {
        "colab": {
          "base_uri": "https://localhost:8080/"
        },
        "id": "GXOwhEHZjFxy",
        "outputId": "6d39bbf2-59f5-466d-b582-c50026f79a02"
      },
      "source": [
        "#creating a mapper function to map \"cust_payment_terms\" column's values to respective mean\n",
        "temp = dfTrain[[\"cust_payment_terms\", \"total_open_amount\"]]\n",
        "meanMapper = temp.groupby(\"cust_payment_terms\")[\"total_open_amount\"].mean().to_dict()\n",
        "print(meanMapper)\n",
        "meanMapper = {key : round(value, 2) for key, value in meanMapper.items()}\n",
        "print(meanMapper)\n",
        "\n",
        "#meanMapper is the mapper dictionary"
      ],
      "execution_count": 95,
      "outputs": [
        {
          "output_type": "stream",
          "text": [
            "{'90M7': 70931.11666666667, 'B052': 38817.822, 'BR12': 73415.875, 'BR56': 33565.505, 'C106': 30120.400909090906, 'CA10': 44916.451880439075, 'CA30': 52309.35882755001, 'CA60': 3443.7436758000003, 'CAB1': 10895.2237932, 'CAX2': 16.5420036, 'NA10': 31291.23155313354, 'NA24': 1028.5, 'NA25': 16508.0, 'NA31': 758.4, 'NA32': 21873.332252836302, 'NA38': 52327.04545454547, 'NA3B': 20729.708048780492, 'NA3F': 20139.48363636364, 'NA84': 27407.58846153846, 'NA8Q': 38955.7, 'NA9X': 13194.123749999999, 'NAA8': 37265.08281363655, 'NAAW': 17705.248763440857, 'NAAX': 24099.20664202745, 'NAB1': 22062.163888888885, 'NABD': 42411.6, 'NABG': 37883.2611627907, 'NAC6': 51880.0330498084, 'NACB': 23348.38, 'NAD1': 22804.96272490221, 'NAD4': 38069.405294117634, 'NAD5': 41546.3288554217, 'NAD8': 81929.31666666667, 'NAG2': 24215.45618116923, 'NAGD': 13934.454912587418, 'NAH4': 23476.073256231193, 'NAM1': 15698.671679999996, 'NAM2': 13964.586845794393, 'NAM3': 253.696, 'NAM4': 3077.49669084316, 'NANC': 26323.58, 'NATJ': 12762.07, 'NATK': 20676.89, 'NATL': 15442.269999999999, 'NATM': 4386.34, 'NATU': 13504.0, 'NATV': 5452.27, 'NATW': 9834.22, 'NATX': 759.75, 'NATZ': 6833.446666666667, 'NAU5': 46113.37477306001, 'NAUI': 50856.619999999995, 'NAUP': 14118.299999999997, 'NAUX': 43751.16, 'NAUZ': 24036.421206896543, 'NAV2': 142727.74, 'NAV9': 20306.750000000004, 'NAVC': 30544.666666666668, 'NAVD': 12403.189, 'NAVE': 22559.1170682731, 'NAVF': 21600.27693333333, 'NAVL': 4076.842857142857, 'NAVM': 39779.40636363637, 'NAVQ': 37538.11294736843, 'NAVR': 4183.072972972974, 'NAWM': 1527.09, 'NAWN': 5396.248545454548, 'NAWP': 94375.91298507461, 'NAWU': 15762.60705882353, 'NAX2': 14585.162660821752}\n",
            "{'90M7': 70931.12, 'B052': 38817.82, 'BR12': 73415.88, 'BR56': 33565.5, 'C106': 30120.4, 'CA10': 44916.45, 'CA30': 52309.36, 'CA60': 3443.74, 'CAB1': 10895.22, 'CAX2': 16.54, 'NA10': 31291.23, 'NA24': 1028.5, 'NA25': 16508.0, 'NA31': 758.4, 'NA32': 21873.33, 'NA38': 52327.05, 'NA3B': 20729.71, 'NA3F': 20139.48, 'NA84': 27407.59, 'NA8Q': 38955.7, 'NA9X': 13194.12, 'NAA8': 37265.08, 'NAAW': 17705.25, 'NAAX': 24099.21, 'NAB1': 22062.16, 'NABD': 42411.6, 'NABG': 37883.26, 'NAC6': 51880.03, 'NACB': 23348.38, 'NAD1': 22804.96, 'NAD4': 38069.41, 'NAD5': 41546.33, 'NAD8': 81929.32, 'NAG2': 24215.46, 'NAGD': 13934.45, 'NAH4': 23476.07, 'NAM1': 15698.67, 'NAM2': 13964.59, 'NAM3': 253.7, 'NAM4': 3077.5, 'NANC': 26323.58, 'NATJ': 12762.07, 'NATK': 20676.89, 'NATL': 15442.27, 'NATM': 4386.34, 'NATU': 13504.0, 'NATV': 5452.27, 'NATW': 9834.22, 'NATX': 759.75, 'NATZ': 6833.45, 'NAU5': 46113.37, 'NAUI': 50856.62, 'NAUP': 14118.3, 'NAUX': 43751.16, 'NAUZ': 24036.42, 'NAV2': 142727.74, 'NAV9': 20306.75, 'NAVC': 30544.67, 'NAVD': 12403.19, 'NAVE': 22559.12, 'NAVF': 21600.28, 'NAVL': 4076.84, 'NAVM': 39779.41, 'NAVQ': 37538.11, 'NAVR': 4183.07, 'NAWM': 1527.09, 'NAWN': 5396.25, 'NAWP': 94375.91, 'NAWU': 15762.61, 'NAX2': 14585.16}\n"
          ],
          "name": "stdout"
        }
      ]
    },
    {
      "cell_type": "code",
      "metadata": {
        "id": "so-0CDf_jNIr"
      },
      "source": [
        "def meanEncoding(dataf):\n",
        "    dataf.loc[:, \"cust_payment_terms\"] = dataf.loc[:, \"cust_payment_terms\"].map(lambda x : meanMapper.get(x, 0))\n",
        "    return dataf.copy()\n"
      ],
      "execution_count": 96,
      "outputs": []
    },
    {
      "cell_type": "code",
      "metadata": {
        "id": "qi9iwyImjUHM"
      },
      "source": [
        "dfTrain = meanEncoding(dfTrain)\n",
        "dfTest = meanEncoding(dfTest)\n",
        "dfValidation = meanEncoding(dfValidation)\n",
        "\n",
        "#mean encoding the cust_payment_terms"
      ],
      "execution_count": 97,
      "outputs": []
    },
    {
      "cell_type": "code",
      "metadata": {
        "colab": {
          "base_uri": "https://localhost:8080/",
          "height": 0
        },
        "id": "atwwBNvCjSB-",
        "outputId": "e7d9d44a-bab8-45fd-a38a-5ade3ae022ba"
      },
      "source": [
        "pd.set_option('display.max_columns', None)\n",
        "\n",
        "dfTrain.head()"
      ],
      "execution_count": 98,
      "outputs": [
        {
          "output_type": "execute_result",
          "data": {
            "text/html": [
              "<div>\n",
              "<style scoped>\n",
              "    .dataframe tbody tr th:only-of-type {\n",
              "        vertical-align: middle;\n",
              "    }\n",
              "\n",
              "    .dataframe tbody tr th {\n",
              "        vertical-align: top;\n",
              "    }\n",
              "\n",
              "    .dataframe thead th {\n",
              "        text-align: right;\n",
              "    }\n",
              "</style>\n",
              "<table border=\"1\" class=\"dataframe\">\n",
              "  <thead>\n",
              "    <tr style=\"text-align: right;\">\n",
              "      <th></th>\n",
              "      <th>business_code_int_part</th>\n",
              "      <th>cust_number</th>\n",
              "      <th>name_customer</th>\n",
              "      <th>clear_date</th>\n",
              "      <th>buisness_year</th>\n",
              "      <th>doc_id</th>\n",
              "      <th>document_create_date</th>\n",
              "      <th>document_create_date.1</th>\n",
              "      <th>due_in_date</th>\n",
              "      <th>invoice_currency</th>\n",
              "      <th>document type</th>\n",
              "      <th>posting_id</th>\n",
              "      <th>total_open_amount</th>\n",
              "      <th>baseline_create_date</th>\n",
              "      <th>cust_payment_terms</th>\n",
              "      <th>invoice_id</th>\n",
              "      <th>isOpen</th>\n",
              "      <th>business_code_str_part_U</th>\n",
              "      <th>business_code_str_part_CA</th>\n",
              "    </tr>\n",
              "  </thead>\n",
              "  <tbody>\n",
              "    <tr>\n",
              "      <th>0</th>\n",
              "      <td>1</td>\n",
              "      <td>0200331749</td>\n",
              "      <td>SYSC co</td>\n",
              "      <td>2019-11-18</td>\n",
              "      <td>2019.0</td>\n",
              "      <td>1.930087e+09</td>\n",
              "      <td>2019-11-01</td>\n",
              "      <td>2019-11-01</td>\n",
              "      <td>2019-11-16</td>\n",
              "      <td>USD</td>\n",
              "      <td>RV</td>\n",
              "      <td>1.0</td>\n",
              "      <td>43288.46</td>\n",
              "      <td>2019-11-01</td>\n",
              "      <td>37265.08</td>\n",
              "      <td>1.930087e+09</td>\n",
              "      <td>0</td>\n",
              "      <td>1.0</td>\n",
              "      <td>0.0</td>\n",
              "    </tr>\n",
              "    <tr>\n",
              "      <th>1</th>\n",
              "      <td>1</td>\n",
              "      <td>200762301</td>\n",
              "      <td>C&amp;S WH systems</td>\n",
              "      <td>2019-04-11</td>\n",
              "      <td>2019.0</td>\n",
              "      <td>1.929037e+09</td>\n",
              "      <td>2019-03-27</td>\n",
              "      <td>2019-03-28</td>\n",
              "      <td>2019-04-12</td>\n",
              "      <td>USD</td>\n",
              "      <td>RV</td>\n",
              "      <td>1.0</td>\n",
              "      <td>3783.25</td>\n",
              "      <td>2019-03-28</td>\n",
              "      <td>51880.03</td>\n",
              "      <td>1.929037e+09</td>\n",
              "      <td>0</td>\n",
              "      <td>1.0</td>\n",
              "      <td>0.0</td>\n",
              "    </tr>\n",
              "    <tr>\n",
              "      <th>2</th>\n",
              "      <td>1</td>\n",
              "      <td>0200769623</td>\n",
              "      <td>WAL-MAR llc</td>\n",
              "      <td>2019-12-18</td>\n",
              "      <td>2019.0</td>\n",
              "      <td>1.930223e+09</td>\n",
              "      <td>2019-12-06</td>\n",
              "      <td>2019-12-07</td>\n",
              "      <td>2019-12-22</td>\n",
              "      <td>USD</td>\n",
              "      <td>RV</td>\n",
              "      <td>1.0</td>\n",
              "      <td>35.28</td>\n",
              "      <td>2019-12-07</td>\n",
              "      <td>23476.07</td>\n",
              "      <td>1.930223e+09</td>\n",
              "      <td>0</td>\n",
              "      <td>1.0</td>\n",
              "      <td>0.0</td>\n",
              "    </tr>\n",
              "    <tr>\n",
              "      <th>3</th>\n",
              "      <td>1</td>\n",
              "      <td>0200769623</td>\n",
              "      <td>WAL-MAR systems</td>\n",
              "      <td>2019-08-15</td>\n",
              "      <td>2019.0</td>\n",
              "      <td>1.929703e+09</td>\n",
              "      <td>2019-08-05</td>\n",
              "      <td>2019-08-05</td>\n",
              "      <td>2019-08-20</td>\n",
              "      <td>USD</td>\n",
              "      <td>RV</td>\n",
              "      <td>1.0</td>\n",
              "      <td>471.56</td>\n",
              "      <td>2019-08-05</td>\n",
              "      <td>23476.07</td>\n",
              "      <td>1.929703e+09</td>\n",
              "      <td>0</td>\n",
              "      <td>1.0</td>\n",
              "      <td>0.0</td>\n",
              "    </tr>\n",
              "    <tr>\n",
              "      <th>4</th>\n",
              "      <td>1</td>\n",
              "      <td>0200705089</td>\n",
              "      <td>JETR in</td>\n",
              "      <td>2019-11-04</td>\n",
              "      <td>2019.0</td>\n",
              "      <td>1.930013e+09</td>\n",
              "      <td>2019-10-14</td>\n",
              "      <td>2019-10-14</td>\n",
              "      <td>2019-10-29</td>\n",
              "      <td>USD</td>\n",
              "      <td>RV</td>\n",
              "      <td>1.0</td>\n",
              "      <td>916.09</td>\n",
              "      <td>2019-10-14</td>\n",
              "      <td>37265.08</td>\n",
              "      <td>1.930013e+09</td>\n",
              "      <td>0</td>\n",
              "      <td>1.0</td>\n",
              "      <td>0.0</td>\n",
              "    </tr>\n",
              "  </tbody>\n",
              "</table>\n",
              "</div>"
            ],
            "text/plain": [
              "   business_code_int_part cust_number    name_customer clear_date  \\\n",
              "0                       1  0200331749          SYSC co 2019-11-18   \n",
              "1                       1   200762301   C&S WH systems 2019-04-11   \n",
              "2                       1  0200769623      WAL-MAR llc 2019-12-18   \n",
              "3                       1  0200769623  WAL-MAR systems 2019-08-15   \n",
              "4                       1  0200705089          JETR in 2019-11-04   \n",
              "\n",
              "   buisness_year        doc_id document_create_date document_create_date.1  \\\n",
              "0         2019.0  1.930087e+09           2019-11-01             2019-11-01   \n",
              "1         2019.0  1.929037e+09           2019-03-27             2019-03-28   \n",
              "2         2019.0  1.930223e+09           2019-12-06             2019-12-07   \n",
              "3         2019.0  1.929703e+09           2019-08-05             2019-08-05   \n",
              "4         2019.0  1.930013e+09           2019-10-14             2019-10-14   \n",
              "\n",
              "  due_in_date invoice_currency document type  posting_id  total_open_amount  \\\n",
              "0  2019-11-16              USD            RV         1.0           43288.46   \n",
              "1  2019-04-12              USD            RV         1.0            3783.25   \n",
              "2  2019-12-22              USD            RV         1.0              35.28   \n",
              "3  2019-08-20              USD            RV         1.0             471.56   \n",
              "4  2019-10-29              USD            RV         1.0             916.09   \n",
              "\n",
              "  baseline_create_date  cust_payment_terms    invoice_id  isOpen  \\\n",
              "0           2019-11-01            37265.08  1.930087e+09       0   \n",
              "1           2019-03-28            51880.03  1.929037e+09       0   \n",
              "2           2019-12-07            23476.07  1.930223e+09       0   \n",
              "3           2019-08-05            23476.07  1.929703e+09       0   \n",
              "4           2019-10-14            37265.08  1.930013e+09       0   \n",
              "\n",
              "   business_code_str_part_U  business_code_str_part_CA  \n",
              "0                       1.0                        0.0  \n",
              "1                       1.0                        0.0  \n",
              "2                       1.0                        0.0  \n",
              "3                       1.0                        0.0  \n",
              "4                       1.0                        0.0  "
            ]
          },
          "metadata": {
            "tags": []
          },
          "execution_count": 98
        }
      ]
    },
    {
      "cell_type": "code",
      "metadata": {
        "colab": {
          "base_uri": "https://localhost:8080/"
        },
        "id": "mHHHrbwkkHyL",
        "outputId": "ffa0ef69-e5ba-4bfc-d89c-c11f0fea6a0c"
      },
      "source": [
        "dfTrain.shape"
      ],
      "execution_count": 99,
      "outputs": [
        {
          "output_type": "execute_result",
          "data": {
            "text/plain": [
              "(39863, 19)"
            ]
          },
          "metadata": {
            "tags": []
          },
          "execution_count": 99
        }
      ]
    },
    {
      "cell_type": "markdown",
      "metadata": {
        "id": "_UL3WXevvqZj"
      },
      "source": [
        "######*document type*"
      ]
    },
    {
      "cell_type": "code",
      "metadata": {
        "colab": {
          "base_uri": "https://localhost:8080/"
        },
        "id": "x0K-F3L_wNgz",
        "outputId": "280a15c6-4d18-4fd4-da72-d2b0d4785c02"
      },
      "source": [
        "temp = dfTrain.copy()\n",
        "temp[\"document type\"].unique()\n",
        "#constant feature as far as train dataset is considered"
      ],
      "execution_count": 100,
      "outputs": [
        {
          "output_type": "execute_result",
          "data": {
            "text/plain": [
              "array(['RV'], dtype=object)"
            ]
          },
          "metadata": {
            "tags": []
          },
          "execution_count": 100
        }
      ]
    },
    {
      "cell_type": "markdown",
      "metadata": {
        "id": "dPwGUXvL1GcU"
      },
      "source": [
        "#**EDA**  ( continued )"
      ]
    },
    {
      "cell_type": "code",
      "metadata": {
        "colab": {
          "base_uri": "https://localhost:8080/",
          "height": 0
        },
        "id": "nSASpDHH1TP3",
        "outputId": "497220cf-c88b-4095-aac6-7477de096f27"
      },
      "source": [
        "dfTrain.head()"
      ],
      "execution_count": 101,
      "outputs": [
        {
          "output_type": "execute_result",
          "data": {
            "text/html": [
              "<div>\n",
              "<style scoped>\n",
              "    .dataframe tbody tr th:only-of-type {\n",
              "        vertical-align: middle;\n",
              "    }\n",
              "\n",
              "    .dataframe tbody tr th {\n",
              "        vertical-align: top;\n",
              "    }\n",
              "\n",
              "    .dataframe thead th {\n",
              "        text-align: right;\n",
              "    }\n",
              "</style>\n",
              "<table border=\"1\" class=\"dataframe\">\n",
              "  <thead>\n",
              "    <tr style=\"text-align: right;\">\n",
              "      <th></th>\n",
              "      <th>business_code_int_part</th>\n",
              "      <th>cust_number</th>\n",
              "      <th>name_customer</th>\n",
              "      <th>clear_date</th>\n",
              "      <th>buisness_year</th>\n",
              "      <th>doc_id</th>\n",
              "      <th>document_create_date</th>\n",
              "      <th>document_create_date.1</th>\n",
              "      <th>due_in_date</th>\n",
              "      <th>invoice_currency</th>\n",
              "      <th>document type</th>\n",
              "      <th>posting_id</th>\n",
              "      <th>total_open_amount</th>\n",
              "      <th>baseline_create_date</th>\n",
              "      <th>cust_payment_terms</th>\n",
              "      <th>invoice_id</th>\n",
              "      <th>isOpen</th>\n",
              "      <th>business_code_str_part_U</th>\n",
              "      <th>business_code_str_part_CA</th>\n",
              "    </tr>\n",
              "  </thead>\n",
              "  <tbody>\n",
              "    <tr>\n",
              "      <th>0</th>\n",
              "      <td>1</td>\n",
              "      <td>0200331749</td>\n",
              "      <td>SYSC co</td>\n",
              "      <td>2019-11-18</td>\n",
              "      <td>2019.0</td>\n",
              "      <td>1.930087e+09</td>\n",
              "      <td>2019-11-01</td>\n",
              "      <td>2019-11-01</td>\n",
              "      <td>2019-11-16</td>\n",
              "      <td>USD</td>\n",
              "      <td>RV</td>\n",
              "      <td>1.0</td>\n",
              "      <td>43288.46</td>\n",
              "      <td>2019-11-01</td>\n",
              "      <td>37265.08</td>\n",
              "      <td>1.930087e+09</td>\n",
              "      <td>0</td>\n",
              "      <td>1.0</td>\n",
              "      <td>0.0</td>\n",
              "    </tr>\n",
              "    <tr>\n",
              "      <th>1</th>\n",
              "      <td>1</td>\n",
              "      <td>200762301</td>\n",
              "      <td>C&amp;S WH systems</td>\n",
              "      <td>2019-04-11</td>\n",
              "      <td>2019.0</td>\n",
              "      <td>1.929037e+09</td>\n",
              "      <td>2019-03-27</td>\n",
              "      <td>2019-03-28</td>\n",
              "      <td>2019-04-12</td>\n",
              "      <td>USD</td>\n",
              "      <td>RV</td>\n",
              "      <td>1.0</td>\n",
              "      <td>3783.25</td>\n",
              "      <td>2019-03-28</td>\n",
              "      <td>51880.03</td>\n",
              "      <td>1.929037e+09</td>\n",
              "      <td>0</td>\n",
              "      <td>1.0</td>\n",
              "      <td>0.0</td>\n",
              "    </tr>\n",
              "    <tr>\n",
              "      <th>2</th>\n",
              "      <td>1</td>\n",
              "      <td>0200769623</td>\n",
              "      <td>WAL-MAR llc</td>\n",
              "      <td>2019-12-18</td>\n",
              "      <td>2019.0</td>\n",
              "      <td>1.930223e+09</td>\n",
              "      <td>2019-12-06</td>\n",
              "      <td>2019-12-07</td>\n",
              "      <td>2019-12-22</td>\n",
              "      <td>USD</td>\n",
              "      <td>RV</td>\n",
              "      <td>1.0</td>\n",
              "      <td>35.28</td>\n",
              "      <td>2019-12-07</td>\n",
              "      <td>23476.07</td>\n",
              "      <td>1.930223e+09</td>\n",
              "      <td>0</td>\n",
              "      <td>1.0</td>\n",
              "      <td>0.0</td>\n",
              "    </tr>\n",
              "    <tr>\n",
              "      <th>3</th>\n",
              "      <td>1</td>\n",
              "      <td>0200769623</td>\n",
              "      <td>WAL-MAR systems</td>\n",
              "      <td>2019-08-15</td>\n",
              "      <td>2019.0</td>\n",
              "      <td>1.929703e+09</td>\n",
              "      <td>2019-08-05</td>\n",
              "      <td>2019-08-05</td>\n",
              "      <td>2019-08-20</td>\n",
              "      <td>USD</td>\n",
              "      <td>RV</td>\n",
              "      <td>1.0</td>\n",
              "      <td>471.56</td>\n",
              "      <td>2019-08-05</td>\n",
              "      <td>23476.07</td>\n",
              "      <td>1.929703e+09</td>\n",
              "      <td>0</td>\n",
              "      <td>1.0</td>\n",
              "      <td>0.0</td>\n",
              "    </tr>\n",
              "    <tr>\n",
              "      <th>4</th>\n",
              "      <td>1</td>\n",
              "      <td>0200705089</td>\n",
              "      <td>JETR in</td>\n",
              "      <td>2019-11-04</td>\n",
              "      <td>2019.0</td>\n",
              "      <td>1.930013e+09</td>\n",
              "      <td>2019-10-14</td>\n",
              "      <td>2019-10-14</td>\n",
              "      <td>2019-10-29</td>\n",
              "      <td>USD</td>\n",
              "      <td>RV</td>\n",
              "      <td>1.0</td>\n",
              "      <td>916.09</td>\n",
              "      <td>2019-10-14</td>\n",
              "      <td>37265.08</td>\n",
              "      <td>1.930013e+09</td>\n",
              "      <td>0</td>\n",
              "      <td>1.0</td>\n",
              "      <td>0.0</td>\n",
              "    </tr>\n",
              "  </tbody>\n",
              "</table>\n",
              "</div>"
            ],
            "text/plain": [
              "   business_code_int_part cust_number    name_customer clear_date  \\\n",
              "0                       1  0200331749          SYSC co 2019-11-18   \n",
              "1                       1   200762301   C&S WH systems 2019-04-11   \n",
              "2                       1  0200769623      WAL-MAR llc 2019-12-18   \n",
              "3                       1  0200769623  WAL-MAR systems 2019-08-15   \n",
              "4                       1  0200705089          JETR in 2019-11-04   \n",
              "\n",
              "   buisness_year        doc_id document_create_date document_create_date.1  \\\n",
              "0         2019.0  1.930087e+09           2019-11-01             2019-11-01   \n",
              "1         2019.0  1.929037e+09           2019-03-27             2019-03-28   \n",
              "2         2019.0  1.930223e+09           2019-12-06             2019-12-07   \n",
              "3         2019.0  1.929703e+09           2019-08-05             2019-08-05   \n",
              "4         2019.0  1.930013e+09           2019-10-14             2019-10-14   \n",
              "\n",
              "  due_in_date invoice_currency document type  posting_id  total_open_amount  \\\n",
              "0  2019-11-16              USD            RV         1.0           43288.46   \n",
              "1  2019-04-12              USD            RV         1.0            3783.25   \n",
              "2  2019-12-22              USD            RV         1.0              35.28   \n",
              "3  2019-08-20              USD            RV         1.0             471.56   \n",
              "4  2019-10-29              USD            RV         1.0             916.09   \n",
              "\n",
              "  baseline_create_date  cust_payment_terms    invoice_id  isOpen  \\\n",
              "0           2019-11-01            37265.08  1.930087e+09       0   \n",
              "1           2019-03-28            51880.03  1.929037e+09       0   \n",
              "2           2019-12-07            23476.07  1.930223e+09       0   \n",
              "3           2019-08-05            23476.07  1.929703e+09       0   \n",
              "4           2019-10-14            37265.08  1.930013e+09       0   \n",
              "\n",
              "   business_code_str_part_U  business_code_str_part_CA  \n",
              "0                       1.0                        0.0  \n",
              "1                       1.0                        0.0  \n",
              "2                       1.0                        0.0  \n",
              "3                       1.0                        0.0  \n",
              "4                       1.0                        0.0  "
            ]
          },
          "metadata": {
            "tags": []
          },
          "execution_count": 101
        }
      ]
    },
    {
      "cell_type": "code",
      "metadata": {
        "colab": {
          "base_uri": "https://localhost:8080/",
          "height": 0
        },
        "id": "SUzUuaEd1efX",
        "outputId": "2806dc3e-ce34-4626-bde0-48f2fd48be25"
      },
      "source": [
        "temp=dfTrain.copy()\n",
        "temp.describe()"
      ],
      "execution_count": 102,
      "outputs": [
        {
          "output_type": "execute_result",
          "data": {
            "text/html": [
              "<div>\n",
              "<style scoped>\n",
              "    .dataframe tbody tr th:only-of-type {\n",
              "        vertical-align: middle;\n",
              "    }\n",
              "\n",
              "    .dataframe tbody tr th {\n",
              "        vertical-align: top;\n",
              "    }\n",
              "\n",
              "    .dataframe thead th {\n",
              "        text-align: right;\n",
              "    }\n",
              "</style>\n",
              "<table border=\"1\" class=\"dataframe\">\n",
              "  <thead>\n",
              "    <tr style=\"text-align: right;\">\n",
              "      <th></th>\n",
              "      <th>business_code_int_part</th>\n",
              "      <th>buisness_year</th>\n",
              "      <th>doc_id</th>\n",
              "      <th>posting_id</th>\n",
              "      <th>total_open_amount</th>\n",
              "      <th>cust_payment_terms</th>\n",
              "      <th>invoice_id</th>\n",
              "      <th>isOpen</th>\n",
              "      <th>business_code_str_part_U</th>\n",
              "      <th>business_code_str_part_CA</th>\n",
              "    </tr>\n",
              "  </thead>\n",
              "  <tbody>\n",
              "    <tr>\n",
              "      <th>count</th>\n",
              "      <td>39863.000000</td>\n",
              "      <td>39863.000000</td>\n",
              "      <td>3.986300e+04</td>\n",
              "      <td>39863.0</td>\n",
              "      <td>39863.000000</td>\n",
              "      <td>39863.000000</td>\n",
              "      <td>3.986300e+04</td>\n",
              "      <td>39863.0</td>\n",
              "      <td>39863.000000</td>\n",
              "      <td>39863.000000</td>\n",
              "    </tr>\n",
              "    <tr>\n",
              "      <th>mean</th>\n",
              "      <td>1.250960</td>\n",
              "      <td>2019.131601</td>\n",
              "      <td>2.011436e+09</td>\n",
              "      <td>1.0</td>\n",
              "      <td>31276.699888</td>\n",
              "      <td>31276.697685</td>\n",
              "      <td>2.011436e+09</td>\n",
              "      <td>0.0</td>\n",
              "      <td>0.921657</td>\n",
              "      <td>0.078343</td>\n",
              "    </tr>\n",
              "    <tr>\n",
              "      <th>std</th>\n",
              "      <td>1.428645</td>\n",
              "      <td>0.338060</td>\n",
              "      <td>2.768420e+08</td>\n",
              "      <td>0.0</td>\n",
              "      <td>37317.456044</td>\n",
              "      <td>10886.046500</td>\n",
              "      <td>2.768420e+08</td>\n",
              "      <td>0.0</td>\n",
              "      <td>0.268714</td>\n",
              "      <td>0.268714</td>\n",
              "    </tr>\n",
              "    <tr>\n",
              "      <th>min</th>\n",
              "      <td>1.000000</td>\n",
              "      <td>2019.000000</td>\n",
              "      <td>1.928502e+09</td>\n",
              "      <td>1.0</td>\n",
              "      <td>0.530000</td>\n",
              "      <td>16.540000</td>\n",
              "      <td>1.928502e+09</td>\n",
              "      <td>0.0</td>\n",
              "      <td>0.000000</td>\n",
              "      <td>0.000000</td>\n",
              "    </tr>\n",
              "    <tr>\n",
              "      <th>25%</th>\n",
              "      <td>1.000000</td>\n",
              "      <td>2019.000000</td>\n",
              "      <td>1.929178e+09</td>\n",
              "      <td>1.0</td>\n",
              "      <td>4793.430000</td>\n",
              "      <td>23476.070000</td>\n",
              "      <td>1.929178e+09</td>\n",
              "      <td>0.0</td>\n",
              "      <td>1.000000</td>\n",
              "      <td>0.000000</td>\n",
              "    </tr>\n",
              "    <tr>\n",
              "      <th>50%</th>\n",
              "      <td>1.000000</td>\n",
              "      <td>2019.000000</td>\n",
              "      <td>1.929733e+09</td>\n",
              "      <td>1.0</td>\n",
              "      <td>17132.800000</td>\n",
              "      <td>37265.080000</td>\n",
              "      <td>1.929733e+09</td>\n",
              "      <td>0.0</td>\n",
              "      <td>1.000000</td>\n",
              "      <td>0.000000</td>\n",
              "    </tr>\n",
              "    <tr>\n",
              "      <th>75%</th>\n",
              "      <td>1.000000</td>\n",
              "      <td>2019.000000</td>\n",
              "      <td>1.930208e+09</td>\n",
              "      <td>1.0</td>\n",
              "      <td>45958.410000</td>\n",
              "      <td>37265.080000</td>\n",
              "      <td>1.930208e+09</td>\n",
              "      <td>0.0</td>\n",
              "      <td>1.000000</td>\n",
              "      <td>0.000000</td>\n",
              "    </tr>\n",
              "    <tr>\n",
              "      <th>max</th>\n",
              "      <td>13.000000</td>\n",
              "      <td>2020.000000</td>\n",
              "      <td>2.960618e+09</td>\n",
              "      <td>1.0</td>\n",
              "      <td>860880.000000</td>\n",
              "      <td>142727.740000</td>\n",
              "      <td>2.960618e+09</td>\n",
              "      <td>0.0</td>\n",
              "      <td>1.000000</td>\n",
              "      <td>1.000000</td>\n",
              "    </tr>\n",
              "  </tbody>\n",
              "</table>\n",
              "</div>"
            ],
            "text/plain": [
              "       business_code_int_part  buisness_year        doc_id  posting_id  \\\n",
              "count            39863.000000   39863.000000  3.986300e+04     39863.0   \n",
              "mean                 1.250960    2019.131601  2.011436e+09         1.0   \n",
              "std                  1.428645       0.338060  2.768420e+08         0.0   \n",
              "min                  1.000000    2019.000000  1.928502e+09         1.0   \n",
              "25%                  1.000000    2019.000000  1.929178e+09         1.0   \n",
              "50%                  1.000000    2019.000000  1.929733e+09         1.0   \n",
              "75%                  1.000000    2019.000000  1.930208e+09         1.0   \n",
              "max                 13.000000    2020.000000  2.960618e+09         1.0   \n",
              "\n",
              "       total_open_amount  cust_payment_terms    invoice_id   isOpen  \\\n",
              "count       39863.000000        39863.000000  3.986300e+04  39863.0   \n",
              "mean        31276.699888        31276.697685  2.011436e+09      0.0   \n",
              "std         37317.456044        10886.046500  2.768420e+08      0.0   \n",
              "min             0.530000           16.540000  1.928502e+09      0.0   \n",
              "25%          4793.430000        23476.070000  1.929178e+09      0.0   \n",
              "50%         17132.800000        37265.080000  1.929733e+09      0.0   \n",
              "75%         45958.410000        37265.080000  1.930208e+09      0.0   \n",
              "max        860880.000000       142727.740000  2.960618e+09      0.0   \n",
              "\n",
              "       business_code_str_part_U  business_code_str_part_CA  \n",
              "count              39863.000000               39863.000000  \n",
              "mean                   0.921657                   0.078343  \n",
              "std                    0.268714                   0.268714  \n",
              "min                    0.000000                   0.000000  \n",
              "25%                    1.000000                   0.000000  \n",
              "50%                    1.000000                   0.000000  \n",
              "75%                    1.000000                   0.000000  \n",
              "max                    1.000000                   1.000000  "
            ]
          },
          "metadata": {
            "tags": []
          },
          "execution_count": 102
        }
      ]
    },
    {
      "cell_type": "code",
      "metadata": {
        "id": "OjNPXb2g3nNm"
      },
      "source": [
        "temp[\"clear_date_month\"] = temp[\"clear_date\"].dt.month\n",
        "temp[\"clear_date_year\"] = temp[\"clear_date\"].dt.year\n",
        "temp[\"doc_create_date_month\"] = temp[\"document_create_date.1\"].dt.month\n",
        "temp[\"doc_create_date_year\"] = temp[\"document_create_date.1\"].dt.year\n",
        "\n",
        "temp[\"paid_on_or_before_due_date\"] = np.where(temp.apply(lambda x : x[\"clear_date\"] <= x[\"due_in_date\"], axis = 1) == True, 1, 0)"
      ],
      "execution_count": 103,
      "outputs": []
    },
    {
      "cell_type": "code",
      "metadata": {
        "colab": {
          "base_uri": "https://localhost:8080/",
          "height": 0
        },
        "id": "LTCXZAuv5QlI",
        "outputId": "d75bb516-d00b-4bb3-ac71-70f000ec2307"
      },
      "source": [
        "temp.head()"
      ],
      "execution_count": 104,
      "outputs": [
        {
          "output_type": "execute_result",
          "data": {
            "text/html": [
              "<div>\n",
              "<style scoped>\n",
              "    .dataframe tbody tr th:only-of-type {\n",
              "        vertical-align: middle;\n",
              "    }\n",
              "\n",
              "    .dataframe tbody tr th {\n",
              "        vertical-align: top;\n",
              "    }\n",
              "\n",
              "    .dataframe thead th {\n",
              "        text-align: right;\n",
              "    }\n",
              "</style>\n",
              "<table border=\"1\" class=\"dataframe\">\n",
              "  <thead>\n",
              "    <tr style=\"text-align: right;\">\n",
              "      <th></th>\n",
              "      <th>business_code_int_part</th>\n",
              "      <th>cust_number</th>\n",
              "      <th>name_customer</th>\n",
              "      <th>clear_date</th>\n",
              "      <th>buisness_year</th>\n",
              "      <th>doc_id</th>\n",
              "      <th>document_create_date</th>\n",
              "      <th>document_create_date.1</th>\n",
              "      <th>due_in_date</th>\n",
              "      <th>invoice_currency</th>\n",
              "      <th>document type</th>\n",
              "      <th>posting_id</th>\n",
              "      <th>total_open_amount</th>\n",
              "      <th>baseline_create_date</th>\n",
              "      <th>cust_payment_terms</th>\n",
              "      <th>invoice_id</th>\n",
              "      <th>isOpen</th>\n",
              "      <th>business_code_str_part_U</th>\n",
              "      <th>business_code_str_part_CA</th>\n",
              "      <th>clear_date_month</th>\n",
              "      <th>clear_date_year</th>\n",
              "      <th>doc_create_date_month</th>\n",
              "      <th>doc_create_date_year</th>\n",
              "      <th>paid_on_or_before_due_date</th>\n",
              "    </tr>\n",
              "  </thead>\n",
              "  <tbody>\n",
              "    <tr>\n",
              "      <th>0</th>\n",
              "      <td>1</td>\n",
              "      <td>0200331749</td>\n",
              "      <td>SYSC co</td>\n",
              "      <td>2019-11-18</td>\n",
              "      <td>2019.0</td>\n",
              "      <td>1.930087e+09</td>\n",
              "      <td>2019-11-01</td>\n",
              "      <td>2019-11-01</td>\n",
              "      <td>2019-11-16</td>\n",
              "      <td>USD</td>\n",
              "      <td>RV</td>\n",
              "      <td>1.0</td>\n",
              "      <td>43288.46</td>\n",
              "      <td>2019-11-01</td>\n",
              "      <td>37265.08</td>\n",
              "      <td>1.930087e+09</td>\n",
              "      <td>0</td>\n",
              "      <td>1.0</td>\n",
              "      <td>0.0</td>\n",
              "      <td>11</td>\n",
              "      <td>2019</td>\n",
              "      <td>11</td>\n",
              "      <td>2019</td>\n",
              "      <td>0</td>\n",
              "    </tr>\n",
              "    <tr>\n",
              "      <th>1</th>\n",
              "      <td>1</td>\n",
              "      <td>200762301</td>\n",
              "      <td>C&amp;S WH systems</td>\n",
              "      <td>2019-04-11</td>\n",
              "      <td>2019.0</td>\n",
              "      <td>1.929037e+09</td>\n",
              "      <td>2019-03-27</td>\n",
              "      <td>2019-03-28</td>\n",
              "      <td>2019-04-12</td>\n",
              "      <td>USD</td>\n",
              "      <td>RV</td>\n",
              "      <td>1.0</td>\n",
              "      <td>3783.25</td>\n",
              "      <td>2019-03-28</td>\n",
              "      <td>51880.03</td>\n",
              "      <td>1.929037e+09</td>\n",
              "      <td>0</td>\n",
              "      <td>1.0</td>\n",
              "      <td>0.0</td>\n",
              "      <td>4</td>\n",
              "      <td>2019</td>\n",
              "      <td>3</td>\n",
              "      <td>2019</td>\n",
              "      <td>1</td>\n",
              "    </tr>\n",
              "    <tr>\n",
              "      <th>2</th>\n",
              "      <td>1</td>\n",
              "      <td>0200769623</td>\n",
              "      <td>WAL-MAR llc</td>\n",
              "      <td>2019-12-18</td>\n",
              "      <td>2019.0</td>\n",
              "      <td>1.930223e+09</td>\n",
              "      <td>2019-12-06</td>\n",
              "      <td>2019-12-07</td>\n",
              "      <td>2019-12-22</td>\n",
              "      <td>USD</td>\n",
              "      <td>RV</td>\n",
              "      <td>1.0</td>\n",
              "      <td>35.28</td>\n",
              "      <td>2019-12-07</td>\n",
              "      <td>23476.07</td>\n",
              "      <td>1.930223e+09</td>\n",
              "      <td>0</td>\n",
              "      <td>1.0</td>\n",
              "      <td>0.0</td>\n",
              "      <td>12</td>\n",
              "      <td>2019</td>\n",
              "      <td>12</td>\n",
              "      <td>2019</td>\n",
              "      <td>1</td>\n",
              "    </tr>\n",
              "    <tr>\n",
              "      <th>3</th>\n",
              "      <td>1</td>\n",
              "      <td>0200769623</td>\n",
              "      <td>WAL-MAR systems</td>\n",
              "      <td>2019-08-15</td>\n",
              "      <td>2019.0</td>\n",
              "      <td>1.929703e+09</td>\n",
              "      <td>2019-08-05</td>\n",
              "      <td>2019-08-05</td>\n",
              "      <td>2019-08-20</td>\n",
              "      <td>USD</td>\n",
              "      <td>RV</td>\n",
              "      <td>1.0</td>\n",
              "      <td>471.56</td>\n",
              "      <td>2019-08-05</td>\n",
              "      <td>23476.07</td>\n",
              "      <td>1.929703e+09</td>\n",
              "      <td>0</td>\n",
              "      <td>1.0</td>\n",
              "      <td>0.0</td>\n",
              "      <td>8</td>\n",
              "      <td>2019</td>\n",
              "      <td>8</td>\n",
              "      <td>2019</td>\n",
              "      <td>1</td>\n",
              "    </tr>\n",
              "    <tr>\n",
              "      <th>4</th>\n",
              "      <td>1</td>\n",
              "      <td>0200705089</td>\n",
              "      <td>JETR in</td>\n",
              "      <td>2019-11-04</td>\n",
              "      <td>2019.0</td>\n",
              "      <td>1.930013e+09</td>\n",
              "      <td>2019-10-14</td>\n",
              "      <td>2019-10-14</td>\n",
              "      <td>2019-10-29</td>\n",
              "      <td>USD</td>\n",
              "      <td>RV</td>\n",
              "      <td>1.0</td>\n",
              "      <td>916.09</td>\n",
              "      <td>2019-10-14</td>\n",
              "      <td>37265.08</td>\n",
              "      <td>1.930013e+09</td>\n",
              "      <td>0</td>\n",
              "      <td>1.0</td>\n",
              "      <td>0.0</td>\n",
              "      <td>11</td>\n",
              "      <td>2019</td>\n",
              "      <td>10</td>\n",
              "      <td>2019</td>\n",
              "      <td>0</td>\n",
              "    </tr>\n",
              "  </tbody>\n",
              "</table>\n",
              "</div>"
            ],
            "text/plain": [
              "   business_code_int_part cust_number    name_customer clear_date  \\\n",
              "0                       1  0200331749          SYSC co 2019-11-18   \n",
              "1                       1   200762301   C&S WH systems 2019-04-11   \n",
              "2                       1  0200769623      WAL-MAR llc 2019-12-18   \n",
              "3                       1  0200769623  WAL-MAR systems 2019-08-15   \n",
              "4                       1  0200705089          JETR in 2019-11-04   \n",
              "\n",
              "   buisness_year        doc_id document_create_date document_create_date.1  \\\n",
              "0         2019.0  1.930087e+09           2019-11-01             2019-11-01   \n",
              "1         2019.0  1.929037e+09           2019-03-27             2019-03-28   \n",
              "2         2019.0  1.930223e+09           2019-12-06             2019-12-07   \n",
              "3         2019.0  1.929703e+09           2019-08-05             2019-08-05   \n",
              "4         2019.0  1.930013e+09           2019-10-14             2019-10-14   \n",
              "\n",
              "  due_in_date invoice_currency document type  posting_id  total_open_amount  \\\n",
              "0  2019-11-16              USD            RV         1.0           43288.46   \n",
              "1  2019-04-12              USD            RV         1.0            3783.25   \n",
              "2  2019-12-22              USD            RV         1.0              35.28   \n",
              "3  2019-08-20              USD            RV         1.0             471.56   \n",
              "4  2019-10-29              USD            RV         1.0             916.09   \n",
              "\n",
              "  baseline_create_date  cust_payment_terms    invoice_id  isOpen  \\\n",
              "0           2019-11-01            37265.08  1.930087e+09       0   \n",
              "1           2019-03-28            51880.03  1.929037e+09       0   \n",
              "2           2019-12-07            23476.07  1.930223e+09       0   \n",
              "3           2019-08-05            23476.07  1.929703e+09       0   \n",
              "4           2019-10-14            37265.08  1.930013e+09       0   \n",
              "\n",
              "   business_code_str_part_U  business_code_str_part_CA  clear_date_month  \\\n",
              "0                       1.0                        0.0                11   \n",
              "1                       1.0                        0.0                 4   \n",
              "2                       1.0                        0.0                12   \n",
              "3                       1.0                        0.0                 8   \n",
              "4                       1.0                        0.0                11   \n",
              "\n",
              "   clear_date_year  doc_create_date_month  doc_create_date_year  \\\n",
              "0             2019                     11                  2019   \n",
              "1             2019                      3                  2019   \n",
              "2             2019                     12                  2019   \n",
              "3             2019                      8                  2019   \n",
              "4             2019                     10                  2019   \n",
              "\n",
              "   paid_on_or_before_due_date  \n",
              "0                           0  \n",
              "1                           1  \n",
              "2                           1  \n",
              "3                           1  \n",
              "4                           0  "
            ]
          },
          "metadata": {
            "tags": []
          },
          "execution_count": 104
        }
      ]
    },
    {
      "cell_type": "code",
      "metadata": {
        "id": "mmz1kVGl6bmN"
      },
      "source": [
        "temp[\"payment_delay_days\"] = temp[\"clear_date\"].sub(temp[\"due_in_date\"]).dt.days.copy()"
      ],
      "execution_count": 105,
      "outputs": []
    },
    {
      "cell_type": "code",
      "metadata": {
        "colab": {
          "base_uri": "https://localhost:8080/",
          "height": 0
        },
        "id": "Loij6Kss6u5f",
        "outputId": "726edcba-1585-42aa-88e1-a0c3448f85d0"
      },
      "source": [
        "sns.set(rc={'figure.figsize':(15,12)})\n",
        "sns.heatmap(temp.corr(), annot = True)"
      ],
      "execution_count": 106,
      "outputs": [
        {
          "output_type": "execute_result",
          "data": {
            "text/plain": [
              "<matplotlib.axes._subplots.AxesSubplot at 0x7ff6c4dea950>"
            ]
          },
          "metadata": {
            "tags": []
          },
          "execution_count": 106
        },
        {
          "output_type": "display_data",
          "data": {
            "image/png": "[encoded data removed]",
            "text/plain": [
              "<Figure size 1080x864 with 2 Axes>"
            ]
          },
          "metadata": {
            "tags": []
          }
        }
      ]
    },
    {
      "cell_type": "code",
      "metadata": {
        "id": "2bhRgf-o61Fb"
      },
      "source": [
        ""
      ],
      "execution_count": 106,
      "outputs": []
    },
    {
      "cell_type": "markdown",
      "metadata": {
        "id": "2RR0oQQi7y2i"
      },
      "source": [
        "###*Constant Feature Removal*"
      ]
    },
    {
      "cell_type": "code",
      "metadata": {
        "colab": {
          "base_uri": "https://localhost:8080/",
          "height": 0
        },
        "id": "3Tu8V00O725J",
        "outputId": "e10cedb2-da0e-42d0-baa1-dfc16a11688a"
      },
      "source": [
        "\"\"\"Constant features are the type of features that contain only one value for all the outputs in the dataset.\n",
        " Constant features provide no information that can help in classification of the record at hand.\n",
        "Therefore, it is advisable to remove all the constant features from the dataset.\"\"\"\n",
        "\n",
        "#Removing constant features as they don't provide any useful information to a machine learning model to predict a target feature."
      ],
      "execution_count": 107,
      "outputs": [
        {
          "output_type": "execute_result",
          "data": {
            "application/vnd.google.colaboratory.intrinsic+json": {
              "type": "string"
            },
            "text/plain": [
              "'Constant features are the type of features that contain only one value for all the outputs in the dataset.\\n Constant features provide no information that can help in classification of the record at hand.\\nTherefore, it is advisable to remove all the constant features from the dataset.'"
            ]
          },
          "metadata": {
            "tags": []
          },
          "execution_count": 107
        }
      ]
    },
    {
      "cell_type": "code",
      "metadata": {
        "colab": {
          "base_uri": "https://localhost:8080/"
        },
        "id": "gXViBH_u88Ld",
        "outputId": "838e2d48-6d9a-48b8-cace-66b91e6924b6"
      },
      "source": [
        "def constFeatureCheck(dataf):\n",
        "    print(\"No. of unique values in each feature :\\n\")\n",
        "    constFeatures = []\n",
        "    for item in dataf.columns.values:\n",
        "        uniqueItems = len(dataf[item].unique())\n",
        "        print(f\"{item:22} : {uniqueItems} \")\n",
        "        if(uniqueItems == 1):\n",
        "            constFeatures.append(item)\n",
        "    return constFeatures\n",
        "\n",
        "constFeaturesDataTrain = constFeatureCheck(dfTrain)\n",
        "print(f\"\\nList of constant features in dataTrain: {constFeaturesDataTrain}\")"
      ],
      "execution_count": 108,
      "outputs": [
        {
          "output_type": "stream",
          "text": [
            "No. of unique values in each feature :\n",
            "\n",
            "business_code_int_part : 5 \n",
            "cust_number            : 1361 \n",
            "name_customer          : 3932 \n",
            "clear_date             : 393 \n",
            "buisness_year          : 2 \n",
            "doc_id                 : 39863 \n",
            "document_create_date   : 429 \n",
            "document_create_date.1 : 425 \n",
            "due_in_date            : 492 \n",
            "invoice_currency       : 1 \n",
            "document type          : 1 \n",
            "posting_id             : 1 \n",
            "total_open_amount      : 36325 \n",
            "baseline_create_date   : 433 \n",
            "cust_payment_terms     : 70 \n",
            "invoice_id             : 39863 \n",
            "isOpen                 : 1 \n",
            "business_code_str_part_U : 2 \n",
            "business_code_str_part_CA : 2 \n",
            "\n",
            "List of constant features in dataTrain: ['invoice_currency', 'document type', 'posting_id', 'isOpen']\n"
          ],
          "name": "stdout"
        }
      ]
    },
    {
      "cell_type": "markdown",
      "metadata": {
        "id": "B_-hwz_79kzT"
      },
      "source": [
        "#### Removing constant columns of train set from all the datasets"
      ]
    },
    {
      "cell_type": "code",
      "metadata": {
        "id": "bNj39jd79pbH"
      },
      "source": [
        "dfTrain = dfTrain.drop(columns = constFeaturesDataTrain).copy()\n",
        "dfValidation = dfValidation.drop(columns = constFeaturesDataTrain).copy()\n",
        "dfTest = dfTest.drop(columns = constFeaturesDataTrain).copy()"
      ],
      "execution_count": 109,
      "outputs": []
    },
    {
      "cell_type": "code",
      "metadata": {
        "colab": {
          "base_uri": "https://localhost:8080/",
          "height": 0
        },
        "id": "DoRKrLhV91h_",
        "outputId": "edcb0011-4e68-4b82-bc0e-756532b1542b"
      },
      "source": [
        "dfTrain.head()"
      ],
      "execution_count": 110,
      "outputs": [
        {
          "output_type": "execute_result",
          "data": {
            "text/html": [
              "<div>\n",
              "<style scoped>\n",
              "    .dataframe tbody tr th:only-of-type {\n",
              "        vertical-align: middle;\n",
              "    }\n",
              "\n",
              "    .dataframe tbody tr th {\n",
              "        vertical-align: top;\n",
              "    }\n",
              "\n",
              "    .dataframe thead th {\n",
              "        text-align: right;\n",
              "    }\n",
              "</style>\n",
              "<table border=\"1\" class=\"dataframe\">\n",
              "  <thead>\n",
              "    <tr style=\"text-align: right;\">\n",
              "      <th></th>\n",
              "      <th>business_code_int_part</th>\n",
              "      <th>cust_number</th>\n",
              "      <th>name_customer</th>\n",
              "      <th>clear_date</th>\n",
              "      <th>buisness_year</th>\n",
              "      <th>doc_id</th>\n",
              "      <th>document_create_date</th>\n",
              "      <th>document_create_date.1</th>\n",
              "      <th>due_in_date</th>\n",
              "      <th>total_open_amount</th>\n",
              "      <th>baseline_create_date</th>\n",
              "      <th>cust_payment_terms</th>\n",
              "      <th>invoice_id</th>\n",
              "      <th>business_code_str_part_U</th>\n",
              "      <th>business_code_str_part_CA</th>\n",
              "    </tr>\n",
              "  </thead>\n",
              "  <tbody>\n",
              "    <tr>\n",
              "      <th>0</th>\n",
              "      <td>1</td>\n",
              "      <td>0200331749</td>\n",
              "      <td>SYSC co</td>\n",
              "      <td>2019-11-18</td>\n",
              "      <td>2019.0</td>\n",
              "      <td>1.930087e+09</td>\n",
              "      <td>2019-11-01</td>\n",
              "      <td>2019-11-01</td>\n",
              "      <td>2019-11-16</td>\n",
              "      <td>43288.46</td>\n",
              "      <td>2019-11-01</td>\n",
              "      <td>37265.08</td>\n",
              "      <td>1.930087e+09</td>\n",
              "      <td>1.0</td>\n",
              "      <td>0.0</td>\n",
              "    </tr>\n",
              "    <tr>\n",
              "      <th>1</th>\n",
              "      <td>1</td>\n",
              "      <td>200762301</td>\n",
              "      <td>C&amp;S WH systems</td>\n",
              "      <td>2019-04-11</td>\n",
              "      <td>2019.0</td>\n",
              "      <td>1.929037e+09</td>\n",
              "      <td>2019-03-27</td>\n",
              "      <td>2019-03-28</td>\n",
              "      <td>2019-04-12</td>\n",
              "      <td>3783.25</td>\n",
              "      <td>2019-03-28</td>\n",
              "      <td>51880.03</td>\n",
              "      <td>1.929037e+09</td>\n",
              "      <td>1.0</td>\n",
              "      <td>0.0</td>\n",
              "    </tr>\n",
              "    <tr>\n",
              "      <th>2</th>\n",
              "      <td>1</td>\n",
              "      <td>0200769623</td>\n",
              "      <td>WAL-MAR llc</td>\n",
              "      <td>2019-12-18</td>\n",
              "      <td>2019.0</td>\n",
              "      <td>1.930223e+09</td>\n",
              "      <td>2019-12-06</td>\n",
              "      <td>2019-12-07</td>\n",
              "      <td>2019-12-22</td>\n",
              "      <td>35.28</td>\n",
              "      <td>2019-12-07</td>\n",
              "      <td>23476.07</td>\n",
              "      <td>1.930223e+09</td>\n",
              "      <td>1.0</td>\n",
              "      <td>0.0</td>\n",
              "    </tr>\n",
              "    <tr>\n",
              "      <th>3</th>\n",
              "      <td>1</td>\n",
              "      <td>0200769623</td>\n",
              "      <td>WAL-MAR systems</td>\n",
              "      <td>2019-08-15</td>\n",
              "      <td>2019.0</td>\n",
              "      <td>1.929703e+09</td>\n",
              "      <td>2019-08-05</td>\n",
              "      <td>2019-08-05</td>\n",
              "      <td>2019-08-20</td>\n",
              "      <td>471.56</td>\n",
              "      <td>2019-08-05</td>\n",
              "      <td>23476.07</td>\n",
              "      <td>1.929703e+09</td>\n",
              "      <td>1.0</td>\n",
              "      <td>0.0</td>\n",
              "    </tr>\n",
              "    <tr>\n",
              "      <th>4</th>\n",
              "      <td>1</td>\n",
              "      <td>0200705089</td>\n",
              "      <td>JETR in</td>\n",
              "      <td>2019-11-04</td>\n",
              "      <td>2019.0</td>\n",
              "      <td>1.930013e+09</td>\n",
              "      <td>2019-10-14</td>\n",
              "      <td>2019-10-14</td>\n",
              "      <td>2019-10-29</td>\n",
              "      <td>916.09</td>\n",
              "      <td>2019-10-14</td>\n",
              "      <td>37265.08</td>\n",
              "      <td>1.930013e+09</td>\n",
              "      <td>1.0</td>\n",
              "      <td>0.0</td>\n",
              "    </tr>\n",
              "  </tbody>\n",
              "</table>\n",
              "</div>"
            ],
            "text/plain": [
              "   business_code_int_part cust_number    name_customer clear_date  \\\n",
              "0                       1  0200331749          SYSC co 2019-11-18   \n",
              "1                       1   200762301   C&S WH systems 2019-04-11   \n",
              "2                       1  0200769623      WAL-MAR llc 2019-12-18   \n",
              "3                       1  0200769623  WAL-MAR systems 2019-08-15   \n",
              "4                       1  0200705089          JETR in 2019-11-04   \n",
              "\n",
              "   buisness_year        doc_id document_create_date document_create_date.1  \\\n",
              "0         2019.0  1.930087e+09           2019-11-01             2019-11-01   \n",
              "1         2019.0  1.929037e+09           2019-03-27             2019-03-28   \n",
              "2         2019.0  1.930223e+09           2019-12-06             2019-12-07   \n",
              "3         2019.0  1.929703e+09           2019-08-05             2019-08-05   \n",
              "4         2019.0  1.930013e+09           2019-10-14             2019-10-14   \n",
              "\n",
              "  due_in_date  total_open_amount baseline_create_date  cust_payment_terms  \\\n",
              "0  2019-11-16           43288.46           2019-11-01            37265.08   \n",
              "1  2019-04-12            3783.25           2019-03-28            51880.03   \n",
              "2  2019-12-22              35.28           2019-12-07            23476.07   \n",
              "3  2019-08-20             471.56           2019-08-05            23476.07   \n",
              "4  2019-10-29             916.09           2019-10-14            37265.08   \n",
              "\n",
              "     invoice_id  business_code_str_part_U  business_code_str_part_CA  \n",
              "0  1.930087e+09                       1.0                        0.0  \n",
              "1  1.929037e+09                       1.0                        0.0  \n",
              "2  1.930223e+09                       1.0                        0.0  \n",
              "3  1.929703e+09                       1.0                        0.0  \n",
              "4  1.930013e+09                       1.0                        0.0  "
            ]
          },
          "metadata": {
            "tags": []
          },
          "execution_count": 110
        }
      ]
    },
    {
      "cell_type": "code",
      "metadata": {
        "colab": {
          "base_uri": "https://localhost:8080/"
        },
        "id": "xQ1Xg03n-Lm3",
        "outputId": "e1eaf5aa-2afb-4cb7-828f-76da94f091fd"
      },
      "source": [
        "dfTrain.shape"
      ],
      "execution_count": 111,
      "outputs": [
        {
          "output_type": "execute_result",
          "data": {
            "text/plain": [
              "(39863, 15)"
            ]
          },
          "metadata": {
            "tags": []
          },
          "execution_count": 111
        }
      ]
    },
    {
      "cell_type": "code",
      "metadata": {
        "id": "iOPgfb3v-yat"
      },
      "source": [
        ""
      ],
      "execution_count": 111,
      "outputs": []
    },
    {
      "cell_type": "markdown",
      "metadata": {
        "id": "8m8eBL9CAPcm"
      },
      "source": [
        "### *Quasi - Constant Removal*"
      ]
    },
    {
      "cell_type": "code",
      "metadata": {
        "colab": {
          "base_uri": "https://localhost:8080/",
          "height": 0
        },
        "id": "h4kBDXgTATrl",
        "outputId": "8fe0bfc2-ce04-4ec5-a772-2e01018ad996"
      },
      "source": [
        "\"\"\"Quasi-constant features, as the name suggests, are the features that are almost constant. \n",
        "In other words, these features have the same values for a very large subset of the output\"\"\""
      ],
      "execution_count": 112,
      "outputs": [
        {
          "output_type": "execute_result",
          "data": {
            "application/vnd.google.colaboratory.intrinsic+json": {
              "type": "string"
            },
            "text/plain": [
              "'Quasi-constant features, as the name suggests, are the features that are almost constant. \\nIn other words, these features have the same values for a very large subset of the output'"
            ]
          },
          "metadata": {
            "tags": []
          },
          "execution_count": 112
        }
      ]
    },
    {
      "cell_type": "code",
      "metadata": {
        "id": "Rw4Y4TpTBMEv"
      },
      "source": [
        "#The features having very small variance values have very negligible use for a machine learning model\n",
        "#to predict the target feature\n",
        "#thus removing them"
      ],
      "execution_count": 113,
      "outputs": []
    },
    {
      "cell_type": "code",
      "metadata": {
        "colab": {
          "base_uri": "https://localhost:8080/"
        },
        "id": "_CtSCC56BW9f",
        "outputId": "98dd4c16-7d20-4861-a90f-b66ee772eace"
      },
      "source": [
        "def quasiConstFeatureCheck(dataf, threshold = 1.0):\n",
        "    print(\"No. of unique values in each feature :\\n\")\n",
        "    quasiConstFeatures = []\n",
        "    for item in dataf.columns.values:\n",
        "        uniqueItems = len(dataf[item].unique())\n",
        "        percentage = (uniqueItems / dataf.shape[0]) * 100\n",
        "        print(f\"{item:28} : {uniqueItems:5} : {percentage:.2f}%\")\n",
        "        if(percentage <= threshold):\n",
        "            quasiConstFeatures.append(item)\n",
        "    return quasiConstFeatures\n",
        "\n",
        "#considering those features as quasi-constant which have less than 0.1% of distinct records\n",
        "quasiConstFeaturesDataTrain = quasiConstFeatureCheck(dfTrain, 0.1)\n",
        "print(f\"\\nList of quasi-constant features in dataTrain:\\n{quasiConstFeaturesDataTrain}\")"
      ],
      "execution_count": 114,
      "outputs": [
        {
          "output_type": "stream",
          "text": [
            "No. of unique values in each feature :\n",
            "\n",
            "business_code_int_part       :     5 : 0.01%\n",
            "cust_number                  :  1361 : 3.41%\n",
            "name_customer                :  3932 : 9.86%\n",
            "clear_date                   :   393 : 0.99%\n",
            "buisness_year                :     2 : 0.01%\n",
            "doc_id                       : 39863 : 100.00%\n",
            "document_create_date         :   429 : 1.08%\n",
            "document_create_date.1       :   425 : 1.07%\n",
            "due_in_date                  :   492 : 1.23%\n",
            "total_open_amount            : 36325 : 91.12%\n",
            "baseline_create_date         :   433 : 1.09%\n",
            "cust_payment_terms           :    70 : 0.18%\n",
            "invoice_id                   : 39863 : 100.00%\n",
            "business_code_str_part_U     :     2 : 0.01%\n",
            "business_code_str_part_CA    :     2 : 0.01%\n",
            "\n",
            "List of quasi-constant features in dataTrain:\n",
            "['business_code_int_part', 'buisness_year', 'business_code_str_part_U', 'business_code_str_part_CA']\n"
          ],
          "name": "stdout"
        }
      ]
    },
    {
      "cell_type": "code",
      "metadata": {
        "id": "JXhb2s_yBjLQ"
      },
      "source": [
        "#Out of these 4 features 'business_code_int_part', 'buisness_year', 'business_code_str_part_U', 'business_code_str_part_CA'\n",
        "#only 'buisness_year' seems suitable to be dropped\n"
      ],
      "execution_count": 115,
      "outputs": []
    },
    {
      "cell_type": "markdown",
      "metadata": {
        "id": "AjzqxNucF6SO"
      },
      "source": [
        "######Removing Quasi-Constant columns of train set from all the datasets"
      ]
    },
    {
      "cell_type": "code",
      "metadata": {
        "id": "Hj9aKhtQGK45"
      },
      "source": [
        "dfTrain = dfTrain.drop(columns = \"buisness_year\").copy()\n",
        "dfValidation = dfValidation.drop(columns = \"buisness_year\").copy()\n",
        "dfTest = dfTest.drop(columns = \"buisness_year\").copy()"
      ],
      "execution_count": 116,
      "outputs": []
    },
    {
      "cell_type": "code",
      "metadata": {
        "colab": {
          "base_uri": "https://localhost:8080/",
          "height": 0
        },
        "id": "wlhrkW92Go3J",
        "outputId": "122143f5-6a0a-4724-c687-788ead746664"
      },
      "source": [
        "dfTrain.head()"
      ],
      "execution_count": 117,
      "outputs": [
        {
          "output_type": "execute_result",
          "data": {
            "text/html": [
              "<div>\n",
              "<style scoped>\n",
              "    .dataframe tbody tr th:only-of-type {\n",
              "        vertical-align: middle;\n",
              "    }\n",
              "\n",
              "    .dataframe tbody tr th {\n",
              "        vertical-align: top;\n",
              "    }\n",
              "\n",
              "    .dataframe thead th {\n",
              "        text-align: right;\n",
              "    }\n",
              "</style>\n",
              "<table border=\"1\" class=\"dataframe\">\n",
              "  <thead>\n",
              "    <tr style=\"text-align: right;\">\n",
              "      <th></th>\n",
              "      <th>business_code_int_part</th>\n",
              "      <th>cust_number</th>\n",
              "      <th>name_customer</th>\n",
              "      <th>clear_date</th>\n",
              "      <th>doc_id</th>\n",
              "      <th>document_create_date</th>\n",
              "      <th>document_create_date.1</th>\n",
              "      <th>due_in_date</th>\n",
              "      <th>total_open_amount</th>\n",
              "      <th>baseline_create_date</th>\n",
              "      <th>cust_payment_terms</th>\n",
              "      <th>invoice_id</th>\n",
              "      <th>business_code_str_part_U</th>\n",
              "      <th>business_code_str_part_CA</th>\n",
              "    </tr>\n",
              "  </thead>\n",
              "  <tbody>\n",
              "    <tr>\n",
              "      <th>0</th>\n",
              "      <td>1</td>\n",
              "      <td>0200331749</td>\n",
              "      <td>SYSC co</td>\n",
              "      <td>2019-11-18</td>\n",
              "      <td>1.930087e+09</td>\n",
              "      <td>2019-11-01</td>\n",
              "      <td>2019-11-01</td>\n",
              "      <td>2019-11-16</td>\n",
              "      <td>43288.46</td>\n",
              "      <td>2019-11-01</td>\n",
              "      <td>37265.08</td>\n",
              "      <td>1.930087e+09</td>\n",
              "      <td>1.0</td>\n",
              "      <td>0.0</td>\n",
              "    </tr>\n",
              "    <tr>\n",
              "      <th>1</th>\n",
              "      <td>1</td>\n",
              "      <td>200762301</td>\n",
              "      <td>C&amp;S WH systems</td>\n",
              "      <td>2019-04-11</td>\n",
              "      <td>1.929037e+09</td>\n",
              "      <td>2019-03-27</td>\n",
              "      <td>2019-03-28</td>\n",
              "      <td>2019-04-12</td>\n",
              "      <td>3783.25</td>\n",
              "      <td>2019-03-28</td>\n",
              "      <td>51880.03</td>\n",
              "      <td>1.929037e+09</td>\n",
              "      <td>1.0</td>\n",
              "      <td>0.0</td>\n",
              "    </tr>\n",
              "    <tr>\n",
              "      <th>2</th>\n",
              "      <td>1</td>\n",
              "      <td>0200769623</td>\n",
              "      <td>WAL-MAR llc</td>\n",
              "      <td>2019-12-18</td>\n",
              "      <td>1.930223e+09</td>\n",
              "      <td>2019-12-06</td>\n",
              "      <td>2019-12-07</td>\n",
              "      <td>2019-12-22</td>\n",
              "      <td>35.28</td>\n",
              "      <td>2019-12-07</td>\n",
              "      <td>23476.07</td>\n",
              "      <td>1.930223e+09</td>\n",
              "      <td>1.0</td>\n",
              "      <td>0.0</td>\n",
              "    </tr>\n",
              "    <tr>\n",
              "      <th>3</th>\n",
              "      <td>1</td>\n",
              "      <td>0200769623</td>\n",
              "      <td>WAL-MAR systems</td>\n",
              "      <td>2019-08-15</td>\n",
              "      <td>1.929703e+09</td>\n",
              "      <td>2019-08-05</td>\n",
              "      <td>2019-08-05</td>\n",
              "      <td>2019-08-20</td>\n",
              "      <td>471.56</td>\n",
              "      <td>2019-08-05</td>\n",
              "      <td>23476.07</td>\n",
              "      <td>1.929703e+09</td>\n",
              "      <td>1.0</td>\n",
              "      <td>0.0</td>\n",
              "    </tr>\n",
              "    <tr>\n",
              "      <th>4</th>\n",
              "      <td>1</td>\n",
              "      <td>0200705089</td>\n",
              "      <td>JETR in</td>\n",
              "      <td>2019-11-04</td>\n",
              "      <td>1.930013e+09</td>\n",
              "      <td>2019-10-14</td>\n",
              "      <td>2019-10-14</td>\n",
              "      <td>2019-10-29</td>\n",
              "      <td>916.09</td>\n",
              "      <td>2019-10-14</td>\n",
              "      <td>37265.08</td>\n",
              "      <td>1.930013e+09</td>\n",
              "      <td>1.0</td>\n",
              "      <td>0.0</td>\n",
              "    </tr>\n",
              "  </tbody>\n",
              "</table>\n",
              "</div>"
            ],
            "text/plain": [
              "   business_code_int_part cust_number    name_customer clear_date  \\\n",
              "0                       1  0200331749          SYSC co 2019-11-18   \n",
              "1                       1   200762301   C&S WH systems 2019-04-11   \n",
              "2                       1  0200769623      WAL-MAR llc 2019-12-18   \n",
              "3                       1  0200769623  WAL-MAR systems 2019-08-15   \n",
              "4                       1  0200705089          JETR in 2019-11-04   \n",
              "\n",
              "         doc_id document_create_date document_create_date.1 due_in_date  \\\n",
              "0  1.930087e+09           2019-11-01             2019-11-01  2019-11-16   \n",
              "1  1.929037e+09           2019-03-27             2019-03-28  2019-04-12   \n",
              "2  1.930223e+09           2019-12-06             2019-12-07  2019-12-22   \n",
              "3  1.929703e+09           2019-08-05             2019-08-05  2019-08-20   \n",
              "4  1.930013e+09           2019-10-14             2019-10-14  2019-10-29   \n",
              "\n",
              "   total_open_amount baseline_create_date  cust_payment_terms    invoice_id  \\\n",
              "0           43288.46           2019-11-01            37265.08  1.930087e+09   \n",
              "1            3783.25           2019-03-28            51880.03  1.929037e+09   \n",
              "2              35.28           2019-12-07            23476.07  1.930223e+09   \n",
              "3             471.56           2019-08-05            23476.07  1.929703e+09   \n",
              "4             916.09           2019-10-14            37265.08  1.930013e+09   \n",
              "\n",
              "   business_code_str_part_U  business_code_str_part_CA  \n",
              "0                       1.0                        0.0  \n",
              "1                       1.0                        0.0  \n",
              "2                       1.0                        0.0  \n",
              "3                       1.0                        0.0  \n",
              "4                       1.0                        0.0  "
            ]
          },
          "metadata": {
            "tags": []
          },
          "execution_count": 117
        }
      ]
    },
    {
      "cell_type": "code",
      "metadata": {
        "colab": {
          "base_uri": "https://localhost:8080/"
        },
        "id": "0jcpYfGTHl6r",
        "outputId": "29b17818-7069-4c15-e1b3-e74491a3f5c1"
      },
      "source": [
        "dfTrain.shape"
      ],
      "execution_count": 118,
      "outputs": [
        {
          "output_type": "execute_result",
          "data": {
            "text/plain": [
              "(39863, 14)"
            ]
          },
          "metadata": {
            "tags": []
          },
          "execution_count": 118
        }
      ]
    },
    {
      "cell_type": "code",
      "metadata": {
        "colab": {
          "base_uri": "https://localhost:8080/"
        },
        "id": "fXSRHlp3Ho6t",
        "outputId": "9b0b1688-9d99-4e4b-ad3a-ef38952c31bd"
      },
      "source": [
        "dfTrain.columns"
      ],
      "execution_count": 119,
      "outputs": [
        {
          "output_type": "execute_result",
          "data": {
            "text/plain": [
              "Index(['business_code_int_part', 'cust_number', 'name_customer', 'clear_date',\n",
              "       'doc_id', 'document_create_date', 'document_create_date.1',\n",
              "       'due_in_date', 'total_open_amount', 'baseline_create_date',\n",
              "       'cust_payment_terms', 'invoice_id', 'business_code_str_part_U',\n",
              "       'business_code_str_part_CA'],\n",
              "      dtype='object')"
            ]
          },
          "metadata": {
            "tags": []
          },
          "execution_count": 119
        }
      ]
    },
    {
      "cell_type": "markdown",
      "metadata": {
        "id": "VaJbsjGoKLzZ"
      },
      "source": [
        "###*Checking for duplicate columns*"
      ]
    },
    {
      "cell_type": "code",
      "metadata": {
        "colab": {
          "base_uri": "https://localhost:8080/",
          "height": 0
        },
        "id": "C7hM6WEjKSx9",
        "outputId": "a9edaeb9-fe6f-4b06-b72f-2265075159cc"
      },
      "source": [
        "#From observation: Possible groups of duplicate features can be:\n",
        "#1. (\"doc_id\", \"invoice_id\")\n",
        "#2. (\"document_create_date.1\", \"baseline_create_date\", \"document_create_date\")\n",
        "\"\"\"\n",
        "but group 2 has already been checked \n",
        "under the heading 'Comparing columns 'posting_date', 'document_create_date', 'document_create_date.1' and 'baseline_create_date' are duplicate or not' \n",
        "with \"posting_date\"\n",
        "\n",
        "So, we need to check only group1\n",
        "\n",
        "\"\"\"\n"
      ],
      "execution_count": 120,
      "outputs": [
        {
          "output_type": "execute_result",
          "data": {
            "application/vnd.google.colaboratory.intrinsic+json": {
              "type": "string"
            },
            "text/plain": [
              "'\\nbut group 2 has already been checked \\nunder the heading \\'Comparing columns \\'posting_date\\', \\'document_create_date\\', \\'document_create_date.1\\' and \\'baseline_create_date\\' are duplicate or not\\' \\nwith \"posting_date\"\\n\\nSo, we need to check only group1\\n\\n'"
            ]
          },
          "metadata": {
            "tags": []
          },
          "execution_count": 120
        }
      ]
    },
    {
      "cell_type": "markdown",
      "metadata": {
        "id": "Btd0ww9tTNh0"
      },
      "source": [
        "####Group1"
      ]
    },
    {
      "cell_type": "code",
      "metadata": {
        "colab": {
          "base_uri": "https://localhost:8080/"
        },
        "id": "thiVo9tELrHb",
        "outputId": "73603d36-f987-46aa-900f-c6c8ab4f625a"
      },
      "source": [
        "#Checking for 1st group:\n",
        "temp = dfTrain[[\"doc_id\", \"invoice_id\"]]\n",
        "#print(temp)\n",
        "\n",
        "temp = temp.T\n",
        "#print(temp)\n",
        "\n",
        "zz = temp.duplicated().to_dict()\n",
        "print(zz)\n",
        "\n",
        "for key in zz:\n",
        "    print(f\"{key:22} : Not Duplicate\") if zz[key] == False else print(f\"{key:22} : Duplicate\")\n",
        "\n",
        "temp = temp.T # again transposing dfTemp"
      ],
      "execution_count": 121,
      "outputs": [
        {
          "output_type": "stream",
          "text": [
            "{'doc_id': False, 'invoice_id': True}\n",
            "doc_id                 : Not Duplicate\n",
            "invoice_id             : Duplicate\n"
          ],
          "name": "stdout"
        }
      ]
    },
    {
      "cell_type": "markdown",
      "metadata": {
        "id": "44ysrI9wRPIf"
      },
      "source": [
        "#####Removing duplicate column invoice_id"
      ]
    },
    {
      "cell_type": "code",
      "metadata": {
        "id": "dX1tYXo3LuDt"
      },
      "source": [
        "dfTrain = dfTrain.drop(columns = \"invoice_id\").copy()\n",
        "dfValidation = dfValidation.drop(columns = \"invoice_id\").copy()\n",
        "dfTest = dfTest.drop(columns = \"invoice_id\").copy()"
      ],
      "execution_count": 122,
      "outputs": []
    },
    {
      "cell_type": "code",
      "metadata": {
        "colab": {
          "base_uri": "https://localhost:8080/"
        },
        "id": "02zzVzzYRqZR",
        "outputId": "3cece12e-b2ce-41e8-c4c8-2474a9b30ed7"
      },
      "source": [
        "dfTrain.shape, dfValidation.shape, dfTest.shape"
      ],
      "execution_count": 123,
      "outputs": [
        {
          "output_type": "execute_result",
          "data": {
            "text/plain": [
              "((39863, 13), (7035, 13), (3096, 13))"
            ]
          },
          "metadata": {
            "tags": []
          },
          "execution_count": 123
        }
      ]
    },
    {
      "cell_type": "markdown",
      "metadata": {
        "id": "0aAtJA5zTbv4"
      },
      "source": [
        "####Group2"
      ]
    },
    {
      "cell_type": "code",
      "metadata": {
        "colab": {
          "base_uri": "https://localhost:8080/",
          "height": 0
        },
        "id": "4qQjELwlTfi0",
        "outputId": "d5e9c749-382c-4b77-dcfb-388f4512277b"
      },
      "source": [
        "\"\"\"but group 2 has already been checked \n",
        "under the heading 'Comparing columns 'posting_date', 'document_create_date', 'document_create_date.1' and 'baseline_create_date' are duplicate or not' \n",
        "with \"posting_date\"\n",
        "\n",
        "There we have found that all three columns 'document_create_date', 'document_create_date.1' and 'baseline_create_date' are different\n",
        "\n",
        "And all of them are highly coorelated\n",
        "\n",
        "And we used column document_create_date.1 for splitting thus we can drop the other two\n",
        "\"\"\""
      ],
      "execution_count": 124,
      "outputs": [
        {
          "output_type": "execute_result",
          "data": {
            "application/vnd.google.colaboratory.intrinsic+json": {
              "type": "string"
            },
            "text/plain": [
              "'but group 2 has already been checked \\nunder the heading \\'Comparing columns \\'posting_date\\', \\'document_create_date\\', \\'document_create_date.1\\' and \\'baseline_create_date\\' are duplicate or not\\' \\nwith \"posting_date\"\\n\\nThere we have found that all three columns \\'document_create_date\\', \\'document_create_date.1\\' and \\'baseline_create_date\\' are different\\n\\nAnd all of them are highly coorelated\\n\\nAnd we used column document_create_date.1 for splitting thus we can drop the other two\\n'"
            ]
          },
          "metadata": {
            "tags": []
          },
          "execution_count": 124
        }
      ]
    },
    {
      "cell_type": "markdown",
      "metadata": {
        "id": "BOAQfRkbYeVF"
      },
      "source": [
        "######Removing highly correlated features"
      ]
    },
    {
      "cell_type": "code",
      "metadata": {
        "id": "hbW4-2--VHIK"
      },
      "source": [
        "highlyCorrelated = [\"baseline_create_date\", \"document_create_date\"]\n",
        "dfTrain = dfTrain.drop(columns = highlyCorrelated).copy()\n",
        "dfValidation = dfValidation.drop(columns = highlyCorrelated).copy()\n",
        "dfTest = dfTest.drop(columns = highlyCorrelated).copy()"
      ],
      "execution_count": 125,
      "outputs": []
    },
    {
      "cell_type": "code",
      "metadata": {
        "colab": {
          "base_uri": "https://localhost:8080/",
          "height": 0
        },
        "id": "gLS8fw1NUo1K",
        "outputId": "59cbe114-0425-4868-e5da-1b75764d39bd"
      },
      "source": [
        "dfTrain.head()"
      ],
      "execution_count": 126,
      "outputs": [
        {
          "output_type": "execute_result",
          "data": {
            "text/html": [
              "<div>\n",
              "<style scoped>\n",
              "    .dataframe tbody tr th:only-of-type {\n",
              "        vertical-align: middle;\n",
              "    }\n",
              "\n",
              "    .dataframe tbody tr th {\n",
              "        vertical-align: top;\n",
              "    }\n",
              "\n",
              "    .dataframe thead th {\n",
              "        text-align: right;\n",
              "    }\n",
              "</style>\n",
              "<table border=\"1\" class=\"dataframe\">\n",
              "  <thead>\n",
              "    <tr style=\"text-align: right;\">\n",
              "      <th></th>\n",
              "      <th>business_code_int_part</th>\n",
              "      <th>cust_number</th>\n",
              "      <th>name_customer</th>\n",
              "      <th>clear_date</th>\n",
              "      <th>doc_id</th>\n",
              "      <th>document_create_date.1</th>\n",
              "      <th>due_in_date</th>\n",
              "      <th>total_open_amount</th>\n",
              "      <th>cust_payment_terms</th>\n",
              "      <th>business_code_str_part_U</th>\n",
              "      <th>business_code_str_part_CA</th>\n",
              "    </tr>\n",
              "  </thead>\n",
              "  <tbody>\n",
              "    <tr>\n",
              "      <th>0</th>\n",
              "      <td>1</td>\n",
              "      <td>0200331749</td>\n",
              "      <td>SYSC co</td>\n",
              "      <td>2019-11-18</td>\n",
              "      <td>1.930087e+09</td>\n",
              "      <td>2019-11-01</td>\n",
              "      <td>2019-11-16</td>\n",
              "      <td>43288.46</td>\n",
              "      <td>37265.08</td>\n",
              "      <td>1.0</td>\n",
              "      <td>0.0</td>\n",
              "    </tr>\n",
              "    <tr>\n",
              "      <th>1</th>\n",
              "      <td>1</td>\n",
              "      <td>200762301</td>\n",
              "      <td>C&amp;S WH systems</td>\n",
              "      <td>2019-04-11</td>\n",
              "      <td>1.929037e+09</td>\n",
              "      <td>2019-03-28</td>\n",
              "      <td>2019-04-12</td>\n",
              "      <td>3783.25</td>\n",
              "      <td>51880.03</td>\n",
              "      <td>1.0</td>\n",
              "      <td>0.0</td>\n",
              "    </tr>\n",
              "    <tr>\n",
              "      <th>2</th>\n",
              "      <td>1</td>\n",
              "      <td>0200769623</td>\n",
              "      <td>WAL-MAR llc</td>\n",
              "      <td>2019-12-18</td>\n",
              "      <td>1.930223e+09</td>\n",
              "      <td>2019-12-07</td>\n",
              "      <td>2019-12-22</td>\n",
              "      <td>35.28</td>\n",
              "      <td>23476.07</td>\n",
              "      <td>1.0</td>\n",
              "      <td>0.0</td>\n",
              "    </tr>\n",
              "    <tr>\n",
              "      <th>3</th>\n",
              "      <td>1</td>\n",
              "      <td>0200769623</td>\n",
              "      <td>WAL-MAR systems</td>\n",
              "      <td>2019-08-15</td>\n",
              "      <td>1.929703e+09</td>\n",
              "      <td>2019-08-05</td>\n",
              "      <td>2019-08-20</td>\n",
              "      <td>471.56</td>\n",
              "      <td>23476.07</td>\n",
              "      <td>1.0</td>\n",
              "      <td>0.0</td>\n",
              "    </tr>\n",
              "    <tr>\n",
              "      <th>4</th>\n",
              "      <td>1</td>\n",
              "      <td>0200705089</td>\n",
              "      <td>JETR in</td>\n",
              "      <td>2019-11-04</td>\n",
              "      <td>1.930013e+09</td>\n",
              "      <td>2019-10-14</td>\n",
              "      <td>2019-10-29</td>\n",
              "      <td>916.09</td>\n",
              "      <td>37265.08</td>\n",
              "      <td>1.0</td>\n",
              "      <td>0.0</td>\n",
              "    </tr>\n",
              "  </tbody>\n",
              "</table>\n",
              "</div>"
            ],
            "text/plain": [
              "   business_code_int_part cust_number    name_customer clear_date  \\\n",
              "0                       1  0200331749          SYSC co 2019-11-18   \n",
              "1                       1   200762301   C&S WH systems 2019-04-11   \n",
              "2                       1  0200769623      WAL-MAR llc 2019-12-18   \n",
              "3                       1  0200769623  WAL-MAR systems 2019-08-15   \n",
              "4                       1  0200705089          JETR in 2019-11-04   \n",
              "\n",
              "         doc_id document_create_date.1 due_in_date  total_open_amount  \\\n",
              "0  1.930087e+09             2019-11-01  2019-11-16           43288.46   \n",
              "1  1.929037e+09             2019-03-28  2019-04-12            3783.25   \n",
              "2  1.930223e+09             2019-12-07  2019-12-22              35.28   \n",
              "3  1.929703e+09             2019-08-05  2019-08-20             471.56   \n",
              "4  1.930013e+09             2019-10-14  2019-10-29             916.09   \n",
              "\n",
              "   cust_payment_terms  business_code_str_part_U  business_code_str_part_CA  \n",
              "0            37265.08                       1.0                        0.0  \n",
              "1            51880.03                       1.0                        0.0  \n",
              "2            23476.07                       1.0                        0.0  \n",
              "3            23476.07                       1.0                        0.0  \n",
              "4            37265.08                       1.0                        0.0  "
            ]
          },
          "metadata": {
            "tags": []
          },
          "execution_count": 126
        }
      ]
    },
    {
      "cell_type": "code",
      "metadata": {
        "colab": {
          "base_uri": "https://localhost:8080/"
        },
        "id": "103fWyShXxwM",
        "outputId": "d4fbbe43-0a87-432a-9bde-08c0fdb0596a"
      },
      "source": [
        "dfTrain.shape"
      ],
      "execution_count": 127,
      "outputs": [
        {
          "output_type": "execute_result",
          "data": {
            "text/plain": [
              "(39863, 11)"
            ]
          },
          "metadata": {
            "tags": []
          },
          "execution_count": 127
        }
      ]
    },
    {
      "cell_type": "markdown",
      "metadata": {
        "id": "SMkECSJ4YxKe"
      },
      "source": [
        "#**Feature Engineering** ( continued )"
      ]
    },
    {
      "cell_type": "code",
      "metadata": {
        "colab": {
          "base_uri": "https://localhost:8080/"
        },
        "id": "UbtON8q7apPN",
        "outputId": "ae3871f9-ea01-4a4a-ca4a-9957e92b151d"
      },
      "source": [
        "temp.shape"
      ],
      "execution_count": 128,
      "outputs": [
        {
          "output_type": "execute_result",
          "data": {
            "text/plain": [
              "(39863, 2)"
            ]
          },
          "metadata": {
            "tags": []
          },
          "execution_count": 128
        }
      ]
    },
    {
      "cell_type": "code",
      "metadata": {
        "id": "U2dlFCdUY2OP"
      },
      "source": [
        "temp = dfTrain.copy()\n",
        "\n",
        "#payment_delay_date = clear_date - due_in_date\n",
        "#after how many days of the due_in_date the customer made the payment\n",
        "temp[\"payment_delay_days\"] = temp[\"clear_date\"].sub(temp[\"due_in_date\"]).dt.days.copy()\n",
        "#if payment delay days in negative it means that customer made the payment before the due date\n",
        "#Similarly if payment delay days in positive it means that customer made the payment after the due date\n",
        "\n",
        "\n",
        "#payment orig_payment_window_days = due_in_date - document_create_date.1\n",
        "#after how many days of the invoice document create date we have the due date\n",
        "temp[\"orig_payment_window_days\"] = temp[\"due_in_date\"].sub(temp[\"document_create_date.1\"]).dt.days.copy()\n",
        "temp[\"Total_no_days_taken\"]=temp[\"clear_date\"].sub(temp[\"document_create_date.1\"]).dt.days.copy()\n",
        "\n",
        "\n",
        "#dfValidation[\"Total_no_days_taken\"]=dfValidation[\"clear_date\"].sub(dfValidation[\"document_create_date.1\"]).dt.days.copy()"
      ],
      "execution_count": 129,
      "outputs": []
    },
    {
      "cell_type": "code",
      "metadata": {
        "colab": {
          "base_uri": "https://localhost:8080/",
          "height": 258
        },
        "id": "HBvE_1HlZ_Qb",
        "outputId": "beaa3cd7-4e01-4f68-d3ef-880c51c3c357"
      },
      "source": [
        "temp.head()"
      ],
      "execution_count": 130,
      "outputs": [
        {
          "output_type": "execute_result",
          "data": {
            "text/html": [
              "<div>\n",
              "<style scoped>\n",
              "    .dataframe tbody tr th:only-of-type {\n",
              "        vertical-align: middle;\n",
              "    }\n",
              "\n",
              "    .dataframe tbody tr th {\n",
              "        vertical-align: top;\n",
              "    }\n",
              "\n",
              "    .dataframe thead th {\n",
              "        text-align: right;\n",
              "    }\n",
              "</style>\n",
              "<table border=\"1\" class=\"dataframe\">\n",
              "  <thead>\n",
              "    <tr style=\"text-align: right;\">\n",
              "      <th></th>\n",
              "      <th>business_code_int_part</th>\n",
              "      <th>cust_number</th>\n",
              "      <th>name_customer</th>\n",
              "      <th>clear_date</th>\n",
              "      <th>doc_id</th>\n",
              "      <th>document_create_date.1</th>\n",
              "      <th>due_in_date</th>\n",
              "      <th>total_open_amount</th>\n",
              "      <th>cust_payment_terms</th>\n",
              "      <th>business_code_str_part_U</th>\n",
              "      <th>business_code_str_part_CA</th>\n",
              "      <th>payment_delay_days</th>\n",
              "      <th>orig_payment_window_days</th>\n",
              "      <th>Total_no_days_taken</th>\n",
              "    </tr>\n",
              "  </thead>\n",
              "  <tbody>\n",
              "    <tr>\n",
              "      <th>0</th>\n",
              "      <td>1</td>\n",
              "      <td>0200331749</td>\n",
              "      <td>SYSC co</td>\n",
              "      <td>2019-11-18</td>\n",
              "      <td>1.930087e+09</td>\n",
              "      <td>2019-11-01</td>\n",
              "      <td>2019-11-16</td>\n",
              "      <td>43288.46</td>\n",
              "      <td>37265.08</td>\n",
              "      <td>1.0</td>\n",
              "      <td>0.0</td>\n",
              "      <td>2</td>\n",
              "      <td>15</td>\n",
              "      <td>17</td>\n",
              "    </tr>\n",
              "    <tr>\n",
              "      <th>1</th>\n",
              "      <td>1</td>\n",
              "      <td>200762301</td>\n",
              "      <td>C&amp;S WH systems</td>\n",
              "      <td>2019-04-11</td>\n",
              "      <td>1.929037e+09</td>\n",
              "      <td>2019-03-28</td>\n",
              "      <td>2019-04-12</td>\n",
              "      <td>3783.25</td>\n",
              "      <td>51880.03</td>\n",
              "      <td>1.0</td>\n",
              "      <td>0.0</td>\n",
              "      <td>-1</td>\n",
              "      <td>15</td>\n",
              "      <td>14</td>\n",
              "    </tr>\n",
              "    <tr>\n",
              "      <th>2</th>\n",
              "      <td>1</td>\n",
              "      <td>0200769623</td>\n",
              "      <td>WAL-MAR llc</td>\n",
              "      <td>2019-12-18</td>\n",
              "      <td>1.930223e+09</td>\n",
              "      <td>2019-12-07</td>\n",
              "      <td>2019-12-22</td>\n",
              "      <td>35.28</td>\n",
              "      <td>23476.07</td>\n",
              "      <td>1.0</td>\n",
              "      <td>0.0</td>\n",
              "      <td>-4</td>\n",
              "      <td>15</td>\n",
              "      <td>11</td>\n",
              "    </tr>\n",
              "    <tr>\n",
              "      <th>3</th>\n",
              "      <td>1</td>\n",
              "      <td>0200769623</td>\n",
              "      <td>WAL-MAR systems</td>\n",
              "      <td>2019-08-15</td>\n",
              "      <td>1.929703e+09</td>\n",
              "      <td>2019-08-05</td>\n",
              "      <td>2019-08-20</td>\n",
              "      <td>471.56</td>\n",
              "      <td>23476.07</td>\n",
              "      <td>1.0</td>\n",
              "      <td>0.0</td>\n",
              "      <td>-5</td>\n",
              "      <td>15</td>\n",
              "      <td>10</td>\n",
              "    </tr>\n",
              "    <tr>\n",
              "      <th>4</th>\n",
              "      <td>1</td>\n",
              "      <td>0200705089</td>\n",
              "      <td>JETR in</td>\n",
              "      <td>2019-11-04</td>\n",
              "      <td>1.930013e+09</td>\n",
              "      <td>2019-10-14</td>\n",
              "      <td>2019-10-29</td>\n",
              "      <td>916.09</td>\n",
              "      <td>37265.08</td>\n",
              "      <td>1.0</td>\n",
              "      <td>0.0</td>\n",
              "      <td>6</td>\n",
              "      <td>15</td>\n",
              "      <td>21</td>\n",
              "    </tr>\n",
              "  </tbody>\n",
              "</table>\n",
              "</div>"
            ],
            "text/plain": [
              "   business_code_int_part cust_number    name_customer clear_date  \\\n",
              "0                       1  0200331749          SYSC co 2019-11-18   \n",
              "1                       1   200762301   C&S WH systems 2019-04-11   \n",
              "2                       1  0200769623      WAL-MAR llc 2019-12-18   \n",
              "3                       1  0200769623  WAL-MAR systems 2019-08-15   \n",
              "4                       1  0200705089          JETR in 2019-11-04   \n",
              "\n",
              "         doc_id document_create_date.1 due_in_date  total_open_amount  \\\n",
              "0  1.930087e+09             2019-11-01  2019-11-16           43288.46   \n",
              "1  1.929037e+09             2019-03-28  2019-04-12            3783.25   \n",
              "2  1.930223e+09             2019-12-07  2019-12-22              35.28   \n",
              "3  1.929703e+09             2019-08-05  2019-08-20             471.56   \n",
              "4  1.930013e+09             2019-10-14  2019-10-29             916.09   \n",
              "\n",
              "   cust_payment_terms  business_code_str_part_U  business_code_str_part_CA  \\\n",
              "0            37265.08                       1.0                        0.0   \n",
              "1            51880.03                       1.0                        0.0   \n",
              "2            23476.07                       1.0                        0.0   \n",
              "3            23476.07                       1.0                        0.0   \n",
              "4            37265.08                       1.0                        0.0   \n",
              "\n",
              "   payment_delay_days  orig_payment_window_days  Total_no_days_taken  \n",
              "0                   2                        15                   17  \n",
              "1                  -1                        15                   14  \n",
              "2                  -4                        15                   11  \n",
              "3                  -5                        15                   10  \n",
              "4                   6                        15                   21  "
            ]
          },
          "metadata": {
            "tags": []
          },
          "execution_count": 130
        }
      ]
    },
    {
      "cell_type": "code",
      "metadata": {
        "colab": {
          "base_uri": "https://localhost:8080/"
        },
        "id": "x5r9KurpaHgi",
        "outputId": "61db9c4d-a40c-4e96-cd51-9d63441c32bd"
      },
      "source": [
        "temp.shape"
      ],
      "execution_count": 131,
      "outputs": [
        {
          "output_type": "execute_result",
          "data": {
            "text/plain": [
              "(39863, 14)"
            ]
          },
          "metadata": {
            "tags": []
          },
          "execution_count": 131
        }
      ]
    },
    {
      "cell_type": "code",
      "metadata": {
        "colab": {
          "base_uri": "https://localhost:8080/"
        },
        "id": "wbyJ6ea9alos",
        "outputId": "c3ccaa11-2119-4fe6-801b-7935810eb4aa"
      },
      "source": [
        "temp[temp[\"payment_delay_days\"] <= 0].shape, temp[temp[\"payment_delay_days\"] > 0].shape"
      ],
      "execution_count": 132,
      "outputs": [
        {
          "output_type": "execute_result",
          "data": {
            "text/plain": [
              "((23158, 14), (16705, 14))"
            ]
          },
          "metadata": {
            "tags": []
          },
          "execution_count": 132
        }
      ]
    },
    {
      "cell_type": "code",
      "metadata": {
        "colab": {
          "base_uri": "https://localhost:8080/"
        },
        "id": "emJkVyoObnaz",
        "outputId": "5f62b85e-8bdd-4e95-abe1-a9ef4efb0e71"
      },
      "source": [
        "temp[(temp[\"Total_no_days_taken\"] >= 200) | (temp[\"total_open_amount\"] >= 300000)].shape"
      ],
      "execution_count": 133,
      "outputs": [
        {
          "output_type": "execute_result",
          "data": {
            "text/plain": [
              "(21, 14)"
            ]
          },
          "metadata": {
            "tags": []
          },
          "execution_count": 133
        }
      ]
    },
    {
      "cell_type": "code",
      "metadata": {
        "colab": {
          "base_uri": "https://localhost:8080/",
          "height": 258
        },
        "id": "o4nKgXQKcdwO",
        "outputId": "3d6113bb-fa69-440c-e963-6cf82eeca032"
      },
      "source": [
        "temp = temp[(temp[\"Total_no_days_taken\"] < 160) & (temp[\"total_open_amount\"] < 300000)]\n",
        "temp.head()"
      ],
      "execution_count": 134,
      "outputs": [
        {
          "output_type": "execute_result",
          "data": {
            "text/html": [
              "<div>\n",
              "<style scoped>\n",
              "    .dataframe tbody tr th:only-of-type {\n",
              "        vertical-align: middle;\n",
              "    }\n",
              "\n",
              "    .dataframe tbody tr th {\n",
              "        vertical-align: top;\n",
              "    }\n",
              "\n",
              "    .dataframe thead th {\n",
              "        text-align: right;\n",
              "    }\n",
              "</style>\n",
              "<table border=\"1\" class=\"dataframe\">\n",
              "  <thead>\n",
              "    <tr style=\"text-align: right;\">\n",
              "      <th></th>\n",
              "      <th>business_code_int_part</th>\n",
              "      <th>cust_number</th>\n",
              "      <th>name_customer</th>\n",
              "      <th>clear_date</th>\n",
              "      <th>doc_id</th>\n",
              "      <th>document_create_date.1</th>\n",
              "      <th>due_in_date</th>\n",
              "      <th>total_open_amount</th>\n",
              "      <th>cust_payment_terms</th>\n",
              "      <th>business_code_str_part_U</th>\n",
              "      <th>business_code_str_part_CA</th>\n",
              "      <th>payment_delay_days</th>\n",
              "      <th>orig_payment_window_days</th>\n",
              "      <th>Total_no_days_taken</th>\n",
              "    </tr>\n",
              "  </thead>\n",
              "  <tbody>\n",
              "    <tr>\n",
              "      <th>0</th>\n",
              "      <td>1</td>\n",
              "      <td>0200331749</td>\n",
              "      <td>SYSC co</td>\n",
              "      <td>2019-11-18</td>\n",
              "      <td>1.930087e+09</td>\n",
              "      <td>2019-11-01</td>\n",
              "      <td>2019-11-16</td>\n",
              "      <td>43288.46</td>\n",
              "      <td>37265.08</td>\n",
              "      <td>1.0</td>\n",
              "      <td>0.0</td>\n",
              "      <td>2</td>\n",
              "      <td>15</td>\n",
              "      <td>17</td>\n",
              "    </tr>\n",
              "    <tr>\n",
              "      <th>1</th>\n",
              "      <td>1</td>\n",
              "      <td>200762301</td>\n",
              "      <td>C&amp;S WH systems</td>\n",
              "      <td>2019-04-11</td>\n",
              "      <td>1.929037e+09</td>\n",
              "      <td>2019-03-28</td>\n",
              "      <td>2019-04-12</td>\n",
              "      <td>3783.25</td>\n",
              "      <td>51880.03</td>\n",
              "      <td>1.0</td>\n",
              "      <td>0.0</td>\n",
              "      <td>-1</td>\n",
              "      <td>15</td>\n",
              "      <td>14</td>\n",
              "    </tr>\n",
              "    <tr>\n",
              "      <th>2</th>\n",
              "      <td>1</td>\n",
              "      <td>0200769623</td>\n",
              "      <td>WAL-MAR llc</td>\n",
              "      <td>2019-12-18</td>\n",
              "      <td>1.930223e+09</td>\n",
              "      <td>2019-12-07</td>\n",
              "      <td>2019-12-22</td>\n",
              "      <td>35.28</td>\n",
              "      <td>23476.07</td>\n",
              "      <td>1.0</td>\n",
              "      <td>0.0</td>\n",
              "      <td>-4</td>\n",
              "      <td>15</td>\n",
              "      <td>11</td>\n",
              "    </tr>\n",
              "    <tr>\n",
              "      <th>3</th>\n",
              "      <td>1</td>\n",
              "      <td>0200769623</td>\n",
              "      <td>WAL-MAR systems</td>\n",
              "      <td>2019-08-15</td>\n",
              "      <td>1.929703e+09</td>\n",
              "      <td>2019-08-05</td>\n",
              "      <td>2019-08-20</td>\n",
              "      <td>471.56</td>\n",
              "      <td>23476.07</td>\n",
              "      <td>1.0</td>\n",
              "      <td>0.0</td>\n",
              "      <td>-5</td>\n",
              "      <td>15</td>\n",
              "      <td>10</td>\n",
              "    </tr>\n",
              "    <tr>\n",
              "      <th>4</th>\n",
              "      <td>1</td>\n",
              "      <td>0200705089</td>\n",
              "      <td>JETR in</td>\n",
              "      <td>2019-11-04</td>\n",
              "      <td>1.930013e+09</td>\n",
              "      <td>2019-10-14</td>\n",
              "      <td>2019-10-29</td>\n",
              "      <td>916.09</td>\n",
              "      <td>37265.08</td>\n",
              "      <td>1.0</td>\n",
              "      <td>0.0</td>\n",
              "      <td>6</td>\n",
              "      <td>15</td>\n",
              "      <td>21</td>\n",
              "    </tr>\n",
              "  </tbody>\n",
              "</table>\n",
              "</div>"
            ],
            "text/plain": [
              "   business_code_int_part cust_number    name_customer clear_date  \\\n",
              "0                       1  0200331749          SYSC co 2019-11-18   \n",
              "1                       1   200762301   C&S WH systems 2019-04-11   \n",
              "2                       1  0200769623      WAL-MAR llc 2019-12-18   \n",
              "3                       1  0200769623  WAL-MAR systems 2019-08-15   \n",
              "4                       1  0200705089          JETR in 2019-11-04   \n",
              "\n",
              "         doc_id document_create_date.1 due_in_date  total_open_amount  \\\n",
              "0  1.930087e+09             2019-11-01  2019-11-16           43288.46   \n",
              "1  1.929037e+09             2019-03-28  2019-04-12            3783.25   \n",
              "2  1.930223e+09             2019-12-07  2019-12-22              35.28   \n",
              "3  1.929703e+09             2019-08-05  2019-08-20             471.56   \n",
              "4  1.930013e+09             2019-10-14  2019-10-29             916.09   \n",
              "\n",
              "   cust_payment_terms  business_code_str_part_U  business_code_str_part_CA  \\\n",
              "0            37265.08                       1.0                        0.0   \n",
              "1            51880.03                       1.0                        0.0   \n",
              "2            23476.07                       1.0                        0.0   \n",
              "3            23476.07                       1.0                        0.0   \n",
              "4            37265.08                       1.0                        0.0   \n",
              "\n",
              "   payment_delay_days  orig_payment_window_days  Total_no_days_taken  \n",
              "0                   2                        15                   17  \n",
              "1                  -1                        15                   14  \n",
              "2                  -4                        15                   11  \n",
              "3                  -5                        15                   10  \n",
              "4                   6                        15                   21  "
            ]
          },
          "metadata": {
            "tags": []
          },
          "execution_count": 134
        }
      ]
    },
    {
      "cell_type": "code",
      "metadata": {
        "colab": {
          "base_uri": "https://localhost:8080/",
          "height": 35
        },
        "id": "uOdrBB6Qcm0O",
        "outputId": "94afde13-1295-4105-cda7-5e3bdc9202ed"
      },
      "source": [
        "\"\"\" The different Ageing buckets will be :\n",
        "● 0-15 days\n",
        "● 16-30 days\n",
        "● 31-45 days\n",
        "● 46-60 days\n",
        "● Greater than 60 days\"\"\""
      ],
      "execution_count": 135,
      "outputs": [
        {
          "output_type": "execute_result",
          "data": {
            "application/vnd.google.colaboratory.intrinsic+json": {
              "type": "string"
            },
            "text/plain": [
              "' The different Ageing buckets will be :\\n● 0-15 days\\n● 16-30 days\\n● 31-45 days\\n● 46-60 days\\n● Greater than 60 days'"
            ]
          },
          "metadata": {
            "tags": []
          },
          "execution_count": 135
        }
      ]
    },
    {
      "cell_type": "code",
      "metadata": {
        "colab": {
          "base_uri": "https://localhost:8080/"
        },
        "id": "Gn6WtlfddJjy",
        "outputId": "2e763a1c-f371-44c5-d6a5-e70e78974a61"
      },
      "source": [
        "bin = [x * 15 for x in range(0,10,1)]\n",
        "bin"
      ],
      "execution_count": 136,
      "outputs": [
        {
          "output_type": "execute_result",
          "data": {
            "text/plain": [
              "[0, 15, 30, 45, 60, 75, 90, 105, 120, 135]"
            ]
          },
          "metadata": {
            "tags": []
          },
          "execution_count": 136
        }
      ]
    },
    {
      "cell_type": "code",
      "metadata": {
        "colab": {
          "base_uri": "https://localhost:8080/",
          "height": 436
        },
        "id": "e7dOxPrWdLBb",
        "outputId": "aa910bb5-4e85-4646-c449-bddc5611da11"
      },
      "source": [
        "plt.figure(figsize=(10,6), dpi=80)\n",
        "n, bins, patches = plt.hist(temp[\"Total_no_days_taken\"], bins = bin, rwidth = 0.9, facecolor='g', alpha=0.75)\n",
        "plt.xlabel(\"Total days taken to pay\")\n",
        "plt.ylabel(\"No. of invoices cleared\")\n",
        "plt.xticks(bin)\n",
        "plt.grid(True)\n",
        "plt.show()"
      ],
      "execution_count": 137,
      "outputs": [
        {
          "output_type": "display_data",
          "data": {
            "image/png": "[encoded data removed]",
            "text/plain": [
              "<Figure size 800x480 with 1 Axes>"
            ]
          },
          "metadata": {
            "tags": []
          }
        }
      ]
    },
    {
      "cell_type": "code",
      "metadata": {
        "id": "8xFudfSMdaj5"
      },
      "source": [
        "#This means majority of invoices are cleared within 40 days of creation"
      ],
      "execution_count": 138,
      "outputs": []
    },
    {
      "cell_type": "code",
      "metadata": {
        "id": "KFle3sMFdkZV"
      },
      "source": [
        "sns.set(rc={'figure.figsize':(12,10)})"
      ],
      "execution_count": 139,
      "outputs": []
    },
    {
      "cell_type": "code",
      "metadata": {
        "colab": {
          "base_uri": "https://localhost:8080/",
          "height": 761
        },
        "id": "W0ONM-U8dzv9",
        "outputId": "45f7b819-11da-4091-b35b-d8a897dc8ca2"
      },
      "source": [
        "sns.heatmap(temp.corr(), annot = True)"
      ],
      "execution_count": 140,
      "outputs": [
        {
          "output_type": "execute_result",
          "data": {
            "text/plain": [
              "<matplotlib.axes._subplots.AxesSubplot at 0x7ff6cdf47650>"
            ]
          },
          "metadata": {
            "tags": []
          },
          "execution_count": 140
        },
        {
          "output_type": "display_data",
          "data": {
            "image/png": "[encoded data removed]",
            "text/plain": [
              "<Figure size 864x720 with 2 Axes>"
            ]
          },
          "metadata": {
            "tags": []
          }
        }
      ]
    },
    {
      "cell_type": "code",
      "metadata": {
        "colab": {
          "base_uri": "https://localhost:8080/",
          "height": 258
        },
        "id": "C1yw4V00g9yD",
        "outputId": "4f9aedbf-6156-4f6d-e8c3-86a33b20cc9e"
      },
      "source": [
        "temp['create_month'] = pd.DatetimeIndex(temp['document_create_date.1']).month \n",
        "temp['create_weekDay'] = pd.DatetimeIndex(temp['document_create_date.1']).weekday \n",
        "temp['create_day'] = pd.DatetimeIndex(temp['document_create_date.1']).day\n",
        "temp['due_in_month'] = pd.DatetimeIndex(temp['due_in_date']).month \n",
        "temp['due_in_weekDay'] = pd.DatetimeIndex(temp['due_in_date']).weekday\n",
        "temp.head()"
      ],
      "execution_count": 141,
      "outputs": [
        {
          "output_type": "execute_result",
          "data": {
            "text/html": [
              "<div>\n",
              "<style scoped>\n",
              "    .dataframe tbody tr th:only-of-type {\n",
              "        vertical-align: middle;\n",
              "    }\n",
              "\n",
              "    .dataframe tbody tr th {\n",
              "        vertical-align: top;\n",
              "    }\n",
              "\n",
              "    .dataframe thead th {\n",
              "        text-align: right;\n",
              "    }\n",
              "</style>\n",
              "<table border=\"1\" class=\"dataframe\">\n",
              "  <thead>\n",
              "    <tr style=\"text-align: right;\">\n",
              "      <th></th>\n",
              "      <th>business_code_int_part</th>\n",
              "      <th>cust_number</th>\n",
              "      <th>name_customer</th>\n",
              "      <th>clear_date</th>\n",
              "      <th>doc_id</th>\n",
              "      <th>document_create_date.1</th>\n",
              "      <th>due_in_date</th>\n",
              "      <th>total_open_amount</th>\n",
              "      <th>cust_payment_terms</th>\n",
              "      <th>business_code_str_part_U</th>\n",
              "      <th>business_code_str_part_CA</th>\n",
              "      <th>payment_delay_days</th>\n",
              "      <th>orig_payment_window_days</th>\n",
              "      <th>Total_no_days_taken</th>\n",
              "      <th>create_month</th>\n",
              "      <th>create_weekDay</th>\n",
              "      <th>create_day</th>\n",
              "      <th>due_in_month</th>\n",
              "      <th>due_in_weekDay</th>\n",
              "    </tr>\n",
              "  </thead>\n",
              "  <tbody>\n",
              "    <tr>\n",
              "      <th>0</th>\n",
              "      <td>1</td>\n",
              "      <td>0200331749</td>\n",
              "      <td>SYSC co</td>\n",
              "      <td>2019-11-18</td>\n",
              "      <td>1.930087e+09</td>\n",
              "      <td>2019-11-01</td>\n",
              "      <td>2019-11-16</td>\n",
              "      <td>43288.46</td>\n",
              "      <td>37265.08</td>\n",
              "      <td>1.0</td>\n",
              "      <td>0.0</td>\n",
              "      <td>2</td>\n",
              "      <td>15</td>\n",
              "      <td>17</td>\n",
              "      <td>11</td>\n",
              "      <td>4</td>\n",
              "      <td>1</td>\n",
              "      <td>11</td>\n",
              "      <td>5</td>\n",
              "    </tr>\n",
              "    <tr>\n",
              "      <th>1</th>\n",
              "      <td>1</td>\n",
              "      <td>200762301</td>\n",
              "      <td>C&amp;S WH systems</td>\n",
              "      <td>2019-04-11</td>\n",
              "      <td>1.929037e+09</td>\n",
              "      <td>2019-03-28</td>\n",
              "      <td>2019-04-12</td>\n",
              "      <td>3783.25</td>\n",
              "      <td>51880.03</td>\n",
              "      <td>1.0</td>\n",
              "      <td>0.0</td>\n",
              "      <td>-1</td>\n",
              "      <td>15</td>\n",
              "      <td>14</td>\n",
              "      <td>3</td>\n",
              "      <td>3</td>\n",
              "      <td>28</td>\n",
              "      <td>4</td>\n",
              "      <td>4</td>\n",
              "    </tr>\n",
              "    <tr>\n",
              "      <th>2</th>\n",
              "      <td>1</td>\n",
              "      <td>0200769623</td>\n",
              "      <td>WAL-MAR llc</td>\n",
              "      <td>2019-12-18</td>\n",
              "      <td>1.930223e+09</td>\n",
              "      <td>2019-12-07</td>\n",
              "      <td>2019-12-22</td>\n",
              "      <td>35.28</td>\n",
              "      <td>23476.07</td>\n",
              "      <td>1.0</td>\n",
              "      <td>0.0</td>\n",
              "      <td>-4</td>\n",
              "      <td>15</td>\n",
              "      <td>11</td>\n",
              "      <td>12</td>\n",
              "      <td>5</td>\n",
              "      <td>7</td>\n",
              "      <td>12</td>\n",
              "      <td>6</td>\n",
              "    </tr>\n",
              "    <tr>\n",
              "      <th>3</th>\n",
              "      <td>1</td>\n",
              "      <td>0200769623</td>\n",
              "      <td>WAL-MAR systems</td>\n",
              "      <td>2019-08-15</td>\n",
              "      <td>1.929703e+09</td>\n",
              "      <td>2019-08-05</td>\n",
              "      <td>2019-08-20</td>\n",
              "      <td>471.56</td>\n",
              "      <td>23476.07</td>\n",
              "      <td>1.0</td>\n",
              "      <td>0.0</td>\n",
              "      <td>-5</td>\n",
              "      <td>15</td>\n",
              "      <td>10</td>\n",
              "      <td>8</td>\n",
              "      <td>0</td>\n",
              "      <td>5</td>\n",
              "      <td>8</td>\n",
              "      <td>1</td>\n",
              "    </tr>\n",
              "    <tr>\n",
              "      <th>4</th>\n",
              "      <td>1</td>\n",
              "      <td>0200705089</td>\n",
              "      <td>JETR in</td>\n",
              "      <td>2019-11-04</td>\n",
              "      <td>1.930013e+09</td>\n",
              "      <td>2019-10-14</td>\n",
              "      <td>2019-10-29</td>\n",
              "      <td>916.09</td>\n",
              "      <td>37265.08</td>\n",
              "      <td>1.0</td>\n",
              "      <td>0.0</td>\n",
              "      <td>6</td>\n",
              "      <td>15</td>\n",
              "      <td>21</td>\n",
              "      <td>10</td>\n",
              "      <td>0</td>\n",
              "      <td>14</td>\n",
              "      <td>10</td>\n",
              "      <td>1</td>\n",
              "    </tr>\n",
              "  </tbody>\n",
              "</table>\n",
              "</div>"
            ],
            "text/plain": [
              "   business_code_int_part cust_number    name_customer clear_date  \\\n",
              "0                       1  0200331749          SYSC co 2019-11-18   \n",
              "1                       1   200762301   C&S WH systems 2019-04-11   \n",
              "2                       1  0200769623      WAL-MAR llc 2019-12-18   \n",
              "3                       1  0200769623  WAL-MAR systems 2019-08-15   \n",
              "4                       1  0200705089          JETR in 2019-11-04   \n",
              "\n",
              "         doc_id document_create_date.1 due_in_date  total_open_amount  \\\n",
              "0  1.930087e+09             2019-11-01  2019-11-16           43288.46   \n",
              "1  1.929037e+09             2019-03-28  2019-04-12            3783.25   \n",
              "2  1.930223e+09             2019-12-07  2019-12-22              35.28   \n",
              "3  1.929703e+09             2019-08-05  2019-08-20             471.56   \n",
              "4  1.930013e+09             2019-10-14  2019-10-29             916.09   \n",
              "\n",
              "   cust_payment_terms  business_code_str_part_U  business_code_str_part_CA  \\\n",
              "0            37265.08                       1.0                        0.0   \n",
              "1            51880.03                       1.0                        0.0   \n",
              "2            23476.07                       1.0                        0.0   \n",
              "3            23476.07                       1.0                        0.0   \n",
              "4            37265.08                       1.0                        0.0   \n",
              "\n",
              "   payment_delay_days  orig_payment_window_days  Total_no_days_taken  \\\n",
              "0                   2                        15                   17   \n",
              "1                  -1                        15                   14   \n",
              "2                  -4                        15                   11   \n",
              "3                  -5                        15                   10   \n",
              "4                   6                        15                   21   \n",
              "\n",
              "   create_month  create_weekDay  create_day  due_in_month  due_in_weekDay  \n",
              "0            11               4           1            11               5  \n",
              "1             3               3          28             4               4  \n",
              "2            12               5           7            12               6  \n",
              "3             8               0           5             8               1  \n",
              "4            10               0          14            10               1  "
            ]
          },
          "metadata": {
            "tags": []
          },
          "execution_count": 141
        }
      ]
    },
    {
      "cell_type": "code",
      "metadata": {
        "colab": {
          "base_uri": "https://localhost:8080/",
          "height": 275
        },
        "id": "JJX2PFpVixjz",
        "outputId": "4d1833da-a0d8-4566-a7af-ff6dc33cd1c1"
      },
      "source": [
        "dfValidation['create_month'] = pd.DatetimeIndex(dfValidation['document_create_date.1']).month \n",
        "dfValidation['create_weekDay'] = pd.DatetimeIndex(dfValidation['document_create_date.1']).weekday \n",
        "dfValidation['create_day'] = pd.DatetimeIndex(dfValidation['document_create_date.1']).day\n",
        "dfValidation['due_in_month'] = pd.DatetimeIndex(dfValidation['due_in_date']).month \n",
        "dfValidation['due_in_weekDay'] = pd.DatetimeIndex(dfValidation['due_in_date']).weekday\n",
        "dfValidation.head()"
      ],
      "execution_count": 142,
      "outputs": [
        {
          "output_type": "execute_result",
          "data": {
            "text/html": [
              "<div>\n",
              "<style scoped>\n",
              "    .dataframe tbody tr th:only-of-type {\n",
              "        vertical-align: middle;\n",
              "    }\n",
              "\n",
              "    .dataframe tbody tr th {\n",
              "        vertical-align: top;\n",
              "    }\n",
              "\n",
              "    .dataframe thead th {\n",
              "        text-align: right;\n",
              "    }\n",
              "</style>\n",
              "<table border=\"1\" class=\"dataframe\">\n",
              "  <thead>\n",
              "    <tr style=\"text-align: right;\">\n",
              "      <th></th>\n",
              "      <th>business_code_int_part</th>\n",
              "      <th>cust_number</th>\n",
              "      <th>name_customer</th>\n",
              "      <th>clear_date</th>\n",
              "      <th>doc_id</th>\n",
              "      <th>document_create_date.1</th>\n",
              "      <th>due_in_date</th>\n",
              "      <th>total_open_amount</th>\n",
              "      <th>cust_payment_terms</th>\n",
              "      <th>business_code_str_part_U</th>\n",
              "      <th>business_code_str_part_CA</th>\n",
              "      <th>create_month</th>\n",
              "      <th>create_weekDay</th>\n",
              "      <th>create_day</th>\n",
              "      <th>due_in_month</th>\n",
              "      <th>due_in_weekDay</th>\n",
              "    </tr>\n",
              "  </thead>\n",
              "  <tbody>\n",
              "    <tr>\n",
              "      <th>0</th>\n",
              "      <td>2</td>\n",
              "      <td>0140105847</td>\n",
              "      <td>GORDON F corp</td>\n",
              "      <td>2019-06-07</td>\n",
              "      <td>2.960550e+09</td>\n",
              "      <td>2019-05-23</td>\n",
              "      <td>2019-06-03</td>\n",
              "      <td>30263.556535</td>\n",
              "      <td>44916.45</td>\n",
              "      <td>0.0</td>\n",
              "      <td>1.0</td>\n",
              "      <td>5</td>\n",
              "      <td>3</td>\n",
              "      <td>23</td>\n",
              "      <td>6</td>\n",
              "      <td>0</td>\n",
              "    </tr>\n",
              "    <tr>\n",
              "      <th>1</th>\n",
              "      <td>1</td>\n",
              "      <td>0200782001</td>\n",
              "      <td>GORDO trust</td>\n",
              "      <td>2019-11-06</td>\n",
              "      <td>1.930050e+09</td>\n",
              "      <td>2019-10-24</td>\n",
              "      <td>2019-11-08</td>\n",
              "      <td>42389.530000</td>\n",
              "      <td>37265.08</td>\n",
              "      <td>1.0</td>\n",
              "      <td>0.0</td>\n",
              "      <td>10</td>\n",
              "      <td>3</td>\n",
              "      <td>24</td>\n",
              "      <td>11</td>\n",
              "      <td>4</td>\n",
              "    </tr>\n",
              "    <tr>\n",
              "      <th>2</th>\n",
              "      <td>1</td>\n",
              "      <td>0200749225</td>\n",
              "      <td>SUPER  associates</td>\n",
              "      <td>2019-09-12</td>\n",
              "      <td>1.929808e+09</td>\n",
              "      <td>2019-08-28</td>\n",
              "      <td>2019-09-12</td>\n",
              "      <td>9952.730000</td>\n",
              "      <td>37265.08</td>\n",
              "      <td>1.0</td>\n",
              "      <td>0.0</td>\n",
              "      <td>8</td>\n",
              "      <td>2</td>\n",
              "      <td>28</td>\n",
              "      <td>9</td>\n",
              "      <td>3</td>\n",
              "    </tr>\n",
              "    <tr>\n",
              "      <th>3</th>\n",
              "      <td>1</td>\n",
              "      <td>0200772670</td>\n",
              "      <td>ASSOCIAT corporation</td>\n",
              "      <td>2019-10-07</td>\n",
              "      <td>1.929583e+09</td>\n",
              "      <td>2019-07-06</td>\n",
              "      <td>2019-10-04</td>\n",
              "      <td>6516.290000</td>\n",
              "      <td>4183.07</td>\n",
              "      <td>1.0</td>\n",
              "      <td>0.0</td>\n",
              "      <td>7</td>\n",
              "      <td>5</td>\n",
              "      <td>6</td>\n",
              "      <td>10</td>\n",
              "      <td>4</td>\n",
              "    </tr>\n",
              "    <tr>\n",
              "      <th>4</th>\n",
              "      <td>1</td>\n",
              "      <td>0200936373</td>\n",
              "      <td>SUPE us</td>\n",
              "      <td>2020-02-13</td>\n",
              "      <td>1.930443e+09</td>\n",
              "      <td>2020-01-29</td>\n",
              "      <td>2020-02-13</td>\n",
              "      <td>91534.760000</td>\n",
              "      <td>37265.08</td>\n",
              "      <td>1.0</td>\n",
              "      <td>0.0</td>\n",
              "      <td>1</td>\n",
              "      <td>2</td>\n",
              "      <td>29</td>\n",
              "      <td>2</td>\n",
              "      <td>3</td>\n",
              "    </tr>\n",
              "  </tbody>\n",
              "</table>\n",
              "</div>"
            ],
            "text/plain": [
              "   business_code_int_part cust_number         name_customer clear_date  \\\n",
              "0                       2  0140105847         GORDON F corp 2019-06-07   \n",
              "1                       1  0200782001           GORDO trust 2019-11-06   \n",
              "2                       1  0200749225     SUPER  associates 2019-09-12   \n",
              "3                       1  0200772670  ASSOCIAT corporation 2019-10-07   \n",
              "4                       1  0200936373               SUPE us 2020-02-13   \n",
              "\n",
              "         doc_id document_create_date.1 due_in_date  total_open_amount  \\\n",
              "0  2.960550e+09             2019-05-23  2019-06-03       30263.556535   \n",
              "1  1.930050e+09             2019-10-24  2019-11-08       42389.530000   \n",
              "2  1.929808e+09             2019-08-28  2019-09-12        9952.730000   \n",
              "3  1.929583e+09             2019-07-06  2019-10-04        6516.290000   \n",
              "4  1.930443e+09             2020-01-29  2020-02-13       91534.760000   \n",
              "\n",
              "   cust_payment_terms  business_code_str_part_U  business_code_str_part_CA  \\\n",
              "0            44916.45                       0.0                        1.0   \n",
              "1            37265.08                       1.0                        0.0   \n",
              "2            37265.08                       1.0                        0.0   \n",
              "3             4183.07                       1.0                        0.0   \n",
              "4            37265.08                       1.0                        0.0   \n",
              "\n",
              "   create_month  create_weekDay  create_day  due_in_month  due_in_weekDay  \n",
              "0             5               3          23             6               0  \n",
              "1            10               3          24            11               4  \n",
              "2             8               2          28             9               3  \n",
              "3             7               5           6            10               4  \n",
              "4             1               2          29             2               3  "
            ]
          },
          "metadata": {
            "tags": []
          },
          "execution_count": 142
        }
      ]
    },
    {
      "cell_type": "code",
      "metadata": {
        "colab": {
          "base_uri": "https://localhost:8080/",
          "height": 275
        },
        "id": "3tpBwva6pJQp",
        "outputId": "7b58da3b-b6f0-47ef-b8c0-78cd898af450"
      },
      "source": [
        "dfTest['create_month'] = pd.DatetimeIndex(dfTest['document_create_date.1']).month \n",
        "dfTest['create_weekDay'] = pd.DatetimeIndex(dfTest['document_create_date.1']).weekday \n",
        "dfTest['create_day'] = pd.DatetimeIndex(dfTest['document_create_date.1']).day\n",
        "dfTest['due_in_month'] = pd.DatetimeIndex(dfTest['due_in_date']).month \n",
        "dfTest['due_in_weekDay'] = pd.DatetimeIndex(dfTest['due_in_date']).weekday\n",
        "dfTest.head()"
      ],
      "execution_count": 143,
      "outputs": [
        {
          "output_type": "execute_result",
          "data": {
            "text/html": [
              "<div>\n",
              "<style scoped>\n",
              "    .dataframe tbody tr th:only-of-type {\n",
              "        vertical-align: middle;\n",
              "    }\n",
              "\n",
              "    .dataframe tbody tr th {\n",
              "        vertical-align: top;\n",
              "    }\n",
              "\n",
              "    .dataframe thead th {\n",
              "        text-align: right;\n",
              "    }\n",
              "</style>\n",
              "<table border=\"1\" class=\"dataframe\">\n",
              "  <thead>\n",
              "    <tr style=\"text-align: right;\">\n",
              "      <th></th>\n",
              "      <th>business_code_int_part</th>\n",
              "      <th>cust_number</th>\n",
              "      <th>name_customer</th>\n",
              "      <th>clear_date</th>\n",
              "      <th>doc_id</th>\n",
              "      <th>document_create_date.1</th>\n",
              "      <th>due_in_date</th>\n",
              "      <th>total_open_amount</th>\n",
              "      <th>cust_payment_terms</th>\n",
              "      <th>business_code_str_part_U</th>\n",
              "      <th>business_code_str_part_CA</th>\n",
              "      <th>create_month</th>\n",
              "      <th>create_weekDay</th>\n",
              "      <th>create_day</th>\n",
              "      <th>due_in_month</th>\n",
              "      <th>due_in_weekDay</th>\n",
              "    </tr>\n",
              "  </thead>\n",
              "  <tbody>\n",
              "    <tr>\n",
              "      <th>0</th>\n",
              "      <td>1</td>\n",
              "      <td>0200769623</td>\n",
              "      <td>WAL-MAR associates</td>\n",
              "      <td>NaT</td>\n",
              "      <td>1.930622e+09</td>\n",
              "      <td>2020-03-09</td>\n",
              "      <td>2020-03-24</td>\n",
              "      <td>14396.96</td>\n",
              "      <td>23476.07</td>\n",
              "      <td>1.0</td>\n",
              "      <td>0.0</td>\n",
              "      <td>3</td>\n",
              "      <td>0</td>\n",
              "      <td>9</td>\n",
              "      <td>3</td>\n",
              "      <td>1</td>\n",
              "    </tr>\n",
              "    <tr>\n",
              "      <th>1</th>\n",
              "      <td>1</td>\n",
              "      <td>0200729942</td>\n",
              "      <td>SA systems</td>\n",
              "      <td>NaT</td>\n",
              "      <td>1.930810e+09</td>\n",
              "      <td>2020-04-21</td>\n",
              "      <td>2020-05-06</td>\n",
              "      <td>11629.96</td>\n",
              "      <td>37265.08</td>\n",
              "      <td>1.0</td>\n",
              "      <td>0.0</td>\n",
              "      <td>4</td>\n",
              "      <td>1</td>\n",
              "      <td>21</td>\n",
              "      <td>5</td>\n",
              "      <td>2</td>\n",
              "    </tr>\n",
              "    <tr>\n",
              "      <th>2</th>\n",
              "      <td>1</td>\n",
              "      <td>0200769623</td>\n",
              "      <td>WAL-MAR associates</td>\n",
              "      <td>NaT</td>\n",
              "      <td>1.930711e+09</td>\n",
              "      <td>2020-03-29</td>\n",
              "      <td>2020-04-13</td>\n",
              "      <td>355.93</td>\n",
              "      <td>23476.07</td>\n",
              "      <td>1.0</td>\n",
              "      <td>0.0</td>\n",
              "      <td>3</td>\n",
              "      <td>6</td>\n",
              "      <td>29</td>\n",
              "      <td>4</td>\n",
              "      <td>0</td>\n",
              "    </tr>\n",
              "    <tr>\n",
              "      <th>3</th>\n",
              "      <td>1</td>\n",
              "      <td>0200418007</td>\n",
              "      <td>AM foundation</td>\n",
              "      <td>NaT</td>\n",
              "      <td>1.930717e+09</td>\n",
              "      <td>2020-03-29</td>\n",
              "      <td>2020-06-02</td>\n",
              "      <td>7263.36</td>\n",
              "      <td>13934.45</td>\n",
              "      <td>1.0</td>\n",
              "      <td>0.0</td>\n",
              "      <td>3</td>\n",
              "      <td>6</td>\n",
              "      <td>29</td>\n",
              "      <td>6</td>\n",
              "      <td>1</td>\n",
              "    </tr>\n",
              "    <tr>\n",
              "      <th>4</th>\n",
              "      <td>1</td>\n",
              "      <td>0200794332</td>\n",
              "      <td>COST associates</td>\n",
              "      <td>NaT</td>\n",
              "      <td>1.930595e+09</td>\n",
              "      <td>2020-03-04</td>\n",
              "      <td>2020-03-19</td>\n",
              "      <td>39259.89</td>\n",
              "      <td>24099.21</td>\n",
              "      <td>1.0</td>\n",
              "      <td>0.0</td>\n",
              "      <td>3</td>\n",
              "      <td>2</td>\n",
              "      <td>4</td>\n",
              "      <td>3</td>\n",
              "      <td>3</td>\n",
              "    </tr>\n",
              "  </tbody>\n",
              "</table>\n",
              "</div>"
            ],
            "text/plain": [
              "   business_code_int_part cust_number       name_customer clear_date  \\\n",
              "0                       1  0200769623  WAL-MAR associates        NaT   \n",
              "1                       1  0200729942          SA systems        NaT   \n",
              "2                       1  0200769623  WAL-MAR associates        NaT   \n",
              "3                       1  0200418007       AM foundation        NaT   \n",
              "4                       1  0200794332     COST associates        NaT   \n",
              "\n",
              "         doc_id document_create_date.1 due_in_date  total_open_amount  \\\n",
              "0  1.930622e+09             2020-03-09  2020-03-24           14396.96   \n",
              "1  1.930810e+09             2020-04-21  2020-05-06           11629.96   \n",
              "2  1.930711e+09             2020-03-29  2020-04-13             355.93   \n",
              "3  1.930717e+09             2020-03-29  2020-06-02            7263.36   \n",
              "4  1.930595e+09             2020-03-04  2020-03-19           39259.89   \n",
              "\n",
              "   cust_payment_terms  business_code_str_part_U  business_code_str_part_CA  \\\n",
              "0            23476.07                       1.0                        0.0   \n",
              "1            37265.08                       1.0                        0.0   \n",
              "2            23476.07                       1.0                        0.0   \n",
              "3            13934.45                       1.0                        0.0   \n",
              "4            24099.21                       1.0                        0.0   \n",
              "\n",
              "   create_month  create_weekDay  create_day  due_in_month  due_in_weekDay  \n",
              "0             3               0           9             3               1  \n",
              "1             4               1          21             5               2  \n",
              "2             3               6          29             4               0  \n",
              "3             3               6          29             6               1  \n",
              "4             3               2           4             3               3  "
            ]
          },
          "metadata": {
            "tags": []
          },
          "execution_count": 143
        }
      ]
    },
    {
      "cell_type": "code",
      "metadata": {
        "colab": {
          "base_uri": "https://localhost:8080/"
        },
        "id": "sAOMaaYzd0Va",
        "outputId": "699de570-4413-4946-cfa1-254c98854c03"
      },
      "source": [
        "temp['payment_delay_days'].describe()"
      ],
      "execution_count": 144,
      "outputs": [
        {
          "output_type": "execute_result",
          "data": {
            "text/plain": [
              "count    39838.000000\n",
              "mean         0.848838\n",
              "std         10.461276\n",
              "min        -98.000000\n",
              "25%         -3.000000\n",
              "50%          0.000000\n",
              "75%          2.000000\n",
              "max        159.000000\n",
              "Name: payment_delay_days, dtype: float64"
            ]
          },
          "metadata": {
            "tags": []
          },
          "execution_count": 144
        }
      ]
    },
    {
      "cell_type": "markdown",
      "metadata": {
        "id": "zLb706WUfUFe"
      },
      "source": [
        "In order to see how is the distribution we can use sb.distplot to plot it"
      ]
    },
    {
      "cell_type": "code",
      "metadata": {
        "colab": {
          "base_uri": "https://localhost:8080/"
        },
        "id": "cOPXqCx7fU7z",
        "outputId": "9c406a3b-4581-498c-9a63-b6618a6ecf40"
      },
      "source": [
        "temp.corr().loc['payment_delay_days',:]"
      ],
      "execution_count": 145,
      "outputs": [
        {
          "output_type": "execute_result",
          "data": {
            "text/plain": [
              "business_code_int_part       0.111324\n",
              "doc_id                       0.140365\n",
              "total_open_amount            0.000976\n",
              "cust_payment_terms           0.128060\n",
              "business_code_str_part_U    -0.137838\n",
              "business_code_str_part_CA    0.137838\n",
              "payment_delay_days           1.000000\n",
              "orig_payment_window_days    -0.208123\n",
              "Total_no_days_taken          0.630541\n",
              "create_month                -0.033964\n",
              "create_weekDay              -0.003887\n",
              "create_day                  -0.011181\n",
              "due_in_month                -0.035841\n",
              "due_in_weekDay               0.018104\n",
              "Name: payment_delay_days, dtype: float64"
            ]
          },
          "metadata": {
            "tags": []
          },
          "execution_count": 145
        }
      ]
    },
    {
      "cell_type": "code",
      "metadata": {
        "colab": {
          "base_uri": "https://localhost:8080/",
          "height": 684
        },
        "id": "6bdsDLGrfdO3",
        "outputId": "5a875cef-14df-4b9a-958a-fa339463ae81"
      },
      "source": [
        "sns.distplot(temp['payment_delay_days'])"
      ],
      "execution_count": 146,
      "outputs": [
        {
          "output_type": "stream",
          "text": [
            "/usr/local/lib/python3.7/dist-packages/seaborn/distributions.py:2557: FutureWarning: `distplot` is a deprecated function and will be removed in a future version. Please adapt your code to use either `displot` (a figure-level function with similar flexibility) or `histplot` (an axes-level function for histograms).\n",
            "  warnings.warn(msg, FutureWarning)\n"
          ],
          "name": "stderr"
        },
        {
          "output_type": "execute_result",
          "data": {
            "text/plain": [
              "<matplotlib.axes._subplots.AxesSubplot at 0x7ff6b9a56210>"
            ]
          },
          "metadata": {
            "tags": []
          },
          "execution_count": 146
        },
        {
          "output_type": "display_data",
          "data": {
            "image/png": "[encoded data removed]",
            "text/plain": [
              "<Figure size 864x720 with 1 Axes>"
            ]
          },
          "metadata": {
            "tags": []
          }
        }
      ]
    },
    {
      "cell_type": "code",
      "metadata": {
        "id": "rPWZJEz-f-9S"
      },
      "source": [
        "plt.figure(figsize=(20,5))\n",
        "sns.lineplot(x=temp['document_create_date.1'], y=temp['payment_delay_days'])\n",
        "plt.show()"
      ],
      "execution_count": null,
      "outputs": []
    },
    {
      "cell_type": "code",
      "metadata": {
        "id": "JB01fqRvfmN9"
      },
      "source": [
        "sns.lineplot(x=temp['payment_delay_days'],y=temp['total_open_amount'])\n",
        "plt.show()"
      ],
      "execution_count": null,
      "outputs": []
    },
    {
      "cell_type": "code",
      "metadata": {
        "id": "UMcUeES5giyD"
      },
      "source": [
        "sns.scatterplot(temp['due_in_weekDay'],temp['payment_delay_days'])\n",
        "plt.show()"
      ],
      "execution_count": null,
      "outputs": []
    },
    {
      "cell_type": "code",
      "metadata": {
        "id": "2P2Q8v1qgvAi"
      },
      "source": [
        "sns.barplot(x=temp['document_create_date.1'], y=temp['payment_delay_days'])\n",
        "plt.show()"
      ],
      "execution_count": null,
      "outputs": []
    },
    {
      "cell_type": "code",
      "metadata": {
        "id": "9nNR7S87h7GG"
      },
      "source": [
        "corr=temp.corr()\n",
        "plt.figure(figsize=(20,10))\n",
        "sns.heatmap(corr,annot=True)\n",
        "plt.show()"
      ],
      "execution_count": null,
      "outputs": []
    },
    {
      "cell_type": "code",
      "metadata": {
        "id": "mf11T6pvqJVU"
      },
      "source": [
        "temp.columns"
      ],
      "execution_count": null,
      "outputs": []
    },
    {
      "cell_type": "code",
      "metadata": {
        "id": "EppeLc0NinHg"
      },
      "source": [
        "tui_df = temp.drop(columns = [\"cust_number\", \"name_customer\"]).copy()\n",
        "tui_df.columns"
      ],
      "execution_count": null,
      "outputs": []
    },
    {
      "cell_type": "code",
      "metadata": {
        "id": "TQQTVGwIi95Y"
      },
      "source": [
        "tui_df.head()"
      ],
      "execution_count": null,
      "outputs": []
    },
    {
      "cell_type": "code",
      "metadata": {
        "id": "UWpICNIyjaAY"
      },
      "source": [
        "#tui_df[\"payment_delay_days\"] = tui_df[\"clear_date\"].sub(tui_df[\"due_in_date\"]).dt.days.copy()\n",
        "#tui_df[\"orig_payment_window_days\"] = tui_df[\"due_in_date\"].sub(tui_df[\"document_create_date.1\"]).dt.days.copy()"
      ],
      "execution_count": null,
      "outputs": []
    },
    {
      "cell_type": "code",
      "metadata": {
        "id": "k6VmdNTRjreD"
      },
      "source": [
        "tui_df_Y = tui_df[\"payment_delay_days\"]\n",
        "tui_df_X = tui_df.drop(columns = [\"payment_delay_days\", \"clear_date\", \"document_create_date.1\", \"due_in_date\"]).copy()"
      ],
      "execution_count": null,
      "outputs": []
    },
    {
      "cell_type": "code",
      "metadata": {
        "id": "IuflEAZ5kaPz"
      },
      "source": [
        "dfValidation[\"Total_no_days_taken\"]=dfValidation[\"clear_date\"].sub(dfValidation[\"document_create_date.1\"]).dt.days.copy()\n",
        "tui_val1_df = dfValidation.drop(columns = [\"cust_number\", \"name_customer\"]).copy()\n",
        "\n",
        "\n",
        "tui_val1_df[\"total_open_amount\"] = tui_val1_df[\"total_open_amount\"].map(lambda x : round(x, 2))\n",
        "tui_val1_df[\"payment_delay_days\"] = tui_val1_df[\"clear_date\"].sub(tui_val1_df[\"due_in_date\"]).dt.days.copy()\n",
        "tui_val1_df[\"orig_payment_window_days\"] = tui_val1_df[\"due_in_date\"].sub(tui_val1_df[\"document_create_date.1\"]).dt.days.copy()\n",
        "\n",
        "tui_val1_df_Y = tui_val1_df[\"payment_delay_days\"]\n",
        "tui_val1_df_X = tui_val1_df.drop(columns = [\"payment_delay_days\", \"clear_date\", \"document_create_date.1\", \"due_in_date\"]).copy()"
      ],
      "execution_count": null,
      "outputs": []
    },
    {
      "cell_type": "code",
      "metadata": {
        "id": "G7RltTXarmmi"
      },
      "source": [
        "dfTest.head()"
      ],
      "execution_count": null,
      "outputs": []
    },
    {
      "cell_type": "code",
      "metadata": {
        "id": "3E67b0cioYyU"
      },
      "source": [
        "#from datetime import date\n",
        "dfTest[\"Total_no_days_taken\"]=dfTest[\"due_in_date\"].sub(dfTest[\"document_create_date.1\"]).dt.days.copy()\n",
        "\n",
        "tui_test1_df = dfTest.drop(columns = [\"cust_number\", \"name_customer\"]).copy()\n",
        "\n",
        "\n",
        "tui_test1_df[\"total_open_amount\"] = tui_test1_df[\"total_open_amount\"].map(lambda x : round(x, 2))\n",
        "tui_test1_df[\"orig_payment_window_days\"] = tui_test1_df[\"due_in_date\"].sub(tui_test1_df[\"document_create_date.1\"]).dt.days.copy()\n",
        "\n",
        "tui_test1_df_X = tui_test1_df.drop(columns = [\"clear_date\", \"document_create_date.1\", \"due_in_date\"]).copy()\n"
      ],
      "execution_count": null,
      "outputs": []
    },
    {
      "cell_type": "code",
      "metadata": {
        "id": "zchl-4-sktIR"
      },
      "source": [
        "from sklearn.linear_model import LinearRegression\n",
        "from sklearn.svm import SVR\n",
        "from sklearn.tree import DecisionTreeRegressor\n",
        "from sklearn.ensemble import RandomForestRegressor\n",
        "import xgboost as xgb\n",
        "from sklearn.datasets import load_boston\n",
        "from sklearn.metrics import mean_squared_error\n",
        "from sklearn.metrics import r2_score"
      ],
      "execution_count": null,
      "outputs": []
    },
    {
      "cell_type": "code",
      "metadata": {
        "id": "JMY8N1I_kvVE"
      },
      "source": [
        "MSE_Score = []\n",
        "R2_Score = []\n",
        "Algorithm = []"
      ],
      "execution_count": null,
      "outputs": []
    },
    {
      "cell_type": "code",
      "metadata": {
        "id": "btmyk3jNkxZf"
      },
      "source": [
        "X_train = tui_df_X.copy()\n",
        "y_train = tui_df_Y.copy()\n",
        "X_test = tui_val1_df_X.copy()\n",
        "y_test = tui_val1_df_Y.copy()\n",
        "X_finaltest = tui_test1_df_X.copy()"
      ],
      "execution_count": null,
      "outputs": []
    },
    {
      "cell_type": "code",
      "metadata": {
        "id": "vn6TthpBc_BM"
      },
      "source": [
        "X_test.head()"
      ],
      "execution_count": null,
      "outputs": []
    },
    {
      "cell_type": "code",
      "metadata": {
        "id": "rKSeWraWifpT"
      },
      "source": [
        "X_train.head()"
      ],
      "execution_count": null,
      "outputs": []
    },
    {
      "cell_type": "code",
      "metadata": {
        "id": "qkrh_7ZfdC_f"
      },
      "source": [
        "y_test.head()"
      ],
      "execution_count": null,
      "outputs": []
    },
    {
      "cell_type": "code",
      "metadata": {
        "id": "B79aq65OkHfZ"
      },
      "source": [
        "y_train.head()"
      ],
      "execution_count": null,
      "outputs": []
    },
    {
      "cell_type": "code",
      "metadata": {
        "id": "rEa4ExmskKkg"
      },
      "source": [
        "X_train.sort_index(inplace=True,axis=1)\n",
        "X_test.sort_index(inplace=True,axis=1)\n",
        "X_finaltest.sort_index(inplace=True,axis=1)\n"
      ],
      "execution_count": null,
      "outputs": []
    },
    {
      "cell_type": "code",
      "metadata": {
        "id": "uwDdspFUkjzs"
      },
      "source": [
        "X_train.head()"
      ],
      "execution_count": null,
      "outputs": []
    },
    {
      "cell_type": "code",
      "metadata": {
        "id": "89vAIwv5kk9P"
      },
      "source": [
        "X_test.head()"
      ],
      "execution_count": null,
      "outputs": []
    },
    {
      "cell_type": "code",
      "metadata": {
        "id": "VpwJtgp-tRqK"
      },
      "source": [
        "X_finaltest.head()"
      ],
      "execution_count": null,
      "outputs": []
    },
    {
      "cell_type": "code",
      "metadata": {
        "id": "4G-t0yiGk5iR"
      },
      "source": [
        "### **1. Linear Regression**\n",
        "\n",
        "# Fitting Simple Linear Regression to the Training Set\n",
        "Algorithm.append('Linear Regression')\n",
        "clf = LinearRegression()\n",
        "clf.fit(X_train, y_train)\n",
        "\n",
        "# Predicting the Test Set Results\n",
        "predicted = clf.predict(X_test)\n",
        "\n",
        "# Appending the Scores For Visualisation at a Later Part\n",
        "MSE_Score.append(mean_squared_error(y_test, predicted))\n",
        "R2_Score.append(r2_score(y_test, predicted))\n",
        "\n",
        "### **2. Support Vector Regression**\n",
        "\n",
        "# Fitting SVR to the Training Set\n",
        "Algorithm.append('Support Vector Regression')\n",
        "clf = SVR()\n",
        "clf.fit(X_train, y_train)\n",
        "\n",
        "# Predicting the Test Set Results\n",
        "predicted = clf.predict(X_test)\n",
        "\n",
        "# Appending the Scores For Visualisation at a Later Part\n",
        "MSE_Score.append(mean_squared_error(y_test, predicted))\n",
        "R2_Score.append(r2_score(y_test, predicted))\n",
        "\n",
        "### **3. Decision Tree Regressor**\n",
        "\n",
        "# Fitting Decision Tree to the Training Set\n",
        "Algorithm.append('Decision Tree Regressor')\n",
        "clf = DecisionTreeRegressor()\n",
        "clf.fit(X_train, y_train)\n",
        "\n",
        "# Predicting the Test Set Results\n",
        "predicted = clf.predict(X_test)\n",
        "\n",
        "# Appending the Scores For Visualisation at a Later Part\n",
        "MSE_Score.append(mean_squared_error(y_test, predicted))\n",
        "R2_Score.append(r2_score(y_test, predicted))\n",
        "\n",
        "### **4. Random Forest Regressor**\n",
        "\n",
        "# Fitting Random Forest Regressor Tree to the Training Set\n",
        "Algorithm.append('Random Forest Regressor')\n",
        "clf = RandomForestRegressor()\n",
        "clf.fit(X_train, y_train)\n",
        "\n",
        "# Predicting the Test Set Results\n",
        "predicted = clf.predict(X_test)\n",
        "\n",
        "# Appending the Scores For Visualisation at a Later Part\n",
        "MSE_Score.append(mean_squared_error(y_test, predicted))\n",
        "R2_Score.append(r2_score(y_test, predicted))\n",
        "\n",
        "### **5. XGB Regressor**\n",
        "\n",
        "# Fitting XGBoost Regressor to the Training Set\n",
        "Algorithm.append('XGB Regressor')\n",
        "clf = xgb.XGBRegressor()\n",
        "clf.fit(X_train, y_train)\n",
        "\n",
        "# Predicting the Test Set Results\n",
        "predicted = clf.predict(X_test)\n",
        "\n",
        "# Appending the Scores For Visualisation at a Later Part\n",
        "MSE_Score.append(mean_squared_error(y_test, predicted))\n",
        "R2_Score.append(r2_score(y_test, predicted))\n",
        "\n",
        "## Score Card of the Models' Performances\n",
        "\n",
        "# Just Combining the Lists into a DataFrame for a Better Visualisation\n",
        "Comparison = pd.DataFrame(list(zip(Algorithm, MSE_Score, R2_Score)), columns = ['Algorithm', 'MSE_Score', 'R2_Score'])\n",
        "\n",
        "# Score Card\n",
        "Comparison"
      ],
      "execution_count": null,
      "outputs": []
    },
    {
      "cell_type": "code",
      "metadata": {
        "id": "vbWChaUXk7qF"
      },
      "source": [
        "#choosing Decision Tree Regresser\n",
        "X_finaltest"
      ],
      "execution_count": null,
      "outputs": []
    },
    {
      "cell_type": "code",
      "metadata": {
        "id": "ozKn7p5kmz1D"
      },
      "source": [
        "# Fitting Decision Tree to the Training Set\n",
        "Algorithm.append('Decision Tree Regressor')\n",
        "clf = DecisionTreeRegressor()\n",
        "clf.fit(X_train, y_train)\n",
        "\n",
        "# Predicting the Test Set Results\n",
        "prediction = clf.predict(X_finaltest)\n",
        "print(len(prediction))\n",
        "dfTest['payment_delay_days']=prediction\n",
        "#dfCopyTest[\"clear_date\"]=(dfCopyTest[\"due_in_date\"])+timedelta(days=dfTest[\"payment_delay_days\"])\n",
        "#dfcopyTest\n"
      ],
      "execution_count": null,
      "outputs": []
    },
    {
      "cell_type": "code",
      "metadata": {
        "id": "h8cME6-QuQ1r"
      },
      "source": [
        "dfTest.head()"
      ],
      "execution_count": null,
      "outputs": []
    },
    {
      "cell_type": "code",
      "metadata": {
        "id": "qy_9o4FNBBee"
      },
      "source": [
        "\"\"\" The different Ageing buckets will be :\n",
        "● 0-15 days\n",
        "● 16-30 days\n",
        "● 31-45 days\n",
        "● 46-60 days\n",
        "● Greater than 60 days\"\"\""
      ],
      "execution_count": null,
      "outputs": []
    },
    {
      "cell_type": "code",
      "metadata": {
        "id": "MP9DWKp4CUL4"
      },
      "source": [
        "bins=[-60,15,30,45,60,1000]\n",
        "labels=[0,1,2,3,4]\n",
        "dfTest['bins']=pd.cut(dfTest['payment_delay_days'],bins=bins,labels=labels,include_lowest=False)"
      ],
      "execution_count": null,
      "outputs": []
    },
    {
      "cell_type": "code",
      "metadata": {
        "id": "lxOGIoyU9wAu"
      },
      "source": [
        "#import pandas as pd\n",
        "#dfcopyTest[\"clear_date\"]=(dfcopyTest[\"due_in_date\"])+timedelta(days=dfTest[\"payment_delay_days\"])\n",
        "#dfcopyTest=pd.dataFrame()\n",
        "\"\"\"\n",
        "for row in dfcopyTest.iterrows():\n",
        "  row[\"clear_date\"]=(rows[\"due_in_date\"])+timedelta(days=row[\"payment_delay_days\"])\"\"\""
      ],
      "execution_count": null,
      "outputs": []
    },
    {
      "cell_type": "code",
      "metadata": {
        "id": "Up9yd7eD-A1Y"
      },
      "source": [
        "dfTest.head()"
      ],
      "execution_count": null,
      "outputs": []
    },
    {
      "cell_type": "code",
      "metadata": {
        "id": "8GH-4tn606oA"
      },
      "source": [
        "dfTest.payment_delay_days.unique()"
      ],
      "execution_count": null,
      "outputs": []
    },
    {
      "cell_type": "code",
      "metadata": {
        "id": "D0XEL9dnD1Yl"
      },
      "source": [
        "dfTest.bins.unique()"
      ],
      "execution_count": null,
      "outputs": []
    },
    {
      "cell_type": "code",
      "metadata": {
        "id": "2wftr-m2ETkB"
      },
      "source": [
        "dfTest.bins"
      ],
      "execution_count": null,
      "outputs": []
    },
    {
      "cell_type": "code",
      "metadata": {
        "id": "oq4LWZ8sEVph"
      },
      "source": [
        "len(dfTest.bins.isna()) # all columns are allocated bags"
      ],
      "execution_count": null,
      "outputs": []
    },
    {
      "cell_type": "code",
      "metadata": {
        "id": "lDj1MUxZRdUx"
      },
      "source": [
        "from datetime import timedelta\n",
        "#clr_dates=dfcopyTest[\"clear_date\"].tolist()\n",
        "due_date=dfcopyTest[\"due_in_date\"].tolist()\n",
        "days_add=dfTest[\"payment_delay_days\"].tolist()\n",
        "#print(len(due_date))\n",
        "#print(len(days_add))\n",
        "\n",
        "for ind in range(len(due_date)):\n",
        "  #dfcopyTest[\"clear_date\"]\n",
        "  predictedPaymentDate=[]\n",
        "  datetimeObj = datetime.datetime.strptime(str((due_date[ind])+timedelta(days=days_add[ind])), '%Y-%m-%d %H:%M:%S')\n",
        "  #print(datetimeObj)\n",
        "\n",
        "  "
      ],
      "execution_count": null,
      "outputs": []
    },
    {
      "cell_type": "code",
      "metadata": {
        "id": "7y5MdyAMQw7O"
      },
      "source": [
        ""
      ],
      "execution_count": null,
      "outputs": []
    }
  ]
}